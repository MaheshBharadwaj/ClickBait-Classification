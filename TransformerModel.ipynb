{
  "nbformat": 4,
  "nbformat_minor": 0,
  "metadata": {
    "colab": {
      "name": "TransformerModel.ipynb",
      "provenance": [],
      "collapsed_sections": []
    },
    "kernelspec": {
      "name": "python3",
      "display_name": "Python 3"
    },
    "accelerator": "GPU"
  },
  "cells": [
    {
      "cell_type": "code",
      "metadata": {
        "id": "USHK_q_BZ2bt",
        "colab_type": "code",
        "colab": {}
      },
      "source": [
        "import math\n",
        "\n",
        "import re\n",
        "\n",
        "import time\n",
        "\n",
        "from google.colab import drive"
      ],
      "execution_count": 1,
      "outputs": []
    },
    {
      "cell_type": "code",
      "metadata": {
        "id": "Jz7wpYv8Z_3A",
        "colab_type": "code",
        "colab": {}
      },
      "source": [
        "try:\n",
        "    %tensorflow_version 2.x\n",
        "except:\n",
        "    pass\n",
        "import tensorflow as tf\n",
        "\n",
        "from tensorflow.keras import layers\n",
        "\n",
        "import tensorflow_datasets as tfds"
      ],
      "execution_count": 2,
      "outputs": []
    },
    {
      "cell_type": "code",
      "metadata": {
        "id": "v02ypy2SJ7fD",
        "colab_type": "code",
        "colab": {
          "base_uri": "https://localhost:8080/",
          "height": 108
        },
        "outputId": "941d8362-38c4-44e0-98bb-665e584a2586"
      },
      "source": [
        "import pandas as pd\n",
        "\n",
        "import numpy as np\n",
        "\n",
        "import h5py\n",
        "\n",
        "from gensim.models import Word2Vec\n",
        "\n",
        "import gensim.models\n",
        "\n",
        "from tensorflow import keras\n",
        "\n",
        "from tensorflow.keras.callbacks import ModelCheckpoint\n",
        "\n",
        "from tensorflow.keras.callbacks import EarlyStopping\n",
        "\n",
        "from tensorflow.keras.models import Sequential\n",
        "\n",
        "from sklearn.metrics import roc_auc_score\n",
        "\n",
        "from sklearn.metrics import classification_report\n",
        "\n",
        "from sklearn.metrics import confusion_matrix\n",
        "\n",
        "import matplotlib.pyplot as plt\n",
        "\n",
        "from sklearn.model_selection import StratifiedKFold\n",
        "\n",
        "from tensorflow.keras.layers import Dense\n",
        "\n",
        "from tensorflow.keras.layers import Embedding\n",
        "\n",
        "from tensorflow.keras.layers import Dropout\n",
        "\n",
        "from tensorflow.keras.layers import Activation\n",
        "\n",
        "from tensorflow.keras.layers import Bidirectional\n",
        "\n",
        "from tensorflow.keras.layers import LSTM\n",
        "\n",
        "from tensorflow.keras.layers import SimpleRNN\n",
        "\n",
        "from tensorflow.keras.layers import GRU\n",
        "\n",
        "from tensorflow.keras.preprocessing.sequence import pad_sequences \n",
        "\n",
        "import re\n",
        "\n",
        "from nltk.tokenize import word_tokenize\n",
        "\n",
        "import nltk\n",
        "\n",
        "from nltk.corpus import stopwords \n",
        "\n",
        "nltk.download('stopwords')\n",
        "\n",
        "nltk.download('punkt')"
      ],
      "execution_count": 3,
      "outputs": [
        {
          "output_type": "stream",
          "text": [
            "[nltk_data] Downloading package stopwords to /root/nltk_data...\n",
            "[nltk_data]   Package stopwords is already up-to-date!\n",
            "[nltk_data] Downloading package punkt to /root/nltk_data...\n",
            "[nltk_data]   Package punkt is already up-to-date!\n"
          ],
          "name": "stdout"
        },
        {
          "output_type": "execute_result",
          "data": {
            "text/plain": [
              "True"
            ]
          },
          "metadata": {
            "tags": []
          },
          "execution_count": 3
        }
      ]
    },
    {
      "cell_type": "code",
      "metadata": {
        "id": "dqlwjpEmaG8N",
        "colab_type": "code",
        "colab": {
          "base_uri": "https://localhost:8080/",
          "height": 35
        },
        "outputId": "00239e28-1b5a-4412-c554-1e29e853bc94"
      },
      "source": [
        "drive.mount(\"/content/drive\")"
      ],
      "execution_count": 4,
      "outputs": [
        {
          "output_type": "stream",
          "text": [
            "Drive already mounted at /content/drive; to attempt to forcibly remount, call drive.mount(\"/content/drive\", force_remount=True).\n"
          ],
          "name": "stdout"
        }
      ]
    },
    {
      "cell_type": "code",
      "metadata": {
        "id": "Jhf8Bo-PaI0l",
        "colab_type": "code",
        "colab": {}
      },
      "source": [
        "class MultiHeadSelfAttention(layers.Layer):\n",
        "    def __init__(self, embed_dim, num_heads=8):\n",
        "        super(MultiHeadSelfAttention, self).__init__()\n",
        "        self.embed_dim = embed_dim\n",
        "        self.num_heads = num_heads\n",
        "        if embed_dim % num_heads != 0:\n",
        "            raise ValueError(\n",
        "                f\"embedding dimension = {embed_dim} should be divisible by number of heads = {num_heads}\"\n",
        "            )\n",
        "        self.projection_dim = embed_dim // num_heads\n",
        "        self.query_dense = layers.Dense(embed_dim)\n",
        "        self.key_dense = layers.Dense(embed_dim)\n",
        "        self.value_dense = layers.Dense(embed_dim)\n",
        "        self.combine_heads = layers.Dense(embed_dim)\n",
        "\n",
        "    def attention(self, query, key, value):\n",
        "        score = tf.matmul(query, key, transpose_b=True)\n",
        "        dim_key = tf.cast(tf.shape(key)[-1], tf.float32)\n",
        "        scaled_score = score / tf.math.sqrt(dim_key)\n",
        "        weights = tf.nn.softmax(scaled_score, axis=-1)\n",
        "        output = tf.matmul(weights, value)\n",
        "        return output, weights\n",
        "\n",
        "    def separate_heads(self, x, batch_size):\n",
        "        x = tf.reshape(x, (batch_size, -1, self.num_heads, self.projection_dim))\n",
        "        return tf.transpose(x, perm=[0, 2, 1, 3])\n",
        "\n",
        "    def call(self, inputs):\n",
        "        # x.shape = [batch_size, seq_len, embedding_dim]\n",
        "        batch_size = tf.shape(inputs)[0]\n",
        "        query = self.query_dense(inputs)  # (batch_size, seq_len, embed_dim)\n",
        "        key = self.key_dense(inputs)  # (batch_size, seq_len, embed_dim)\n",
        "        value = self.value_dense(inputs)  # (batch_size, seq_len, embed_dim)\n",
        "        query = self.separate_heads(\n",
        "            query, batch_size\n",
        "        )  # (batch_size, num_heads, seq_len, projection_dim)\n",
        "        key = self.separate_heads(\n",
        "            key, batch_size\n",
        "        )  # (batch_size, num_heads, seq_len, projection_dim)\n",
        "        value = self.separate_heads(\n",
        "            value, batch_size\n",
        "        )  # (batch_size, num_heads, seq_len, projection_dim)\n",
        "        attention, weights = self.attention(query, key, value)\n",
        "        attention = tf.transpose(\n",
        "            attention, perm=[0, 2, 1, 3]\n",
        "        )  # (batch_size, seq_len, num_heads, projection_dim)\n",
        "        concat_attention = tf.reshape(\n",
        "            attention, (batch_size, -1, self.embed_dim)\n",
        "        )  # (batch_size, seq_len, embed_dim)\n",
        "        output = self.combine_heads(\n",
        "            concat_attention\n",
        "        )  # (batch_size, seq_len, embed_dim)\n",
        "        return output"
      ],
      "execution_count": 5,
      "outputs": []
    },
    {
      "cell_type": "code",
      "metadata": {
        "id": "MPMB3BcSaagU",
        "colab_type": "code",
        "colab": {}
      },
      "source": [
        "class TransformerBlock(layers.Layer):\n",
        "    def __init__(self, embed_dim, num_heads, ff_dim, rate=0.1):\n",
        "        super(TransformerBlock, self).__init__()\n",
        "        self.att = MultiHeadSelfAttention(embed_dim, num_heads)\n",
        "        self.ffn = keras.Sequential(\n",
        "            [layers.Dense(ff_dim, activation=\"relu\"), layers.Dense(embed_dim),]\n",
        "        )\n",
        "        self.layernorm1 = layers.LayerNormalization(epsilon=1e-6)\n",
        "        self.layernorm2 = layers.LayerNormalization(epsilon=1e-6)\n",
        "        self.dropout1 = layers.Dropout(rate)\n",
        "        self.dropout2 = layers.Dropout(rate)\n",
        "\n",
        "    def call(self, inputs, training):\n",
        "        attn_output = self.att(inputs)\n",
        "        attn_output = self.dropout1(attn_output, training=training)\n",
        "        out1 = self.layernorm1(inputs + attn_output)\n",
        "        ffn_output = self.ffn(out1)\n",
        "        ffn_output = self.dropout2(ffn_output, training=training)\n",
        "        return self.layernorm2(out1 + ffn_output)"
      ],
      "execution_count": 6,
      "outputs": []
    },
    {
      "cell_type": "code",
      "metadata": {
        "id": "AkrKSQAOTQ5K",
        "colab_type": "code",
        "colab": {}
      },
      "source": [
        "class TokenAndPositionEmbedding(layers.Layer):\n",
        "    def __init__(self, maxlen, vocab_size, embed_dim):\n",
        "        super(TokenAndPositionEmbedding, self).__init__()\n",
        "        self.token_emb = layers.Embedding(input_dim=vocab_size, output_dim=embed_dim)\n",
        "        self.pos_emb = layers.Embedding(input_dim=maxlen, output_dim=embed_dim)\n",
        "\n",
        "    def call(self, x):\n",
        "        maxlen = tf.shape(x)[-1]\n",
        "        positions = tf.range(start=0, limit=maxlen, delta=1)\n",
        "        positions = self.pos_emb(positions)\n",
        "        x = self.token_emb(x)\n",
        "        return x + positions"
      ],
      "execution_count": 7,
      "outputs": []
    },
    {
      "cell_type": "code",
      "metadata": {
        "id": "k2qYRxlPLQ7e",
        "colab_type": "code",
        "colab": {
          "base_uri": "https://localhost:8080/",
          "height": 237
        },
        "outputId": "a98e90b9-ff0c-4ca9-b482-744df95aaeb0"
      },
      "source": [
        "data_clickbait = pd . read_csv ('/content/drive/My Drive/clickbait_data' , sep = ' \\ n ' , header = None )\n",
        "\n",
        "data_noclickbait = pd . read_csv ('/content/drive/My Drive/non_clickbait_data' , sep = ' \\ n ' , header = None )\n",
        "\n",
        "data_clickbait = data_clickbait.sample(frac = 7.5/16)\n",
        "\n",
        "data_noclickbait = data_noclickbait.sample(frac = 7.5/16)\n",
        "\n",
        "data_clickbait['class'] = [1 for i in range(7500)]\n",
        "\n",
        "data_noclickbait['class'] = [0 for i in range(7500)] \n",
        "\n",
        "data_Final = pd . concat (( data_clickbait , data_noclickbait ), ignore_index = True ) \n",
        "\n",
        "df = data_Final . rename ( columns = { 0 : \"text\" })\n",
        "\n",
        "df = df . sample ( frac = 1 ). reset_index ( drop = True )\n",
        "\n",
        "print (df.shape)\n",
        "\n",
        "print (df.head(5))"
      ],
      "execution_count": 8,
      "outputs": [
        {
          "output_type": "stream",
          "text": [
            "/usr/local/lib/python3.6/dist-packages/ipykernel_launcher.py:1: ParserWarning: Falling back to the 'python' engine because the 'c' engine does not support regex separators (separators > 1 char and different from '\\s+' are interpreted as regex); you can avoid this warning by specifying engine='python'.\n",
            "  \"\"\"Entry point for launching an IPython kernel.\n",
            "/usr/local/lib/python3.6/dist-packages/ipykernel_launcher.py:3: ParserWarning: Falling back to the 'python' engine because the 'c' engine does not support regex separators (separators > 1 char and different from '\\s+' are interpreted as regex); you can avoid this warning by specifying engine='python'.\n",
            "  This is separate from the ipykernel package so we can avoid doing imports until\n"
          ],
          "name": "stderr"
        },
        {
          "output_type": "stream",
          "text": [
            "(15000, 2)\n",
            "                                                text  class\n",
            "0          Doctors Face Fiscal Squeeze for Treatment      0\n",
            "1  Controversy after leak of preliminary report i...      0\n",
            "2  19 Of The Stupidest Ways People Have Broken Th...      1\n",
            "3  18 Insanely Cute Gifts You Should Buy \"Your Pe...      1\n",
            "4  Tibetans demand that China release Panchen Lam...      0\n"
          ],
          "name": "stdout"
        }
      ]
    },
    {
      "cell_type": "code",
      "metadata": {
        "id": "H5era3Fq8kcV",
        "colab_type": "code",
        "colab": {}
      },
      "source": [
        ""
      ],
      "execution_count": 8,
      "outputs": []
    },
    {
      "cell_type": "code",
      "metadata": {
        "id": "ZnLozLaL5eNO",
        "colab_type": "code",
        "colab": {}
      },
      "source": [
        "data_clickbait['class'] = [1 for i in range(7500)]\n",
        "\n",
        "data_noclickbait['class'] = [0 for i in range(7500)] "
      ],
      "execution_count": 9,
      "outputs": []
    },
    {
      "cell_type": "code",
      "metadata": {
        "id": "JAOL3UC8LQ_6",
        "colab_type": "code",
        "colab": {
          "base_uri": "https://localhost:8080/",
          "height": 407
        },
        "outputId": "20c778c5-ead5-4f7e-c651-9c3958a322c4"
      },
      "source": [
        "df"
      ],
      "execution_count": 10,
      "outputs": [
        {
          "output_type": "execute_result",
          "data": {
            "text/html": [
              "<div>\n",
              "<style scoped>\n",
              "    .dataframe tbody tr th:only-of-type {\n",
              "        vertical-align: middle;\n",
              "    }\n",
              "\n",
              "    .dataframe tbody tr th {\n",
              "        vertical-align: top;\n",
              "    }\n",
              "\n",
              "    .dataframe thead th {\n",
              "        text-align: right;\n",
              "    }\n",
              "</style>\n",
              "<table border=\"1\" class=\"dataframe\">\n",
              "  <thead>\n",
              "    <tr style=\"text-align: right;\">\n",
              "      <th></th>\n",
              "      <th>text</th>\n",
              "      <th>class</th>\n",
              "    </tr>\n",
              "  </thead>\n",
              "  <tbody>\n",
              "    <tr>\n",
              "      <th>0</th>\n",
              "      <td>Doctors Face Fiscal Squeeze for Treatment</td>\n",
              "      <td>0</td>\n",
              "    </tr>\n",
              "    <tr>\n",
              "      <th>1</th>\n",
              "      <td>Controversy after leak of preliminary report i...</td>\n",
              "      <td>0</td>\n",
              "    </tr>\n",
              "    <tr>\n",
              "      <th>2</th>\n",
              "      <td>19 Of The Stupidest Ways People Have Broken Th...</td>\n",
              "      <td>1</td>\n",
              "    </tr>\n",
              "    <tr>\n",
              "      <th>3</th>\n",
              "      <td>18 Insanely Cute Gifts You Should Buy \"Your Pe...</td>\n",
              "      <td>1</td>\n",
              "    </tr>\n",
              "    <tr>\n",
              "      <th>4</th>\n",
              "      <td>Tibetans demand that China release Panchen Lam...</td>\n",
              "      <td>0</td>\n",
              "    </tr>\n",
              "    <tr>\n",
              "      <th>...</th>\n",
              "      <td>...</td>\n",
              "      <td>...</td>\n",
              "    </tr>\n",
              "    <tr>\n",
              "      <th>14995</th>\n",
              "      <td>Egyptian billionaire MP, former policeman to h...</td>\n",
              "      <td>0</td>\n",
              "    </tr>\n",
              "    <tr>\n",
              "      <th>14996</th>\n",
              "      <td>Wall Street Closes Lower as Global Forecast Dims</td>\n",
              "      <td>0</td>\n",
              "    </tr>\n",
              "    <tr>\n",
              "      <th>14997</th>\n",
              "      <td>19 Heartbreaking Confessions About Being Addic...</td>\n",
              "      <td>1</td>\n",
              "    </tr>\n",
              "    <tr>\n",
              "      <th>14998</th>\n",
              "      <td>Declassified records show American inaction du...</td>\n",
              "      <td>0</td>\n",
              "    </tr>\n",
              "    <tr>\n",
              "      <th>14999</th>\n",
              "      <td>Iran to launch its first nuclear power plant</td>\n",
              "      <td>0</td>\n",
              "    </tr>\n",
              "  </tbody>\n",
              "</table>\n",
              "<p>15000 rows × 2 columns</p>\n",
              "</div>"
            ],
            "text/plain": [
              "                                                    text  class\n",
              "0              Doctors Face Fiscal Squeeze for Treatment      0\n",
              "1      Controversy after leak of preliminary report i...      0\n",
              "2      19 Of The Stupidest Ways People Have Broken Th...      1\n",
              "3      18 Insanely Cute Gifts You Should Buy \"Your Pe...      1\n",
              "4      Tibetans demand that China release Panchen Lam...      0\n",
              "...                                                  ...    ...\n",
              "14995  Egyptian billionaire MP, former policeman to h...      0\n",
              "14996   Wall Street Closes Lower as Global Forecast Dims      0\n",
              "14997  19 Heartbreaking Confessions About Being Addic...      1\n",
              "14998  Declassified records show American inaction du...      0\n",
              "14999       Iran to launch its first nuclear power plant      0\n",
              "\n",
              "[15000 rows x 2 columns]"
            ]
          },
          "metadata": {
            "tags": []
          },
          "execution_count": 10
        }
      ]
    },
    {
      "cell_type": "code",
      "metadata": {
        "id": "C_lIK37sLRCs",
        "colab_type": "code",
        "colab": {}
      },
      "source": [
        "#### WORD2VEC_VECTORS_BIN  =  '/content/drive/My Drive/GoogleNews-vectors-negative300.bin'\n",
        "\n",
        "#### w2v  =  gensim . models . KeyedVectors . load_word2vec_format ( WORD2VEC_VECTORS_BIN , binary = True )"
      ],
      "execution_count": 11,
      "outputs": []
    },
    {
      "cell_type": "code",
      "metadata": {
        "id": "sO26tNpVlB_O",
        "colab_type": "code",
        "colab": {}
      },
      "source": [
        "stop_words  =  set ( stopwords . words ( 'english' ))"
      ],
      "execution_count": 12,
      "outputs": []
    },
    {
      "cell_type": "code",
      "metadata": {
        "id": "a1BNOWa7qzaG",
        "colab_type": "code",
        "colab": {}
      },
      "source": [
        "from sklearn.model_selection import train_test_split"
      ],
      "execution_count": 13,
      "outputs": []
    },
    {
      "cell_type": "code",
      "metadata": {
        "id": "flLKEr3TLRFU",
        "colab_type": "code",
        "colab": {}
      },
      "source": [
        "L = []\n",
        "for  i , token  in  enumerate ( df [ 'text' ]):\n",
        "    words = [ w  for  w  in  token . split () if  not  w  in  stop_words ]\n",
        "    L . append ( len ( words ))\n",
        "    \n",
        "sequence_size = max ( L )\n",
        "\n",
        "## separate data non-randomly to avoid having a problem during cross validation due to indexes\n",
        "\n",
        "X = df['text']\n",
        "\n",
        "y = df['class']\n",
        "\n",
        "X_train, X_test, y_train, y_test = train_test_split(X , y, test_size = 0.2, random_state = 42)\n",
        "\n",
        "X_train, X_val, y_train, y_val = train_test_split(X_train, y_train, test_size = 0.25, random_state = 42)"
      ],
      "execution_count": 14,
      "outputs": []
    },
    {
      "cell_type": "code",
      "metadata": {
        "id": "Y08YLJ5Dz8N7",
        "colab_type": "code",
        "colab": {}
      },
      "source": [
        "y_train = np.array(y_train)\n",
        "\n",
        "y_test = np.array(y_test)\n",
        "\n",
        "y_val = np.array(y_val)"
      ],
      "execution_count": 15,
      "outputs": []
    },
    {
      "cell_type": "code",
      "metadata": {
        "id": "j3SQzvbG59ep",
        "colab_type": "code",
        "colab": {
          "base_uri": "https://localhost:8080/",
          "height": 35
        },
        "outputId": "1bd8fffb-f3cc-4db9-fcaa-451bfd35c8b4"
      },
      "source": [
        "y_train.shape"
      ],
      "execution_count": 16,
      "outputs": [
        {
          "output_type": "execute_result",
          "data": {
            "text/plain": [
              "(9000,)"
            ]
          },
          "metadata": {
            "tags": []
          },
          "execution_count": 16
        }
      ]
    },
    {
      "cell_type": "code",
      "metadata": {
        "id": "xafxs8yCbtf3",
        "colab_type": "code",
        "colab": {
          "base_uri": "https://localhost:8080/",
          "height": 35
        },
        "outputId": "e869ce5b-9d53-4c24-f7d9-04272bd35852"
      },
      "source": [
        "from keras.preprocessing.text import Tokenizer \n",
        "\n",
        "tokenizer = Tokenizer(num_words = sequence_size)\n",
        "\n",
        "tokenizer.fit_on_texts(X_train)\n",
        "\n",
        "sequences = tokenizer.texts_to_sequences(X_train)\n",
        "\n",
        "train_data = pad_sequences(sequences, maxlen = sequence_size , padding='post')\n",
        "\n",
        "tokenizer.fit_on_texts(X_test)\n",
        "\n",
        "sequences = tokenizer.texts_to_sequences(X_test)\n",
        "\n",
        "test_data = pad_sequences(sequences, maxlen = sequence_size , padding='post')\n",
        "\n",
        "sequences = tokenizer.texts_to_sequences(X_val)\n",
        "\n",
        "val_data = pad_sequences(sequences, maxlen = sequence_size , padding='post')"
      ],
      "execution_count": 17,
      "outputs": [
        {
          "output_type": "stream",
          "text": [
            "Using TensorFlow backend.\n"
          ],
          "name": "stderr"
        }
      ]
    },
    {
      "cell_type": "code",
      "metadata": {
        "id": "YAz_--VkizxJ",
        "colab_type": "code",
        "colab": {
          "base_uri": "https://localhost:8080/",
          "height": 526
        },
        "outputId": "fe93a9da-ac7b-428a-fc2d-36138165b9d0"
      },
      "source": [
        "embed_dim = 300  # Embedding size for each token\n",
        "num_heads = 2  # Number of attention heads\n",
        "ff_dim = 32\n",
        "\n",
        "inputs = layers.Input(shape = (sequence_size,))\n",
        "\n",
        "embedding_layer = TokenAndPositionEmbedding(sequence_size,len(tokenizer.word_index) + 1 , embed_dim)\n",
        "\n",
        "x = embedding_layer(inputs)\n",
        "\n",
        "transformer_block = TransformerBlock(300, num_heads, ff_dim)\n",
        "\n",
        "x = transformer_block(x)\n",
        "\n",
        "x = layers.GlobalAveragePooling1D()(x)\n",
        "\n",
        "x = layers.Dropout(0.1)(x)\n",
        "\n",
        "x = layers.Dense(512, activation=\"sigmoid\")(x)\n",
        "\n",
        "x = layers.Dropout(0.1)(x)\n",
        "\n",
        "x = layers.Dense(256, activation=\"relu\")(x)\n",
        "\n",
        "x = layers.Dropout(0.1)(x)\n",
        "\n",
        "outputs = layers.Dense(1, activation=\"sigmoid\")(x)\n",
        "\n",
        "model = keras.Model(inputs = inputs, outputs = outputs)\n",
        "\n",
        "model.summary()\n",
        "\n",
        "model.compile(loss = 'binary_crossentropy' , optimizer = 'adam' , metrics = ['accuracy'])"
      ],
      "execution_count": 18,
      "outputs": [
        {
          "output_type": "stream",
          "text": [
            "Model: \"model\"\n",
            "_________________________________________________________________\n",
            "Layer (type)                 Output Shape              Param #   \n",
            "=================================================================\n",
            "input_1 (InputLayer)         [(None, 26)]              0         \n",
            "_________________________________________________________________\n",
            "token_and_position_embedding (None, 26, 300)           4519500   \n",
            "_________________________________________________________________\n",
            "transformer_block (Transform (None, 26, 300)           381932    \n",
            "_________________________________________________________________\n",
            "global_average_pooling1d (Gl (None, 300)               0         \n",
            "_________________________________________________________________\n",
            "dropout_2 (Dropout)          (None, 300)               0         \n",
            "_________________________________________________________________\n",
            "dense_6 (Dense)              (None, 512)               154112    \n",
            "_________________________________________________________________\n",
            "dropout_3 (Dropout)          (None, 512)               0         \n",
            "_________________________________________________________________\n",
            "dense_7 (Dense)              (None, 256)               131328    \n",
            "_________________________________________________________________\n",
            "dropout_4 (Dropout)          (None, 256)               0         \n",
            "_________________________________________________________________\n",
            "dense_8 (Dense)              (None, 1)                 257       \n",
            "=================================================================\n",
            "Total params: 5,187,129\n",
            "Trainable params: 5,187,129\n",
            "Non-trainable params: 0\n",
            "_________________________________________________________________\n"
          ],
          "name": "stdout"
        }
      ]
    },
    {
      "cell_type": "code",
      "metadata": {
        "id": "26aGWWGaqI7K",
        "colab_type": "code",
        "colab": {
          "base_uri": "https://localhost:8080/",
          "height": 745
        },
        "outputId": "9cc2eefa-05e8-451d-e90b-6fd645720342"
      },
      "source": [
        "history = model.fit(train_data , y_train , batch_size = 64 , epochs = 20 , validation_data = (val_data , y_val), verbose = 1)"
      ],
      "execution_count": 19,
      "outputs": [
        {
          "output_type": "stream",
          "text": [
            "Epoch 1/20\n",
            "141/141 [==============================] - 7s 53ms/step - loss: 0.5539 - accuracy: 0.6926 - val_loss: 0.4502 - val_accuracy: 0.8197\n",
            "Epoch 2/20\n",
            "141/141 [==============================] - 7s 50ms/step - loss: 0.3737 - accuracy: 0.8454 - val_loss: 0.4760 - val_accuracy: 0.8173\n",
            "Epoch 3/20\n",
            "141/141 [==============================] - 7s 50ms/step - loss: 0.3689 - accuracy: 0.8457 - val_loss: 0.5179 - val_accuracy: 0.8163\n",
            "Epoch 4/20\n",
            "141/141 [==============================] - 7s 49ms/step - loss: 0.3669 - accuracy: 0.8451 - val_loss: 0.5091 - val_accuracy: 0.8173\n",
            "Epoch 5/20\n",
            "141/141 [==============================] - 7s 49ms/step - loss: 0.3642 - accuracy: 0.8461 - val_loss: 0.4914 - val_accuracy: 0.8193\n",
            "Epoch 6/20\n",
            "141/141 [==============================] - 7s 50ms/step - loss: 0.3610 - accuracy: 0.8486 - val_loss: 0.5535 - val_accuracy: 0.8203\n",
            "Epoch 7/20\n",
            "141/141 [==============================] - 7s 50ms/step - loss: 0.3623 - accuracy: 0.8542 - val_loss: 0.5512 - val_accuracy: 0.8207\n",
            "Epoch 8/20\n",
            "141/141 [==============================] - 7s 51ms/step - loss: 0.3599 - accuracy: 0.8487 - val_loss: 0.5049 - val_accuracy: 0.8170\n",
            "Epoch 9/20\n",
            "141/141 [==============================] - 7s 49ms/step - loss: 0.3619 - accuracy: 0.8504 - val_loss: 0.4383 - val_accuracy: 0.8257\n",
            "Epoch 10/20\n",
            "141/141 [==============================] - 7s 49ms/step - loss: 0.3607 - accuracy: 0.8499 - val_loss: 0.4570 - val_accuracy: 0.8227\n",
            "Epoch 11/20\n",
            "141/141 [==============================] - 7s 49ms/step - loss: 0.3568 - accuracy: 0.8510 - val_loss: 0.4633 - val_accuracy: 0.8247\n",
            "Epoch 12/20\n",
            "141/141 [==============================] - 7s 49ms/step - loss: 0.3577 - accuracy: 0.8497 - val_loss: 0.4439 - val_accuracy: 0.8260\n",
            "Epoch 13/20\n",
            "141/141 [==============================] - 7s 48ms/step - loss: 0.3574 - accuracy: 0.8526 - val_loss: 0.4508 - val_accuracy: 0.8000\n",
            "Epoch 14/20\n",
            "141/141 [==============================] - 7s 49ms/step - loss: 0.3567 - accuracy: 0.8499 - val_loss: 0.5790 - val_accuracy: 0.8250\n",
            "Epoch 15/20\n",
            "141/141 [==============================] - 7s 49ms/step - loss: 0.3552 - accuracy: 0.8513 - val_loss: 0.4308 - val_accuracy: 0.8253\n",
            "Epoch 16/20\n",
            "141/141 [==============================] - 7s 49ms/step - loss: 0.3564 - accuracy: 0.8496 - val_loss: 0.5428 - val_accuracy: 0.8237\n",
            "Epoch 17/20\n",
            "141/141 [==============================] - 7s 48ms/step - loss: 0.3594 - accuracy: 0.8517 - val_loss: 0.4745 - val_accuracy: 0.8207\n",
            "Epoch 18/20\n",
            "141/141 [==============================] - 7s 48ms/step - loss: 0.3545 - accuracy: 0.8506 - val_loss: 0.4366 - val_accuracy: 0.8263\n",
            "Epoch 19/20\n",
            "141/141 [==============================] - 7s 49ms/step - loss: 0.3559 - accuracy: 0.8520 - val_loss: 0.4956 - val_accuracy: 0.8217\n",
            "Epoch 20/20\n",
            "141/141 [==============================] - 7s 49ms/step - loss: 0.3541 - accuracy: 0.8523 - val_loss: 0.4547 - val_accuracy: 0.8240\n"
          ],
          "name": "stdout"
        }
      ]
    },
    {
      "cell_type": "code",
      "metadata": {
        "id": "L0Y8jx9kyCLR",
        "colab_type": "code",
        "colab": {}
      },
      "source": [
        "y_pred = model.predict(test_data)"
      ],
      "execution_count": 31,
      "outputs": []
    },
    {
      "cell_type": "code",
      "metadata": {
        "id": "kEV-ebQfAVW6",
        "colab_type": "code",
        "colab": {
          "base_uri": "https://localhost:8080/",
          "height": 145
        },
        "outputId": "c9d3063d-8fc0-4592-9e1a-687e40290ca2"
      },
      "source": [
        "y_pred"
      ],
      "execution_count": 32,
      "outputs": [
        {
          "output_type": "execute_result",
          "data": {
            "text/plain": [
              "array([[0.61086625],\n",
              "       [0.9912021 ],\n",
              "       [0.23144731],\n",
              "       ...,\n",
              "       [0.12325965],\n",
              "       [0.9878023 ],\n",
              "       [0.98468184]], dtype=float32)"
            ]
          },
          "metadata": {
            "tags": []
          },
          "execution_count": 32
        }
      ]
    },
    {
      "cell_type": "code",
      "metadata": {
        "id": "n4ezvq0VAbCB",
        "colab_type": "code",
        "colab": {}
      },
      "source": [
        "for i in range(y_pred.shape[0]) :\n",
        "\n",
        "  if y_pred[i][0] >= 0.5 :\n",
        "\n",
        "    y_pred[i][0] = 1\n",
        "\n",
        "  else :\n",
        "\n",
        "    y_pred[i][0] = 0\n"
      ],
      "execution_count": 39,
      "outputs": []
    },
    {
      "cell_type": "code",
      "metadata": {
        "id": "4myLb62zAesv",
        "colab_type": "code",
        "colab": {}
      },
      "source": [
        "y_pred = y_pred.astype('int64')"
      ],
      "execution_count": 41,
      "outputs": []
    },
    {
      "cell_type": "code",
      "metadata": {
        "id": "JTjHCEDcBjlL",
        "colab_type": "code",
        "colab": {
          "base_uri": "https://localhost:8080/",
          "height": 145
        },
        "outputId": "d148cdc4-f06c-4a5d-ae43-91899bd12073"
      },
      "source": [
        "y_pred"
      ],
      "execution_count": 42,
      "outputs": [
        {
          "output_type": "execute_result",
          "data": {
            "text/plain": [
              "array([[1],\n",
              "       [1],\n",
              "       [0],\n",
              "       ...,\n",
              "       [0],\n",
              "       [1],\n",
              "       [1]])"
            ]
          },
          "metadata": {
            "tags": []
          },
          "execution_count": 42
        }
      ]
    },
    {
      "cell_type": "code",
      "metadata": {
        "id": "h6JwGPki6ryw",
        "colab_type": "code",
        "colab": {}
      },
      "source": [
        "y_test = y_test.reshape(-1,1)"
      ],
      "execution_count": 43,
      "outputs": []
    },
    {
      "cell_type": "code",
      "metadata": {
        "id": "PImeRddd2pUO",
        "colab_type": "code",
        "colab": {
          "base_uri": "https://localhost:8080/",
          "height": 326
        },
        "outputId": "3482378d-ea7f-4a8c-8d67-382a9ec4d971"
      },
      "source": [
        "metrics  =  classification_report (y_test , y_pred)\n",
        "\n",
        "print ('Classification Report ')\n",
        "\n",
        "print(\"\\n\")\n",
        "\n",
        "print (metrics)\n",
        "\n",
        "cm  =  confusion_matrix (y_test,y_pred)\n",
        "\n",
        "print ('Confusion Matrix')\n",
        "\n",
        "print(\"\\n\")\n",
        "\n",
        "print (cm)"
      ],
      "execution_count": 44,
      "outputs": [
        {
          "output_type": "stream",
          "text": [
            "Classification Report \n",
            "\n",
            "\n",
            "              precision    recall  f1-score   support\n",
            "\n",
            "           0       0.81      0.83      0.82      1484\n",
            "           1       0.83      0.80      0.82      1516\n",
            "\n",
            "    accuracy                           0.82      3000\n",
            "   macro avg       0.82      0.82      0.82      3000\n",
            "weighted avg       0.82      0.82      0.82      3000\n",
            "\n",
            "Confusion Matrix\n",
            "\n",
            "\n",
            "[[1236  248]\n",
            " [ 299 1217]]\n"
          ],
          "name": "stdout"
        }
      ]
    },
    {
      "cell_type": "code",
      "metadata": {
        "id": "R9Rdv4utyCU8",
        "colab_type": "code",
        "colab": {
          "base_uri": "https://localhost:8080/",
          "height": 295
        },
        "outputId": "a0abfb3f-cb6f-4189-cdd5-96321b338dac"
      },
      "source": [
        "plt.plot(history.history['accuracy'])\n",
        "plt.plot(history.history['val_accuracy'])\n",
        "plt.title('Model accuracy')\n",
        "plt.ylabel('Accuracy')\n",
        "plt.xlabel('Epoch')\n",
        "plt.legend(['Training', 'Validation'], loc='lower right')\n",
        "plt.show()"
      ],
      "execution_count": 45,
      "outputs": [
        {
          "output_type": "display_data",
          "data": {
            "image/png": "[encoded data removed]",
            "text/plain": [
              "<Figure size 432x288 with 1 Axes>"
            ]
          },
          "metadata": {
            "tags": [],
            "needs_background": "light"
          }
        }
      ]
    },
    {
      "cell_type": "code",
      "metadata": {
        "id": "aMXJ40lMyGM6",
        "colab_type": "code",
        "colab": {
          "base_uri": "https://localhost:8080/",
          "height": 295
        },
        "outputId": "50e0df6e-6968-4bb9-aae7-25016f94a92e"
      },
      "source": [
        "plt.plot(history.history['loss'], label='Training data')\n",
        "plt.plot(history.history['val_loss'], label='Validation data')\n",
        "plt.title('Loss')\n",
        "plt.ylabel('Loss value')\n",
        "plt.xlabel('No. epoch')\n",
        "plt.legend(loc=\"upper left\")\n",
        "plt.show()"
      ],
      "execution_count": 46,
      "outputs": [
        {
          "output_type": "display_data",
          "data": {
            "image/png": "[encoded data removed]",
            "text/plain": [
              "<Figure size 432x288 with 1 Axes>"
            ]
          },
          "metadata": {
            "tags": [],
            "needs_background": "light"
          }
        }
      ]
    }
  ]
}