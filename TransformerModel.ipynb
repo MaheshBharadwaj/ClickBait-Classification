{
  "nbformat": 4,
  "nbformat_minor": 0,
  "metadata": {
    "colab": {
      "name": "TransformerModel",
      "provenance": []
    },
    "kernelspec": {
      "name": "python3",
      "display_name": "Python 3"
    },
    "accelerator": "GPU"
  },
  "cells": [
    {
      "cell_type": "code",
      "metadata": {
        "id": "lBnaYLtyZcJF",
        "colab_type": "code",
        "colab": {}
      },
      "source": [
        "import math\n",
        "\n",
        "import re\n",
        "\n",
        "import time\n",
        "\n",
        "from google.colab import drive"
      ],
      "execution_count": 1,
      "outputs": []
    },
    {
      "cell_type": "code",
      "metadata": {
        "id": "BInxdKa5ZfXj",
        "colab_type": "code",
        "colab": {}
      },
      "source": [
        "\n",
        "try:\n",
        "    %tensorflow_version 2.x\n",
        "except:\n",
        "    pass\n",
        "import tensorflow as tf\n",
        "\n",
        "from tensorflow.keras import layers\n",
        "\n",
        "import tensorflow_datasets as tfds"
      ],
      "execution_count": 2,
      "outputs": []
    },
    {
      "cell_type": "code",
      "metadata": {
        "id": "WO_Q8mg8Zg9C",
        "colab_type": "code",
        "colab": {
          "base_uri": "https://localhost:8080/",
          "height": 68
        },
        "outputId": "d23d5262-1ea0-4c7b-bb89-5fff0443550a"
      },
      "source": [
        "import pandas as pd\n",
        "\n",
        "import numpy as np\n",
        "\n",
        "import h5py\n",
        "\n",
        "from gensim.models import Word2Vec\n",
        "\n",
        "import gensim.models\n",
        "\n",
        "from tensorflow import keras\n",
        "\n",
        "from tensorflow.keras.callbacks import ModelCheckpoint\n",
        "\n",
        "from tensorflow.keras.callbacks import EarlyStopping\n",
        "\n",
        "from tensorflow.keras.models import Sequential\n",
        "\n",
        "from sklearn.metrics import roc_auc_score\n",
        "\n",
        "from sklearn.metrics import classification_report\n",
        "\n",
        "from sklearn.metrics import confusion_matrix\n",
        "\n",
        "import matplotlib.pyplot as plt\n",
        "\n",
        "from sklearn.model_selection import StratifiedKFold\n",
        "\n",
        "from tensorflow.keras.layers import Dense\n",
        "\n",
        "from tensorflow.keras.layers import Embedding\n",
        "\n",
        "from tensorflow.keras.layers import Dropout\n",
        "\n",
        "from tensorflow.keras.layers import Activation\n",
        "\n",
        "from tensorflow.keras.layers import Bidirectional\n",
        "\n",
        "from tensorflow.keras.layers import LSTM\n",
        "\n",
        "from tensorflow.keras.layers import SimpleRNN\n",
        "\n",
        "from tensorflow.keras.layers import GRU\n",
        "\n",
        "from tensorflow.keras.preprocessing.sequence import pad_sequences \n",
        "\n",
        "import re\n",
        "\n",
        "from nltk.tokenize import word_tokenize\n",
        "\n",
        "import nltk\n",
        "\n",
        "from nltk.corpus import stopwords \n",
        "\n",
        "nltk.download('stopwords')\n"
      ],
      "execution_count": 3,
      "outputs": [
        {
          "output_type": "stream",
          "text": [
            "[nltk_data] Downloading package stopwords to /root/nltk_data...\n",
            "[nltk_data]   Package stopwords is already up-to-date!\n"
          ],
          "name": "stdout"
        },
        {
          "output_type": "execute_result",
          "data": {
            "text/plain": [
              "True"
            ]
          },
          "metadata": {
            "tags": []
          },
          "execution_count": 3
        }
      ]
    },
    {
      "cell_type": "code",
      "metadata": {
        "id": "GLUjgjw4Zizy",
        "colab_type": "code",
        "colab": {
          "base_uri": "https://localhost:8080/",
          "height": 34
        },
        "outputId": "8d36a6a0-482a-441c-8462-87cbe3fba04a"
      },
      "source": [
        "drive.mount(\"/content/drive\")"
      ],
      "execution_count": 4,
      "outputs": [
        {
          "output_type": "stream",
          "text": [
            "Drive already mounted at /content/drive; to attempt to forcibly remount, call drive.mount(\"/content/drive\", force_remount=True).\n"
          ],
          "name": "stdout"
        }
      ]
    },
    {
      "cell_type": "code",
      "metadata": {
        "id": "rEFUAQycZl9q",
        "colab_type": "code",
        "colab": {
          "base_uri": "https://localhost:8080/",
          "height": 226
        },
        "outputId": "9dfce50f-facb-4595-ec49-75eb9c949325"
      },
      "source": [
        "data_clickbait = pd . read_csv ('/content/drive/My Drive/clickbait_data' , sep = ' \\ n ' , header = None )\n",
        "\n",
        "data_noclickbait = pd . read_csv ('/content/drive/My Drive/non_clickbait_data' , sep = ' \\ n ' , header = None )\n",
        "\n",
        "data_clickbait = data_clickbait.sample(frac = 7.5/16)\n",
        "\n",
        "data_noclickbait = data_noclickbait.sample(frac = 7.5/16)\n",
        "\n",
        "data_clickbait['class'] = [1 for i in range(7500)]\n",
        "\n",
        "data_noclickbait['class'] = [0 for i in range(7500)] \n",
        "\n",
        "data_Final = pd . concat (( data_clickbait , data_noclickbait ), ignore_index = True ) \n",
        "\n",
        "df = data_Final . rename ( columns = { 0 : \"text\" })\n",
        "\n",
        "df = df . sample ( frac = 1 ). reset_index ( drop = True )\n",
        "\n",
        "print (df.shape)\n",
        "\n",
        "print (df.head(5))"
      ],
      "execution_count": 5,
      "outputs": [
        {
          "output_type": "stream",
          "text": [
            "/usr/local/lib/python3.6/dist-packages/ipykernel_launcher.py:1: ParserWarning: Falling back to the 'python' engine because the 'c' engine does not support regex separators (separators > 1 char and different from '\\s+' are interpreted as regex); you can avoid this warning by specifying engine='python'.\n",
            "  \"\"\"Entry point for launching an IPython kernel.\n",
            "/usr/local/lib/python3.6/dist-packages/ipykernel_launcher.py:3: ParserWarning: Falling back to the 'python' engine because the 'c' engine does not support regex separators (separators > 1 char and different from '\\s+' are interpreted as regex); you can avoid this warning by specifying engine='python'.\n",
            "  This is separate from the ipykernel package so we can avoid doing imports until\n"
          ],
          "name": "stderr"
        },
        {
          "output_type": "stream",
          "text": [
            "(15000, 2)\n",
            "                                                text  class\n",
            "0  Emma Stone Is The Music Video Queen We've Alwa...      1\n",
            "1            Malaysia: Premier Announces Resignation      0\n",
            "2  Independent presidential candidates debate thi...      0\n",
            "3                           UK to ban Islamist group      0\n",
            "4  Football Aside, Tom Brady Takes Some Really Cu...      1\n"
          ],
          "name": "stdout"
        }
      ]
    },
    {
      "cell_type": "code",
      "metadata": {
        "id": "mq2HOMXrZ4Lx",
        "colab_type": "code",
        "colab": {
          "base_uri": "https://localhost:8080/",
          "height": 398
        },
        "outputId": "4bea24bc-0569-47a8-dfd7-15271adf7c68"
      },
      "source": [
        "df"
      ],
      "execution_count": 6,
      "outputs": [
        {
          "output_type": "execute_result",
          "data": {
            "text/html": [
              "<div>\n",
              "<style scoped>\n",
              "    .dataframe tbody tr th:only-of-type {\n",
              "        vertical-align: middle;\n",
              "    }\n",
              "\n",
              "    .dataframe tbody tr th {\n",
              "        vertical-align: top;\n",
              "    }\n",
              "\n",
              "    .dataframe thead th {\n",
              "        text-align: right;\n",
              "    }\n",
              "</style>\n",
              "<table border=\"1\" class=\"dataframe\">\n",
              "  <thead>\n",
              "    <tr style=\"text-align: right;\">\n",
              "      <th></th>\n",
              "      <th>text</th>\n",
              "      <th>class</th>\n",
              "    </tr>\n",
              "  </thead>\n",
              "  <tbody>\n",
              "    <tr>\n",
              "      <th>0</th>\n",
              "      <td>Emma Stone Is The Music Video Queen We've Alwa...</td>\n",
              "      <td>1</td>\n",
              "    </tr>\n",
              "    <tr>\n",
              "      <th>1</th>\n",
              "      <td>Malaysia: Premier Announces Resignation</td>\n",
              "      <td>0</td>\n",
              "    </tr>\n",
              "    <tr>\n",
              "      <th>2</th>\n",
              "      <td>Independent presidential candidates debate thi...</td>\n",
              "      <td>0</td>\n",
              "    </tr>\n",
              "    <tr>\n",
              "      <th>3</th>\n",
              "      <td>UK to ban Islamist group</td>\n",
              "      <td>0</td>\n",
              "    </tr>\n",
              "    <tr>\n",
              "      <th>4</th>\n",
              "      <td>Football Aside, Tom Brady Takes Some Really Cu...</td>\n",
              "      <td>1</td>\n",
              "    </tr>\n",
              "    <tr>\n",
              "      <th>...</th>\n",
              "      <td>...</td>\n",
              "      <td>...</td>\n",
              "    </tr>\n",
              "    <tr>\n",
              "      <th>14995</th>\n",
              "      <td>15 Amazing Women You Should Know Better</td>\n",
              "      <td>1</td>\n",
              "    </tr>\n",
              "    <tr>\n",
              "      <th>14996</th>\n",
              "      <td>Dan Rather resigns as anchor, to stay on as co...</td>\n",
              "      <td>0</td>\n",
              "    </tr>\n",
              "    <tr>\n",
              "      <th>14997</th>\n",
              "      <td>At the Open, Rain Tops the Leader Board</td>\n",
              "      <td>0</td>\n",
              "    </tr>\n",
              "    <tr>\n",
              "      <th>14998</th>\n",
              "      <td>Bush calls for congress to make more money ava...</td>\n",
              "      <td>0</td>\n",
              "    </tr>\n",
              "    <tr>\n",
              "      <th>14999</th>\n",
              "      <td>How Much Of Your Soul Has Been Destroyed By Wo...</td>\n",
              "      <td>1</td>\n",
              "    </tr>\n",
              "  </tbody>\n",
              "</table>\n",
              "<p>15000 rows × 2 columns</p>\n",
              "</div>"
            ],
            "text/plain": [
              "                                                    text  class\n",
              "0      Emma Stone Is The Music Video Queen We've Alwa...      1\n",
              "1                Malaysia: Premier Announces Resignation      0\n",
              "2      Independent presidential candidates debate thi...      0\n",
              "3                               UK to ban Islamist group      0\n",
              "4      Football Aside, Tom Brady Takes Some Really Cu...      1\n",
              "...                                                  ...    ...\n",
              "14995            15 Amazing Women You Should Know Better      1\n",
              "14996  Dan Rather resigns as anchor, to stay on as co...      0\n",
              "14997            At the Open, Rain Tops the Leader Board      0\n",
              "14998  Bush calls for congress to make more money ava...      0\n",
              "14999  How Much Of Your Soul Has Been Destroyed By Wo...      1\n",
              "\n",
              "[15000 rows x 2 columns]"
            ]
          },
          "metadata": {
            "tags": []
          },
          "execution_count": 6
        }
      ]
    },
    {
      "cell_type": "code",
      "metadata": {
        "id": "VyA7JmVAZ50Z",
        "colab_type": "code",
        "colab": {}
      },
      "source": [
        "stop_words  =  set ( stopwords . words ( 'english' ))"
      ],
      "execution_count": 7,
      "outputs": []
    },
    {
      "cell_type": "code",
      "metadata": {
        "id": "87wv0ADBZ7tq",
        "colab_type": "code",
        "colab": {}
      },
      "source": [
        "from sklearn.model_selection import train_test_split\n",
        "\n",
        "L = []\n",
        "for  i , token  in  enumerate ( df [ 'text' ]):\n",
        "    words = [ w  for  w  in  token . split () if  not  w  in  stop_words ]\n",
        "    L . append ( len ( words ))\n",
        "    \n",
        "sequence_size = max ( L )\n",
        "\n",
        "\n",
        "X = df['text']\n",
        "\n",
        "y = df['class']\n",
        "\n",
        "X_train, X_test, y_train, y_test = train_test_split(X , y, test_size = 0.2, random_state = 42)\n",
        "\n",
        "X_train, X_val, y_train, y_val = train_test_split(X_train, y_train, test_size = 0.25, random_state = 42)"
      ],
      "execution_count": 8,
      "outputs": []
    },
    {
      "cell_type": "code",
      "metadata": {
        "id": "8J-6KN_ZZ9dp",
        "colab_type": "code",
        "colab": {}
      },
      "source": [
        "y_train = np.array(y_train)\n",
        "\n",
        "y_test = np.array(y_test)\n",
        "\n",
        "y_val = np.array(y_val)"
      ],
      "execution_count": 10,
      "outputs": []
    },
    {
      "cell_type": "code",
      "metadata": {
        "id": "OM9dY7aUZ_Pq",
        "colab_type": "code",
        "colab": {
          "base_uri": "https://localhost:8080/",
          "height": 34
        },
        "outputId": "8bd4d0f7-c993-4e9f-e3ba-c68bab1f126f"
      },
      "source": [
        "from keras.preprocessing.text import Tokenizer \n",
        "\n",
        "tokenizer = Tokenizer(num_words = sequence_size)\n",
        "\n",
        "tokenizer.fit_on_texts(X_train)\n",
        "\n",
        "sequences_1 = tokenizer.texts_to_sequences(X_train)\n",
        "\n",
        "train_data = pad_sequences(sequences_1, maxlen = sequence_size , padding = 'post')\n",
        "\n",
        "tokenizer.fit_on_texts(X_test)\n",
        "\n",
        "sequences_2 = tokenizer.texts_to_sequences(X_test)\n",
        "\n",
        "test_data = pad_sequences(sequences_2, maxlen = sequence_size , padding = 'post')\n",
        "\n",
        "sequences_3 = tokenizer.texts_to_sequences(X_val)\n",
        "\n",
        "val_data = pad_sequences(sequences_3, maxlen = sequence_size , padding = 'post')"
      ],
      "execution_count": 11,
      "outputs": [
        {
          "output_type": "stream",
          "text": [
            "Using TensorFlow backend.\n"
          ],
          "name": "stderr"
        }
      ]
    },
    {
      "cell_type": "code",
      "metadata": {
        "id": "jFl9wNKwaQm2",
        "colab_type": "code",
        "colab": {}
      },
      "source": [
        "class PositionalEncoding(layers.Layer):\n",
        "  \n",
        "    def __init__(self) :\n",
        "\n",
        "        super(PositionalEncoding, self).__init__()\n",
        "    \n",
        "    def get_angles(self, pos, i, d_model) :\n",
        "\n",
        "        angles = 1 / np.power(10000., (2*(i//2)) / np.float32(d_model))\n",
        "\n",
        "        return pos * angles\n",
        "\n",
        "    def call(self, inputs) :\n",
        "\n",
        "        seq_length = inputs.shape.as_list()[-2]\n",
        "\n",
        "        d_model = inputs.shape.as_list()[-1]\n",
        "\n",
        "        angles = self.get_angles(np.arange(seq_length)[:, np.newaxis],np.arange(d_model)[np.newaxis, :],d_model)\n",
        "\n",
        "        angles[:, 0::2] = np.sin(angles[:, 0::2])\n",
        "\n",
        "        angles[:, 1::2] = np.cos(angles[:, 1::2])\n",
        "        \n",
        "        pos_encoding = angles[np.newaxis, ...]\n",
        "\n",
        "        return inputs + tf.cast(pos_encoding, tf.float32)"
      ],
      "execution_count": 12,
      "outputs": []
    },
    {
      "cell_type": "code",
      "metadata": {
        "id": "1Q7LtllFaV12",
        "colab_type": "code",
        "colab": {}
      },
      "source": [
        "def scaled_dot_product_attention(queries, keys, values, mask) :\n",
        "  \n",
        "    product = tf.matmul(queries, keys, transpose_b  = True)\n",
        "    \n",
        "    keys_dim = tf.cast(tf.shape(keys)[-1], tf.float32)\n",
        "\n",
        "    scaled_product = product / tf.math.sqrt(keys_dim)\n",
        "    \n",
        "    if mask is not None :\n",
        "\n",
        "        scaled_product += (mask * -1e9)\n",
        "\n",
        "    attention = tf.matmul(tf.nn.softmax(scaled_product, axis = -1), values)\n",
        "    \n",
        "    return attention"
      ],
      "execution_count": 13,
      "outputs": []
    },
    {
      "cell_type": "code",
      "metadata": {
        "id": "2lDxXvPwaeN0",
        "colab_type": "code",
        "colab": {}
      },
      "source": [
        "class MultiHeadAttention(layers.Layer):\n",
        "    \n",
        "    def __init__(self, nb_proj) :\n",
        "\n",
        "        super(MultiHeadAttention, self).__init__()\n",
        "\n",
        "        self.nb_proj = nb_proj\n",
        "        \n",
        "    def build(self, input_shape) :\n",
        "\n",
        "        self.d_model = input_shape[-1]\n",
        "\n",
        "        assert self.d_model % self.nb_proj == 0\n",
        "        \n",
        "        self.d_proj = self.d_model // self.nb_proj\n",
        "        \n",
        "        self.query_lin = layers.Dense(units=self.d_model)\n",
        "\n",
        "        self.key_lin = layers.Dense(units=self.d_model)\n",
        "\n",
        "        self.value_lin = layers.Dense(units=self.d_model)\n",
        "        \n",
        "        self.final_lin = layers.Dense(units=self.d_model)\n",
        "        \n",
        "    def split_proj(self, inputs, batch_size): # inputs: (batch_size, seq_length, d_model)\n",
        "\n",
        "        shape = (batch_size,-1, self.nb_proj,self.d_proj)\n",
        "\n",
        "        splited_inputs = tf.reshape(inputs, shape=shape) # (batch_size, seq_length, nb_proj, d_proj)\n",
        "\n",
        "        return tf.transpose(splited_inputs, perm=[0, 2, 1, 3]) # (batch_size, nb_proj, seq_length, d_proj)\n",
        "    \n",
        "    def call(self, queries, keys, values, mask) :\n",
        "\n",
        "        batch_size = tf.shape(queries)[0]\n",
        "        \n",
        "        queries = self.query_lin(queries)\n",
        "\n",
        "        keys = self.key_lin(keys)\n",
        "\n",
        "        values = self.value_lin(values)\n",
        "        \n",
        "        queries = self.split_proj(queries, batch_size)\n",
        "\n",
        "        keys = self.split_proj(keys, batch_size)\n",
        "\n",
        "        values = self.split_proj(values, batch_size)\n",
        "        \n",
        "        attention = scaled_dot_product_attention(queries, keys, values, mask)\n",
        "        \n",
        "        attention = tf.transpose(attention, perm=[0, 2, 1, 3])\n",
        "        \n",
        "        concat_attention = tf.reshape(attention,shape=(batch_size, -1, self.d_model))\n",
        "        \n",
        "        outputs = self.final_lin(concat_attention)\n",
        "        \n",
        "        return outputs"
      ],
      "execution_count": 14,
      "outputs": []
    },
    {
      "cell_type": "code",
      "metadata": {
        "id": "4uvjMQttaeQ7",
        "colab_type": "code",
        "colab": {}
      },
      "source": [
        "class EncoderLayer(layers.Layer):\n",
        "    \n",
        "    def __init__(self, FFN_units, nb_proj, dropout_rate) :\n",
        "\n",
        "        super(EncoderLayer, self).__init__()\n",
        "\n",
        "        self.FFN_units = FFN_units\n",
        "\n",
        "        self.nb_proj = nb_proj\n",
        "\n",
        "        self.dropout_rate = dropout_rate\n",
        "    \n",
        "    def build(self, input_shape) :\n",
        "\n",
        "        self.d_model = input_shape[-1]\n",
        "        \n",
        "        self.multi_head_attention = MultiHeadAttention(self.nb_proj)\n",
        "\n",
        "        self.dropout_1 = layers.Dropout(rate=self.dropout_rate)\n",
        "\n",
        "        self.norm_1 = layers.LayerNormalization(epsilon=1e-6)\n",
        "        \n",
        "        self.dense_1 = layers.Dense(units=self.FFN_units, activation=\"relu\")\n",
        "\n",
        "        self.dense_2 = layers.Dense(units=self.d_model)\n",
        "\n",
        "        self.dropout_2 = layers.Dropout(rate=self.dropout_rate)\n",
        "\n",
        "        self.norm_2 = layers.LayerNormalization(epsilon=1e-6)\n",
        "        \n",
        "    def call(self, inputs, mask, training) :\n",
        "\n",
        "        attention = self.multi_head_attention(inputs,\n",
        "                                              inputs,\n",
        "                                              inputs,\n",
        "                                              mask)\n",
        "        \n",
        "        attention = self.dropout_1(attention, training=training)\n",
        "\n",
        "        attention = self.norm_1(attention + inputs)\n",
        "        \n",
        "        outputs = self.dense_1(attention)\n",
        "\n",
        "        outputs = self.dense_2(outputs)\n",
        "\n",
        "        outputs = self.dropout_2(outputs, training=training)\n",
        "        \n",
        "        outputs = self.norm_2(outputs + attention)\n",
        "        \n",
        "        return outputs"
      ],
      "execution_count": 15,
      "outputs": []
    },
    {
      "cell_type": "code",
      "metadata": {
        "id": "wHPI4KzkfTVa",
        "colab_type": "code",
        "colab": {}
      },
      "source": [
        "import os\n",
        "\n",
        "dir = '/content/drive/My Drive/Glove'\n",
        "\n",
        "embed_index = dict()\n",
        "f = open(os.path.join(dir, 'glove.6B.300d.txt'), encoding=\"utf8\")"
      ],
      "execution_count": 16,
      "outputs": []
    },
    {
      "cell_type": "code",
      "metadata": {
        "id": "V5UV5iuwfaVW",
        "colab_type": "code",
        "colab": {}
      },
      "source": [
        "for line in f:\n",
        "    values = line.split()\n",
        "    word = values[0]\n",
        "    coefs = np.asarray(values[1:], dtype='float32')\n",
        "    embed_index[word] = coefs\n",
        "f.close()"
      ],
      "execution_count": 17,
      "outputs": []
    },
    {
      "cell_type": "code",
      "metadata": {
        "id": "hja5d3l0xld8",
        "colab_type": "code",
        "colab": {
          "base_uri": "https://localhost:8080/",
          "height": 34
        },
        "outputId": "61622e9e-d013-4c56-89c3-80b0895faed7"
      },
      "source": [
        "len(tokenizer.word_index) + 1"
      ],
      "execution_count": 18,
      "outputs": [
        {
          "output_type": "execute_result",
          "data": {
            "text/plain": [
              "15108"
            ]
          },
          "metadata": {
            "tags": []
          },
          "execution_count": 18
        }
      ]
    },
    {
      "cell_type": "code",
      "metadata": {
        "id": "pYTIij99fdZG",
        "colab_type": "code",
        "colab": {}
      },
      "source": [
        "embed_matrix = np.zeros(( len(tokenizer.word_index) + 1, 300))\n",
        "\n",
        "for word, i in tokenizer.word_index.items():\n",
        "    if i <  len(tokenizer.word_index) + 1 :\n",
        "        embed_vector = embed_index.get(word)\n",
        "        if embed_vector is not None:\n",
        "            embed_matrix[i] = embed_vector"
      ],
      "execution_count": 19,
      "outputs": []
    },
    {
      "cell_type": "code",
      "metadata": {
        "id": "kaF-Q2K_lm16",
        "colab_type": "code",
        "colab": {}
      },
      "source": [
        "class Encoder(layers.Layer) :\n",
        "    \n",
        "    def __init__(self,\n",
        "                 nb_layers,\n",
        "                 FFN_units,\n",
        "                 nb_proj,\n",
        "                 dropout_rate,\n",
        "                 vocab_size,\n",
        "                 d_model,\n",
        "                 name=\"encoder\") :\n",
        "\n",
        "        super(Encoder, self).__init__(name=name)\n",
        "\n",
        "        self.nb_layers = nb_layers\n",
        "\n",
        "        self.d_model = d_model\n",
        "        \n",
        "        self.embedding = layers.Embedding(vocab_size, d_model , weights = [embed_matrix])\n",
        "\n",
        "        self.pos_encoding = PositionalEncoding()\n",
        "\n",
        "        self.dropout = layers.Dropout(rate=dropout_rate)\n",
        "\n",
        "        self.enc_layers = [EncoderLayer(FFN_units,\n",
        "                                        nb_proj,\n",
        "                                        dropout_rate) \n",
        "                           for _ in range(nb_layers)]\n",
        "    \n",
        "    def call(self, inputs, mask, training) :\n",
        "\n",
        "        outputs = self.embedding(inputs)\n",
        "\n",
        "        outputs *= tf.math.sqrt(tf.cast(self.d_model, tf.float32))\n",
        "\n",
        "        outputs = self.pos_encoding(outputs)\n",
        "\n",
        "        outputs = self.dropout(outputs, training)\n",
        "        \n",
        "        for i in range(self.nb_layers) :\n",
        "          \n",
        "            outputs = self.enc_layers[i](outputs, mask, training)\n",
        "\n",
        "        return outputs"
      ],
      "execution_count": 34,
      "outputs": []
    },
    {
      "cell_type": "code",
      "metadata": {
        "id": "GJcIjNCQlseu",
        "colab_type": "code",
        "colab": {}
      },
      "source": [
        "class Transformer(tf.keras.Model):\n",
        "    \n",
        "    def __init__(self,\n",
        "                 vocab_size_enc,\n",
        "                 d_model,\n",
        "                 nb_layers,\n",
        "                 FFN_units,\n",
        "                 nb_proj,\n",
        "                 dropout_rate,\n",
        "                 name=\"transformer\"):\n",
        "        super(Transformer, self).__init__(name=name)\n",
        "        \n",
        "        self.encoder = Encoder(nb_layers,\n",
        "                               FFN_units,\n",
        "                               nb_proj,\n",
        "                               dropout_rate,\n",
        "                               vocab_size_enc,\n",
        "                               d_model)\n",
        "        # self.last_linear = layers.Dense(units=vocab_size_dec, name=\"lin_ouput\")\n",
        "    \n",
        "    def create_padding_mask(self, seq):\n",
        "        mask = tf.cast(tf.math.equal(seq, 0), tf.float32)\n",
        "        return mask[:, tf.newaxis, tf.newaxis, :]\n",
        "\n",
        "    def create_look_ahead_mask(self, seq):\n",
        "        seq_len = tf.shape(seq)[1]\n",
        "        look_ahead_mask = 1 - tf.linalg.band_part(tf.ones((seq_len, seq_len)), -1, 0)\n",
        "        return look_ahead_mask\n",
        "    \n",
        "    def call(self, enc_inputs, training = True):\n",
        "        enc_mask = self.create_padding_mask(enc_inputs)\n",
        "        \n",
        "        enc_outputs = self.encoder(enc_inputs, enc_mask, training)\n",
        "        \n",
        "        return enc_outputs"
      ],
      "execution_count": 35,
      "outputs": []
    },
    {
      "cell_type": "code",
      "metadata": {
        "id": "9moaXe9eaBqR",
        "colab_type": "code",
        "colab": {
          "base_uri": "https://localhost:8080/",
          "height": 429
        },
        "outputId": "7c5f0152-8017-4000-ee0c-7dea89867f97"
      },
      "source": [
        "D_MODEL = 300\n",
        "\n",
        "NB_LAYERS = 4 \n",
        "\n",
        "FFN_UNITS = 512 \n",
        "\n",
        "NB_PROJ = 6\n",
        "\n",
        "DROPOUT_RATE = 0.1\n",
        "\n",
        "transformer = Transformer(vocab_size_enc = len(tokenizer.word_index) + 1,\n",
        "                          d_model = D_MODEL,\n",
        "                          nb_layers = NB_LAYERS,\n",
        "                          FFN_units = FFN_UNITS,\n",
        "                          nb_proj = NB_PROJ,\n",
        "                          dropout_rate = DROPOUT_RATE)\n",
        "\n",
        "\n",
        "inputs = layers.Input(shape = (sequence_size,))\n",
        "\n",
        "x = transformer(inputs)\n",
        "\n",
        "x = layers.Flatten()(x)\n",
        "\n",
        "x = layers.Dense(512, activation=\"relu\")(x)\n",
        "\n",
        "x = layers.Dropout(0.1)(x)\n",
        "\n",
        "x = layers.Dense(256, activation=\"relu\")(x)\n",
        "\n",
        "x = layers.Dropout(0.1)(x)\n",
        "\n",
        "outputs = layers.Dense(1, activation=\"sigmoid\")(x)\n",
        "\n",
        "model = keras.Model(inputs = inputs, outputs = outputs)\n",
        "\n",
        "model.summary()\n",
        "\n",
        "model.compile(loss = 'binary_crossentropy' , optimizer = 'adam' , metrics = ['accuracy'])"
      ],
      "execution_count": 36,
      "outputs": [
        {
          "output_type": "stream",
          "text": [
            "Model: \"model_1\"\n",
            "_________________________________________________________________\n",
            "Layer (type)                 Output Shape              Param #   \n",
            "=================================================================\n",
            "input_2 (InputLayer)         [(None, 21)]              0         \n",
            "_________________________________________________________________\n",
            "transformer (Transformer)    (None, 21, 300)           7214048   \n",
            "_________________________________________________________________\n",
            "flatten_1 (Flatten)          (None, 6300)              0         \n",
            "_________________________________________________________________\n",
            "dense_3 (Dense)              (None, 512)               3226112   \n",
            "_________________________________________________________________\n",
            "dropout_4 (Dropout)          (None, 512)               0         \n",
            "_________________________________________________________________\n",
            "dense_4 (Dense)              (None, 256)               131328    \n",
            "_________________________________________________________________\n",
            "dropout_5 (Dropout)          (None, 256)               0         \n",
            "_________________________________________________________________\n",
            "dense_5 (Dense)              (None, 1)                 257       \n",
            "=================================================================\n",
            "Total params: 10,571,745\n",
            "Trainable params: 10,571,745\n",
            "Non-trainable params: 0\n",
            "_________________________________________________________________\n"
          ],
          "name": "stdout"
        }
      ]
    },
    {
      "cell_type": "code",
      "metadata": {
        "id": "oOnxkZRdaEAi",
        "colab_type": "code",
        "colab": {
          "base_uri": "https://localhost:8080/",
          "height": 704
        },
        "outputId": "a3d23b94-b502-4f7b-8b11-5a9b9ace5aba"
      },
      "source": [
        "history = model.fit(train_data , y_train , batch_size = 64 , epochs = 20 , validation_data = (val_data , y_val), verbose = 1)"
      ],
      "execution_count": 37,
      "outputs": [
        {
          "output_type": "stream",
          "text": [
            "Epoch 1/20\n",
            "141/141 [==============================] - 18s 127ms/step - loss: 0.6122 - accuracy: 0.7519 - val_loss: 0.4895 - val_accuracy: 0.8050\n",
            "Epoch 2/20\n",
            "141/141 [==============================] - 16s 116ms/step - loss: 0.4373 - accuracy: 0.7983 - val_loss: 0.4361 - val_accuracy: 0.7970\n",
            "Epoch 3/20\n",
            "141/141 [==============================] - 17s 119ms/step - loss: 0.4383 - accuracy: 0.8008 - val_loss: 0.4479 - val_accuracy: 0.8100\n",
            "Epoch 4/20\n",
            "141/141 [==============================] - 16s 115ms/step - loss: 0.4383 - accuracy: 0.8036 - val_loss: 0.4620 - val_accuracy: 0.8127\n",
            "Epoch 5/20\n",
            "141/141 [==============================] - 16s 115ms/step - loss: 0.4416 - accuracy: 0.8011 - val_loss: 0.4319 - val_accuracy: 0.8040\n",
            "Epoch 6/20\n",
            "141/141 [==============================] - 16s 112ms/step - loss: 0.4290 - accuracy: 0.8062 - val_loss: 0.4404 - val_accuracy: 0.8140\n",
            "Epoch 7/20\n",
            "141/141 [==============================] - 16s 111ms/step - loss: 0.4321 - accuracy: 0.8054 - val_loss: 0.4227 - val_accuracy: 0.8123\n",
            "Epoch 8/20\n",
            "141/141 [==============================] - 16s 111ms/step - loss: 0.4473 - accuracy: 0.7948 - val_loss: 0.4629 - val_accuracy: 0.7917\n",
            "Epoch 9/20\n",
            "141/141 [==============================] - 16s 114ms/step - loss: 0.4437 - accuracy: 0.7950 - val_loss: 0.4303 - val_accuracy: 0.8140\n",
            "Epoch 10/20\n",
            "141/141 [==============================] - 21s 152ms/step - loss: 0.4245 - accuracy: 0.8092 - val_loss: 0.4165 - val_accuracy: 0.8137\n",
            "Epoch 11/20\n",
            "141/141 [==============================] - 17s 121ms/step - loss: 0.4375 - accuracy: 0.8059 - val_loss: 0.4515 - val_accuracy: 0.7703\n",
            "Epoch 12/20\n",
            "141/141 [==============================] - 17s 123ms/step - loss: 0.4313 - accuracy: 0.8011 - val_loss: 0.4367 - val_accuracy: 0.8107\n",
            "Epoch 13/20\n",
            "141/141 [==============================] - 17s 123ms/step - loss: 0.4211 - accuracy: 0.8081 - val_loss: 0.4347 - val_accuracy: 0.8057\n",
            "Epoch 14/20\n",
            "141/141 [==============================] - 17s 120ms/step - loss: 0.4213 - accuracy: 0.8079 - val_loss: 0.4294 - val_accuracy: 0.8090\n",
            "Epoch 15/20\n",
            "141/141 [==============================] - 17s 120ms/step - loss: 0.4222 - accuracy: 0.8073 - val_loss: 0.4226 - val_accuracy: 0.8043\n",
            "Epoch 16/20\n",
            "141/141 [==============================] - 17s 123ms/step - loss: 0.4162 - accuracy: 0.8106 - val_loss: 0.4586 - val_accuracy: 0.7900\n",
            "Epoch 17/20\n",
            "141/141 [==============================] - 17s 121ms/step - loss: 0.4147 - accuracy: 0.8133 - val_loss: 0.4286 - val_accuracy: 0.8110\n",
            "Epoch 18/20\n",
            "141/141 [==============================] - 17s 121ms/step - loss: 0.4090 - accuracy: 0.8142 - val_loss: 0.4286 - val_accuracy: 0.8157\n",
            "Epoch 19/20\n",
            "141/141 [==============================] - 17s 119ms/step - loss: 0.4153 - accuracy: 0.8113 - val_loss: 0.4238 - val_accuracy: 0.8113\n",
            "Epoch 20/20\n",
            "141/141 [==============================] - 17s 120ms/step - loss: 0.4148 - accuracy: 0.8142 - val_loss: 0.4133 - val_accuracy: 0.8160\n"
          ],
          "name": "stdout"
        }
      ]
    },
    {
      "cell_type": "code",
      "metadata": {
        "id": "AWJflmuvaIqM",
        "colab_type": "code",
        "colab": {
          "base_uri": "https://localhost:8080/",
          "height": 294
        },
        "outputId": "20657044-c71b-45db-f835-f19f39e018fc"
      },
      "source": [
        "plt.plot(history.history['accuracy'])\n",
        "plt.plot(history.history['val_accuracy'])\n",
        "plt.title('Model accuracy')\n",
        "plt.ylabel('Accuracy')\n",
        "plt.xlabel('Epoch')\n",
        "plt.legend(['Training', 'Validation'], loc='lower right')\n",
        "plt.show()"
      ],
      "execution_count": 38,
      "outputs": [
        {
          "output_type": "display_data",
          "data": {
            "image/png": "[encoded data removed]",
            "text/plain": [
              "<Figure size 432x288 with 1 Axes>"
            ]
          },
          "metadata": {
            "tags": [],
            "needs_background": "light"
          }
        }
      ]
    },
    {
      "cell_type": "code",
      "metadata": {
        "id": "lVl-R4EDaKj9",
        "colab_type": "code",
        "colab": {
          "base_uri": "https://localhost:8080/",
          "height": 294
        },
        "outputId": "83cf8219-cb86-464a-9d74-90cf5638a1d4"
      },
      "source": [
        "plt.plot(history.history['loss'], label='Training data')\n",
        "plt.plot(history.history['val_loss'], label='Validation data')\n",
        "plt.title('Loss')\n",
        "plt.ylabel('Loss value')\n",
        "plt.xlabel('No. epoch')\n",
        "plt.legend(loc=\"upper left\")\n",
        "plt.show()"
      ],
      "execution_count": 39,
      "outputs": [
        {
          "output_type": "display_data",
          "data": {
            "image/png": "[encoded data removed]",
            "text/plain": [
              "<Figure size 432x288 with 1 Axes>"
            ]
          },
          "metadata": {
            "tags": [],
            "needs_background": "light"
          }
        }
      ]
    },
    {
      "cell_type": "code",
      "metadata": {
        "id": "aTT31txecTt6",
        "colab_type": "code",
        "colab": {}
      },
      "source": [
        "y_pred = model.predict(test_data)"
      ],
      "execution_count": 40,
      "outputs": []
    },
    {
      "cell_type": "code",
      "metadata": {
        "id": "vTIR0MNrcYxR",
        "colab_type": "code",
        "colab": {
          "base_uri": "https://localhost:8080/",
          "height": 137
        },
        "outputId": "3c045e02-e1df-4118-e094-258086c32fb0"
      },
      "source": [
        "y_pred"
      ],
      "execution_count": 41,
      "outputs": [
        {
          "output_type": "execute_result",
          "data": {
            "text/plain": [
              "array([[0.7015625 ],\n",
              "       [0.9976821 ],\n",
              "       [0.96381676],\n",
              "       ...,\n",
              "       [0.3052933 ],\n",
              "       [0.3052933 ],\n",
              "       [0.35766757]], dtype=float32)"
            ]
          },
          "metadata": {
            "tags": []
          },
          "execution_count": 41
        }
      ]
    },
    {
      "cell_type": "code",
      "metadata": {
        "id": "1HcxwByxcZTY",
        "colab_type": "code",
        "colab": {
          "base_uri": "https://localhost:8080/",
          "height": 34
        },
        "outputId": "4dd7d4cb-41a2-4274-f5e4-14200c9e1d84"
      },
      "source": [
        "y_pred.shape"
      ],
      "execution_count": 42,
      "outputs": [
        {
          "output_type": "execute_result",
          "data": {
            "text/plain": [
              "(3000, 1)"
            ]
          },
          "metadata": {
            "tags": []
          },
          "execution_count": 42
        }
      ]
    },
    {
      "cell_type": "code",
      "metadata": {
        "id": "LNxZoXiPcbFZ",
        "colab_type": "code",
        "colab": {}
      },
      "source": [
        "for i in range(y_pred.shape[0]) :\n",
        "\n",
        "  if y_pred[i][0] >= 0.5 :\n",
        "\n",
        "    y_pred[i][0] = 1\n",
        "\n",
        "  else :\n",
        "\n",
        "    y_pred[i][0] = 0"
      ],
      "execution_count": 43,
      "outputs": []
    },
    {
      "cell_type": "code",
      "metadata": {
        "id": "Tey4XIDjcdIO",
        "colab_type": "code",
        "colab": {}
      },
      "source": [
        "y_pred = y_pred.astype('int64')"
      ],
      "execution_count": 44,
      "outputs": []
    },
    {
      "cell_type": "code",
      "metadata": {
        "id": "fv3NsEzEdTQd",
        "colab_type": "code",
        "colab": {
          "base_uri": "https://localhost:8080/",
          "height": 137
        },
        "outputId": "381f5d41-6c6b-4d48-d16c-6b919d1cf0a1"
      },
      "source": [
        "y_pred"
      ],
      "execution_count": 45,
      "outputs": [
        {
          "output_type": "execute_result",
          "data": {
            "text/plain": [
              "array([[1],\n",
              "       [1],\n",
              "       [1],\n",
              "       ...,\n",
              "       [0],\n",
              "       [0],\n",
              "       [0]])"
            ]
          },
          "metadata": {
            "tags": []
          },
          "execution_count": 45
        }
      ]
    },
    {
      "cell_type": "code",
      "metadata": {
        "id": "7g58nYSbdYr4",
        "colab_type": "code",
        "colab": {}
      },
      "source": [
        "y_test = y_test.reshape(-1,1)"
      ],
      "execution_count": 46,
      "outputs": []
    },
    {
      "cell_type": "code",
      "metadata": {
        "id": "EKB3RgAndTTh",
        "colab_type": "code",
        "colab": {
          "base_uri": "https://localhost:8080/",
          "height": 309
        },
        "outputId": "4db2cd48-d090-4009-ebe9-4de0c8c8a9d6"
      },
      "source": [
        "metrics  =  classification_report (y_test , y_pred)\n",
        "\n",
        "print ('Classification Report ')\n",
        "\n",
        "print(\"\\n\")\n",
        "\n",
        "print (metrics)\n",
        "\n",
        "cm  =  confusion_matrix (y_test,y_pred)\n",
        "\n",
        "print ('Confusion Matrix')\n",
        "\n",
        "print(\"\\n\")\n",
        "\n",
        "print (cm)"
      ],
      "execution_count": 47,
      "outputs": [
        {
          "output_type": "stream",
          "text": [
            "Classification Report \n",
            "\n",
            "\n",
            "              precision    recall  f1-score   support\n",
            "\n",
            "           0       0.78      0.87      0.82      1513\n",
            "           1       0.85      0.75      0.79      1487\n",
            "\n",
            "    accuracy                           0.81      3000\n",
            "   macro avg       0.81      0.81      0.81      3000\n",
            "weighted avg       0.81      0.81      0.81      3000\n",
            "\n",
            "Confusion Matrix\n",
            "\n",
            "\n",
            "[[1312  201]\n",
            " [ 376 1111]]\n"
          ],
          "name": "stdout"
        }
      ]
    }
  ]
}