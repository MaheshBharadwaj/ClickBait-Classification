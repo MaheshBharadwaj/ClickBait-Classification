{
 "cells": [
  {
   "cell_type": "code",
   "execution_count": 1,
   "metadata": {},
   "outputs": [],
   "source": [
    "import os\n",
    "import pandas as pd"
   ]
  },
  {
   "cell_type": "code",
   "execution_count": 2,
   "metadata": {},
   "outputs": [],
   "source": [
    "dataset = '/home/mahesh/Documents/SF-ClickBait/datasets/bulgarian/FN_Training_Set.csv'\n",
    "if os.path.exists(dataset):\n",
    "    #DO NOT CHANGE ENCODING, Required for Bulgarian Text\n",
    "    df = pd.read_csv(dataset, encoding='iso-8859-5')\n",
    "else:\n",
    "    print('No such file!')"
   ]
  },
  {
   "cell_type": "code",
   "execution_count": 3,
   "metadata": {},
   "outputs": [
    {
     "data": {
      "text/html": [
       "<div>\n",
       "<style scoped>\n",
       "    .dataframe tbody tr th:only-of-type {\n",
       "        vertical-align: middle;\n",
       "    }\n",
       "\n",
       "    .dataframe tbody tr th {\n",
       "        vertical-align: top;\n",
       "    }\n",
       "\n",
       "    .dataframe thead th {\n",
       "        text-align: right;\n",
       "    }\n",
       "</style>\n",
       "<table border=\"1\" class=\"dataframe\">\n",
       "  <thead>\n",
       "    <tr style=\"text-align: right;\">\n",
       "      <th></th>\n",
       "      <th>fake_news_score</th>\n",
       "      <th>click_bait_score</th>\n",
       "      <th>Content Title</th>\n",
       "      <th>Content Url</th>\n",
       "      <th>Content Published Time</th>\n",
       "      <th>Content</th>\n",
       "    </tr>\n",
       "  </thead>\n",
       "  <tbody>\n",
       "    <tr>\n",
       "      <th>0</th>\n",
       "      <td>1</td>\n",
       "      <td>1</td>\n",
       "      <td>Ърьшы ерсшс: ФРХи ш Рэ Эѓё№р ёр эют ђх№ю№шёђ...</td>\n",
       "      <td>http://a-specto.bg/kamil-habib-daesh-i-nusra-s...</td>\n",
       "      <td>17.5.2017 18:35</td>\n",
       "      <td>Шэђх№тў эр Фхёшёыртр Яњђхтр ё Ърьшы ерсшс, фхъ...</td>\n",
       "    </tr>\n",
       "    <tr>\n",
       "      <th>1</th>\n",
       "      <td>1</td>\n",
       "      <td>1</td>\n",
       "      <td>зХвШаШвХ вШЯР ЦХЭШ бЯЮаХФ ШЧвЮзЭШп ЪРЫХЭФРа</td>\n",
       "      <td>http://novini24online.com/jba/113526</td>\n",
       "      <td>17.5.2017 11:48</td>\n",
       "      <td>аюьрэђшїэрђр цхэр вютр ёр цхэшђх, №юфхэш т уюф...</td>\n",
       "    </tr>\n",
       "    <tr>\n",
       "      <th>2</th>\n",
       "      <td>1</td>\n",
       "      <td>1</td>\n",
       "      <td>Р№ђ - Ыўфьшыр Ъшь яюїшђр я№хьшх№р чр Трэур</td>\n",
       "      <td>http://paper.standartnews.com/bg/article.php?a...</td>\n",
       "      <td>16.5.2017 21:36</td>\n",
       "      <td>Ыўфьшыр Ъшь, эрщ-яюяѓыџ№эрђр №ѓёър ыхїшђхыър ш...</td>\n",
       "    </tr>\n",
       "    <tr>\n",
       "      <th>3</th>\n",
       "      <td>3</td>\n",
       "      <td>3</td>\n",
       "      <td>Шёђшэр шыш эх ! Шёђшэр ыш х фрыш Сющъю х ухщ ш...</td>\n",
       "      <td>http://fakenews.bg/Шёђшэр-шыш-эх-Шёђшэр-ыш-х-ф...</td>\n",
       "      <td>16.5.2017 19:40</td>\n",
       "      <td>Шёђшэр шыш эх ! Шёђшэр ыш х фрыш Сющъю х ухщ ш...</td>\n",
       "    </tr>\n",
       "    <tr>\n",
       "      <th>4</th>\n",
       "      <td>1</td>\n",
       "      <td>1</td>\n",
       "      <td>Тшфхюђю эр зр№ыш зряышэ, т ъюхђю эџьр фр ёх ёь...</td>\n",
       "      <td>http://blife.eu/тшфхюђю-їр№ыш-їряышэ-ъюхђю-эџь...</td>\n",
       "      <td>16.5.2017 13:41</td>\n",
       "      <td>бтшъэрыш ёьх зр№ыш зряышэ фр эш №рчёьштр, фр ѕ...</td>\n",
       "    </tr>\n",
       "  </tbody>\n",
       "</table>\n",
       "</div>"
      ],
      "text/plain": [
       "   fake_news_score  click_bait_score  \\\n",
       "0                1                 1   \n",
       "1                1                 1   \n",
       "2                1                 1   \n",
       "3                3                 3   \n",
       "4                1                 1   \n",
       "\n",
       "                                       Content Title  \\\n",
       "0  Ърьшы ерсшс: ФРХи ш Рэ Эѓё№р ёр эют ђх№ю№шёђ...   \n",
       "1        зХвШаШвХ вШЯР ЦХЭШ бЯЮаХФ ШЧвЮзЭШп ЪРЫХЭФРа   \n",
       "2         Р№ђ - Ыўфьшыр Ъшь яюїшђр я№хьшх№р чр Трэур   \n",
       "3  Шёђшэр шыш эх ! Шёђшэр ыш х фрыш Сющъю х ухщ ш...   \n",
       "4  Тшфхюђю эр зр№ыш зряышэ, т ъюхђю эџьр фр ёх ёь...   \n",
       "\n",
       "                                         Content Url Content Published Time  \\\n",
       "0  http://a-specto.bg/kamil-habib-daesh-i-nusra-s...        17.5.2017 18:35   \n",
       "1               http://novini24online.com/jba/113526        17.5.2017 11:48   \n",
       "2  http://paper.standartnews.com/bg/article.php?a...        16.5.2017 21:36   \n",
       "3  http://fakenews.bg/Шёђшэр-шыш-эх-Шёђшэр-ыш-х-ф...        16.5.2017 19:40   \n",
       "4  http://blife.eu/тшфхюђю-їр№ыш-їряышэ-ъюхђю-эџь...        16.5.2017 13:41   \n",
       "\n",
       "                                             Content  \n",
       "0  Шэђх№тў эр Фхёшёыртр Яњђхтр ё Ърьшы ерсшс, фхъ...  \n",
       "1  аюьрэђшїэрђр цхэр вютр ёр цхэшђх, №юфхэш т уюф...  \n",
       "2  Ыўфьшыр Ъшь, эрщ-яюяѓыџ№эрђр №ѓёър ыхїшђхыър ш...  \n",
       "3  Шёђшэр шыш эх ! Шёђшэр ыш х фрыш Сющъю х ухщ ш...  \n",
       "4  бтшъэрыш ёьх зр№ыш зряышэ фр эш №рчёьштр, фр ѕ...  "
      ]
     },
     "execution_count": 3,
     "metadata": {},
     "output_type": "execute_result"
    }
   ],
   "source": [
    "df.head()"
   ]
  },
  {
   "cell_type": "code",
   "execution_count": 4,
   "metadata": {},
   "outputs": [
    {
     "data": {
      "text/plain": [
       "(2815, 6)"
      ]
     },
     "execution_count": 4,
     "metadata": {},
     "output_type": "execute_result"
    }
   ],
   "source": [
    "df.shape"
   ]
  },
  {
   "cell_type": "code",
   "execution_count": 5,
   "metadata": {},
   "outputs": [],
   "source": [
    "df.drop(columns=['Content Published Time', 'Content Url', 'Content', 'fake_news_score'], inplace=True)"
   ]
  },
  {
   "cell_type": "code",
   "execution_count": 6,
   "metadata": {},
   "outputs": [
    {
     "data": {
      "text/html": [
       "<div>\n",
       "<style scoped>\n",
       "    .dataframe tbody tr th:only-of-type {\n",
       "        vertical-align: middle;\n",
       "    }\n",
       "\n",
       "    .dataframe tbody tr th {\n",
       "        vertical-align: top;\n",
       "    }\n",
       "\n",
       "    .dataframe thead th {\n",
       "        text-align: right;\n",
       "    }\n",
       "</style>\n",
       "<table border=\"1\" class=\"dataframe\">\n",
       "  <thead>\n",
       "    <tr style=\"text-align: right;\">\n",
       "      <th></th>\n",
       "      <th>click_bait_score</th>\n",
       "      <th>Content Title</th>\n",
       "    </tr>\n",
       "  </thead>\n",
       "  <tbody>\n",
       "    <tr>\n",
       "      <th>0</th>\n",
       "      <td>1</td>\n",
       "      <td>Ърьшы ерсшс: ФРХи ш Рэ Эѓё№р ёр эют ђх№ю№шёђ...</td>\n",
       "    </tr>\n",
       "    <tr>\n",
       "      <th>1</th>\n",
       "      <td>1</td>\n",
       "      <td>зХвШаШвХ вШЯР ЦХЭШ бЯЮаХФ ШЧвЮзЭШп ЪРЫХЭФРа</td>\n",
       "    </tr>\n",
       "    <tr>\n",
       "      <th>2</th>\n",
       "      <td>1</td>\n",
       "      <td>Р№ђ - Ыўфьшыр Ъшь яюїшђр я№хьшх№р чр Трэур</td>\n",
       "    </tr>\n",
       "    <tr>\n",
       "      <th>3</th>\n",
       "      <td>3</td>\n",
       "      <td>Шёђшэр шыш эх ! Шёђшэр ыш х фрыш Сющъю х ухщ ш...</td>\n",
       "    </tr>\n",
       "    <tr>\n",
       "      <th>4</th>\n",
       "      <td>1</td>\n",
       "      <td>Тшфхюђю эр зр№ыш зряышэ, т ъюхђю эџьр фр ёх ёь...</td>\n",
       "    </tr>\n",
       "  </tbody>\n",
       "</table>\n",
       "</div>"
      ],
      "text/plain": [
       "   click_bait_score                                      Content Title\n",
       "0                 1  Ърьшы ерсшс: ФРХи ш Рэ Эѓё№р ёр эют ђх№ю№шёђ...\n",
       "1                 1        зХвШаШвХ вШЯР ЦХЭШ бЯЮаХФ ШЧвЮзЭШп ЪРЫХЭФРа\n",
       "2                 1         Р№ђ - Ыўфьшыр Ъшь яюїшђр я№хьшх№р чр Трэур\n",
       "3                 3  Шёђшэр шыш эх ! Шёђшэр ыш х фрыш Сющъю х ухщ ш...\n",
       "4                 1  Тшфхюђю эр зр№ыш зряышэ, т ъюхђю эџьр фр ёх ёь..."
      ]
     },
     "execution_count": 6,
     "metadata": {},
     "output_type": "execute_result"
    }
   ],
   "source": [
    "df.head()"
   ]
  },
  {
   "cell_type": "code",
   "execution_count": 7,
   "metadata": {},
   "outputs": [],
   "source": [
    "df['click_bait_score'] = df['click_bait_score'].apply(lambda score: 0 if score == 1 else 1)"
   ]
  },
  {
   "cell_type": "code",
   "execution_count": 8,
   "metadata": {},
   "outputs": [
    {
     "data": {
      "text/html": [
       "<div>\n",
       "<style scoped>\n",
       "    .dataframe tbody tr th:only-of-type {\n",
       "        vertical-align: middle;\n",
       "    }\n",
       "\n",
       "    .dataframe tbody tr th {\n",
       "        vertical-align: top;\n",
       "    }\n",
       "\n",
       "    .dataframe thead th {\n",
       "        text-align: right;\n",
       "    }\n",
       "</style>\n",
       "<table border=\"1\" class=\"dataframe\">\n",
       "  <thead>\n",
       "    <tr style=\"text-align: right;\">\n",
       "      <th></th>\n",
       "      <th>click_bait_score</th>\n",
       "      <th>Content Title</th>\n",
       "    </tr>\n",
       "  </thead>\n",
       "  <tbody>\n",
       "    <tr>\n",
       "      <th>0</th>\n",
       "      <td>0</td>\n",
       "      <td>Ърьшы ерсшс: ФРХи ш Рэ Эѓё№р ёр эют ђх№ю№шёђ...</td>\n",
       "    </tr>\n",
       "    <tr>\n",
       "      <th>1</th>\n",
       "      <td>0</td>\n",
       "      <td>зХвШаШвХ вШЯР ЦХЭШ бЯЮаХФ ШЧвЮзЭШп ЪРЫХЭФРа</td>\n",
       "    </tr>\n",
       "    <tr>\n",
       "      <th>2</th>\n",
       "      <td>0</td>\n",
       "      <td>Р№ђ - Ыўфьшыр Ъшь яюїшђр я№хьшх№р чр Трэур</td>\n",
       "    </tr>\n",
       "    <tr>\n",
       "      <th>3</th>\n",
       "      <td>1</td>\n",
       "      <td>Шёђшэр шыш эх ! Шёђшэр ыш х фрыш Сющъю х ухщ ш...</td>\n",
       "    </tr>\n",
       "    <tr>\n",
       "      <th>4</th>\n",
       "      <td>0</td>\n",
       "      <td>Тшфхюђю эр зр№ыш зряышэ, т ъюхђю эџьр фр ёх ёь...</td>\n",
       "    </tr>\n",
       "  </tbody>\n",
       "</table>\n",
       "</div>"
      ],
      "text/plain": [
       "   click_bait_score                                      Content Title\n",
       "0                 0  Ърьшы ерсшс: ФРХи ш Рэ Эѓё№р ёр эют ђх№ю№шёђ...\n",
       "1                 0        зХвШаШвХ вШЯР ЦХЭШ бЯЮаХФ ШЧвЮзЭШп ЪРЫХЭФРа\n",
       "2                 0         Р№ђ - Ыўфьшыр Ъшь яюїшђр я№хьшх№р чр Трэур\n",
       "3                 1  Шёђшэр шыш эх ! Шёђшэр ыш х фрыш Сющъю х ухщ ш...\n",
       "4                 0  Тшфхюђю эр зр№ыш зряышэ, т ъюхђю эџьр фр ёх ёь..."
      ]
     },
     "execution_count": 8,
     "metadata": {},
     "output_type": "execute_result"
    }
   ],
   "source": [
    "df.head()"
   ]
  },
  {
   "cell_type": "code",
   "execution_count": 9,
   "metadata": {},
   "outputs": [
    {
     "name": "stdout",
     "output_type": "stream",
     "text": [
      "ClickBait: 1968\n",
      "Non Clickbait: 847\n"
     ]
    }
   ],
   "source": [
    "print(\"ClickBait: %d\\nNon Clickbait: %d\" \n",
    "      % (df[df['click_bait_score'] == 1].shape[0],\n",
    "         df[df['click_bait_score'] == 0].shape[0]))"
   ]
  },
  {
   "cell_type": "code",
   "execution_count": 18,
   "metadata": {},
   "outputs": [],
   "source": [
    "val_set = '/home/mahesh/Documents/SF-ClickBait/datasets/bulgarian/data_FN_Validation_Set_noFNscore.csv'\n",
    "if os.path.exists(val_set):\n",
    "    #DO NOT CHANGE ENCODING, Required for Bulgarian Text\n",
    "    df2 = pd.read_csv(val_set, encoding='iso-8859-5')\n",
    "else:\n",
    "    print('No such file!')"
   ]
  },
  {
   "cell_type": "code",
   "execution_count": 19,
   "metadata": {},
   "outputs": [
    {
     "data": {
      "text/html": [
       "<div>\n",
       "<style scoped>\n",
       "    .dataframe tbody tr th:only-of-type {\n",
       "        vertical-align: middle;\n",
       "    }\n",
       "\n",
       "    .dataframe tbody tr th {\n",
       "        vertical-align: top;\n",
       "    }\n",
       "\n",
       "    .dataframe thead th {\n",
       "        text-align: right;\n",
       "    }\n",
       "</style>\n",
       "<table border=\"1\" class=\"dataframe\">\n",
       "  <thead>\n",
       "    <tr style=\"text-align: right;\">\n",
       "      <th></th>\n",
       "      <th>click_bait_score</th>\n",
       "      <th>Content Title</th>\n",
       "      <th>Content Url</th>\n",
       "      <th>Content Published Time</th>\n",
       "      <th>Content</th>\n",
       "    </tr>\n",
       "  </thead>\n",
       "  <tbody>\n",
       "    <tr>\n",
       "      <th>0</th>\n",
       "      <td>3</td>\n",
       "      <td>Ъхщђш Ях№ш я№шчэртр, тшфхю сњфхј Illuminati Sl...</td>\n",
       "      <td>http://zahariada.blog.bg/lifestyle/2017/05/17/...</td>\n",
       "      <td>17.5.2017</td>\n",
       "      <td>14 ьрщ 2017 Baxter Фьшђ№шщ Ъюэёяш№рішш , Шчсю№...</td>\n",
       "    </tr>\n",
       "    <tr>\n",
       "      <th>1</th>\n",
       "      <td>1</td>\n",
       "      <td>\"ахътшхь чр Трэур юђ Ыўфьшыр Ъшь\" ё схчяырђэр ...</td>\n",
       "      <td>http://www.dnes.co.uk/195578/rekviem-za-vanga-...</td>\n",
       "      <td>16.5.2017</td>\n",
       "      <td>Уырёѓтрщ чр ёђрђшџђр аѓёъю-сњыур№ёъшџђ фюъѓьхэ...</td>\n",
       "    </tr>\n",
       "    <tr>\n",
       "      <th>2</th>\n",
       "      <td>3</td>\n",
       "      <td>врщэшђх ряюърышяђшїэш ёъ№штрышљр эр ётхђютэшџ ...</td>\n",
       "      <td>http://gudelnews.com/index.php?option=com_cont...</td>\n",
       "      <td>15.5.2017</td>\n",
       "      <td>Я№хч 2012-2013 у. ётхђютэшџђ хышђ, ёяю№хф эџъю...</td>\n",
       "    </tr>\n",
       "    <tr>\n",
       "      <th>3</th>\n",
       "      <td>1</td>\n",
       "      <td>бюєшщёъш єхёђштры эр эрѓърђр 2017  ърътю тшфџ...</td>\n",
       "      <td>http://nauka.offnews.bg/news/Novini_1/Sofijski...</td>\n",
       "      <td>15.5.2017</td>\n",
       "      <td>бтњ№чрэш эютшэшЯ№хч яюёыхфэшђх уюфшэш тёџър я№...</td>\n",
       "    </tr>\n",
       "    <tr>\n",
       "      <th>4</th>\n",
       "      <td>3</td>\n",
       "      <td>Я№ю№юїхёђтрђр эр дрђшьр-Ьшёђх№шючэрђр шёђю№шџ ...</td>\n",
       "      <td>http://novinite711.com/noa/40179</td>\n",
       "      <td>15.5.2017</td>\n",
       "      <td>вџ я№хф№шїр шфтрэхђю эр ъюьѓэшчьр, Тђю№рђр ётх...</td>\n",
       "    </tr>\n",
       "  </tbody>\n",
       "</table>\n",
       "</div>"
      ],
      "text/plain": [
       "   click_bait_score                                      Content Title  \\\n",
       "0                 3  Ъхщђш Ях№ш я№шчэртр, тшфхю сњфхј Illuminati Sl...   \n",
       "1                 1  \"ахътшхь чр Трэур юђ Ыўфьшыр Ъшь\" ё схчяырђэр ...   \n",
       "2                 3  врщэшђх ряюърышяђшїэш ёъ№штрышљр эр ётхђютэшџ ...   \n",
       "3                 1  бюєшщёъш єхёђштры эр эрѓърђр 2017  ърътю тшфџ...   \n",
       "4                 3  Я№ю№юїхёђтрђр эр дрђшьр-Ьшёђх№шючэрђр шёђю№шџ ...   \n",
       "\n",
       "                                         Content Url Content Published Time  \\\n",
       "0  http://zahariada.blog.bg/lifestyle/2017/05/17/...              17.5.2017   \n",
       "1  http://www.dnes.co.uk/195578/rekviem-za-vanga-...              16.5.2017   \n",
       "2  http://gudelnews.com/index.php?option=com_cont...              15.5.2017   \n",
       "3  http://nauka.offnews.bg/news/Novini_1/Sofijski...              15.5.2017   \n",
       "4                   http://novinite711.com/noa/40179              15.5.2017   \n",
       "\n",
       "                                             Content  \n",
       "0  14 ьрщ 2017 Baxter Фьшђ№шщ Ъюэёяш№рішш , Шчсю№...  \n",
       "1  Уырёѓтрщ чр ёђрђшџђр аѓёъю-сњыур№ёъшџђ фюъѓьхэ...  \n",
       "2  Я№хч 2012-2013 у. ётхђютэшџђ хышђ, ёяю№хф эџъю...  \n",
       "3  бтњ№чрэш эютшэшЯ№хч яюёыхфэшђх уюфшэш тёџър я№...  \n",
       "4  вџ я№хф№шїр шфтрэхђю эр ъюьѓэшчьр, Тђю№рђр ётх...  "
      ]
     },
     "execution_count": 19,
     "metadata": {},
     "output_type": "execute_result"
    }
   ],
   "source": [
    "df2.head()"
   ]
  },
  {
   "cell_type": "code",
   "execution_count": 20,
   "metadata": {},
   "outputs": [],
   "source": [
    "df2.drop(columns=['Content Published Time', 'Content Url', 'Content'], inplace=True)"
   ]
  },
  {
   "cell_type": "code",
   "execution_count": 21,
   "metadata": {},
   "outputs": [],
   "source": [
    "df2['click_bait_score'] = df2['click_bait_score'].apply(lambda score: 0 if score == 1 else 1)"
   ]
  },
  {
   "cell_type": "code",
   "execution_count": 22,
   "metadata": {},
   "outputs": [
    {
     "data": {
      "text/html": [
       "<div>\n",
       "<style scoped>\n",
       "    .dataframe tbody tr th:only-of-type {\n",
       "        vertical-align: middle;\n",
       "    }\n",
       "\n",
       "    .dataframe tbody tr th {\n",
       "        vertical-align: top;\n",
       "    }\n",
       "\n",
       "    .dataframe thead th {\n",
       "        text-align: right;\n",
       "    }\n",
       "</style>\n",
       "<table border=\"1\" class=\"dataframe\">\n",
       "  <thead>\n",
       "    <tr style=\"text-align: right;\">\n",
       "      <th></th>\n",
       "      <th>click_bait_score</th>\n",
       "      <th>Content Title</th>\n",
       "    </tr>\n",
       "  </thead>\n",
       "  <tbody>\n",
       "    <tr>\n",
       "      <th>0</th>\n",
       "      <td>1</td>\n",
       "      <td>Ъхщђш Ях№ш я№шчэртр, тшфхю сњфхј Illuminati Sl...</td>\n",
       "    </tr>\n",
       "    <tr>\n",
       "      <th>1</th>\n",
       "      <td>0</td>\n",
       "      <td>\"ахътшхь чр Трэур юђ Ыўфьшыр Ъшь\" ё схчяырђэр ...</td>\n",
       "    </tr>\n",
       "    <tr>\n",
       "      <th>2</th>\n",
       "      <td>1</td>\n",
       "      <td>врщэшђх ряюърышяђшїэш ёъ№штрышљр эр ётхђютэшџ ...</td>\n",
       "    </tr>\n",
       "    <tr>\n",
       "      <th>3</th>\n",
       "      <td>0</td>\n",
       "      <td>бюєшщёъш єхёђштры эр эрѓърђр 2017  ърътю тшфџ...</td>\n",
       "    </tr>\n",
       "    <tr>\n",
       "      <th>4</th>\n",
       "      <td>1</td>\n",
       "      <td>Я№ю№юїхёђтрђр эр дрђшьр-Ьшёђх№шючэрђр шёђю№шџ ...</td>\n",
       "    </tr>\n",
       "  </tbody>\n",
       "</table>\n",
       "</div>"
      ],
      "text/plain": [
       "   click_bait_score                                      Content Title\n",
       "0                 1  Ъхщђш Ях№ш я№шчэртр, тшфхю сњфхј Illuminati Sl...\n",
       "1                 0  \"ахътшхь чр Трэур юђ Ыўфьшыр Ъшь\" ё схчяырђэр ...\n",
       "2                 1  врщэшђх ряюърышяђшїэш ёъ№штрышљр эр ётхђютэшџ ...\n",
       "3                 0  бюєшщёъш єхёђштры эр эрѓърђр 2017  ърътю тшфџ...\n",
       "4                 1  Я№ю№юїхёђтрђр эр дрђшьр-Ьшёђх№шючэрђр шёђю№шџ ..."
      ]
     },
     "execution_count": 22,
     "metadata": {},
     "output_type": "execute_result"
    }
   ],
   "source": [
    "df2.head()"
   ]
  },
  {
   "cell_type": "code",
   "execution_count": 23,
   "metadata": {},
   "outputs": [
    {
     "name": "stdout",
     "output_type": "stream",
     "text": [
      "ClickBait: 542\n",
      "Non Clickbait: 219\n"
     ]
    }
   ],
   "source": [
    "print(\"ClickBait: %d\\nNon Clickbait: %d\" \n",
    "      % (df2[df2['click_bait_score'] == 1].shape[0],\n",
    "         df2[df2['click_bait_score'] == 0].shape[0]))"
   ]
  },
  {
   "cell_type": "code",
   "execution_count": 24,
   "metadata": {},
   "outputs": [],
   "source": [
    "df2.to_csv('/home/mahesh/Documents/SF-ClickBait/datasets/bulgarian/Test_Cleaned.csv')"
   ]
  },
  {
   "cell_type": "code",
   "execution_count": null,
   "metadata": {},
   "outputs": [],
   "source": []
  }
 ],
 "metadata": {
  "kernelspec": {
   "display_name": "Python 3",
   "language": "python",
   "name": "python3"
  },
  "language_info": {
   "codemirror_mode": {
    "name": "ipython",
    "version": 3
   },
   "file_extension": ".py",
   "mimetype": "text/x-python",
   "name": "python",
   "nbconvert_exporter": "python",
   "pygments_lexer": "ipython3",
   "version": "3.8.3"
  }
 },
 "nbformat": 4,
 "nbformat_minor": 4
}
