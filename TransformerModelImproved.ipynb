{
  "nbformat": 4,
  "nbformat_minor": 0,
  "metadata": {
    "colab": {
      "name": "TransformerModelImproved",
      "provenance": [],
      "collapsed_sections": []
    },
    "kernelspec": {
      "name": "python3",
      "display_name": "Python 3"
    },
    "accelerator": "GPU"
  },
  "cells": [
    {
      "cell_type": "code",
      "metadata": {
        "id": "lBnaYLtyZcJF",
        "colab_type": "code",
        "colab": {}
      },
      "source": [
        "import math\n",
        "\n",
        "import re\n",
        "\n",
        "import time\n",
        "\n",
        "from google.colab import drive\n",
        "\n",
        "import warnings\n",
        "\n",
        "warnings.filterwarnings('ignore')"
      ],
      "execution_count": 1,
      "outputs": []
    },
    {
      "cell_type": "code",
      "metadata": {
        "id": "BInxdKa5ZfXj",
        "colab_type": "code",
        "colab": {}
      },
      "source": [
        "try :\n",
        "\n",
        "    %tensorflow_version 2.x\n",
        "\n",
        "except :\n",
        "\n",
        "    pass\n",
        "    \n",
        "import tensorflow as tf\n",
        "\n",
        "from tensorflow.keras import layers\n",
        "\n",
        "import tensorflow_datasets as tfds"
      ],
      "execution_count": 2,
      "outputs": []
    },
    {
      "cell_type": "code",
      "metadata": {
        "id": "WO_Q8mg8Zg9C",
        "colab_type": "code",
        "colab": {
          "base_uri": "https://localhost:8080/",
          "height": 103
        },
        "outputId": "f25e5eac-22e4-4d9f-affb-24267d40884d"
      },
      "source": [
        "import pandas as pd\n",
        "\n",
        "import numpy as np\n",
        "\n",
        "import h5py\n",
        "\n",
        "from gensim.models import Word2Vec\n",
        "\n",
        "import gensim.models\n",
        "\n",
        "from tensorflow import keras\n",
        "\n",
        "from tensorflow.keras.callbacks import ModelCheckpoint\n",
        "\n",
        "from tensorflow.keras.callbacks import EarlyStopping\n",
        "\n",
        "from tensorflow.keras.models import Sequential\n",
        "\n",
        "from sklearn.metrics import roc_auc_score\n",
        "\n",
        "from sklearn.metrics import classification_report\n",
        "\n",
        "from sklearn.metrics import confusion_matrix\n",
        "\n",
        "import matplotlib.pyplot as plt\n",
        "\n",
        "from sklearn.model_selection import StratifiedKFold\n",
        "\n",
        "from tensorflow.keras.layers import Dense\n",
        "\n",
        "from tensorflow.keras.layers import Embedding\n",
        "\n",
        "from tensorflow.keras.layers import Dropout\n",
        "\n",
        "from tensorflow.keras.layers import Activation\n",
        "\n",
        "from tensorflow.keras.layers import Bidirectional\n",
        "\n",
        "from tensorflow.keras.layers import LSTM\n",
        "\n",
        "from tensorflow.keras.layers import SimpleRNN\n",
        "\n",
        "from tensorflow.keras.layers import GRU\n",
        "\n",
        "from tensorflow.keras.preprocessing.sequence import pad_sequences \n",
        "\n",
        "import re\n",
        "\n",
        "from nltk.tokenize import word_tokenize\n",
        "\n",
        "import nltk\n",
        "\n",
        "nltk.download('punkt')\n",
        "\n",
        "from nltk.corpus import stopwords \n",
        "\n",
        "nltk.download('stopwords')"
      ],
      "execution_count": 3,
      "outputs": [
        {
          "output_type": "stream",
          "text": [
            "[nltk_data] Downloading package punkt to /root/nltk_data...\n",
            "[nltk_data]   Package punkt is already up-to-date!\n",
            "[nltk_data] Downloading package stopwords to /root/nltk_data...\n",
            "[nltk_data]   Package stopwords is already up-to-date!\n"
          ],
          "name": "stdout"
        },
        {
          "output_type": "execute_result",
          "data": {
            "text/plain": [
              "True"
            ]
          },
          "metadata": {
            "tags": []
          },
          "execution_count": 3
        }
      ]
    },
    {
      "cell_type": "code",
      "metadata": {
        "id": "GLUjgjw4Zizy",
        "colab_type": "code",
        "colab": {
          "base_uri": "https://localhost:8080/",
          "height": 34
        },
        "outputId": "2ebe5cb3-984e-4c23-c09b-81d798dc26c5"
      },
      "source": [
        "drive.mount(\"/content/drive\")"
      ],
      "execution_count": 4,
      "outputs": [
        {
          "output_type": "stream",
          "text": [
            "Drive already mounted at /content/drive; to attempt to forcibly remount, call drive.mount(\"/content/drive\", force_remount=True).\n"
          ],
          "name": "stdout"
        }
      ]
    },
    {
      "cell_type": "code",
      "metadata": {
        "id": "rEFUAQycZl9q",
        "colab_type": "code",
        "colab": {
          "base_uri": "https://localhost:8080/",
          "height": 137
        },
        "outputId": "51153dc1-e7cc-4fe2-8810-c056e817285a"
      },
      "source": [
        "data_clickbait = pd . read_csv ('/content/drive/My Drive/clickbait_data' , sep = ' \\ n ' , header = None )\n",
        "\n",
        "data_noclickbait = pd . read_csv ('/content/drive/My Drive/non_clickbait_data' , sep = ' \\ n ' , header = None )\n",
        "\n",
        "data_clickbait = data_clickbait.sample(frac = 7.5/16)\n",
        "\n",
        "data_noclickbait = data_noclickbait.sample(frac = 7.5/16)\n",
        "\n",
        "data_clickbait['class'] = [1 for i in range(7500)]\n",
        "\n",
        "data_noclickbait['class'] = [0 for i in range(7500)] \n",
        "\n",
        "data_Final = pd . concat (( data_clickbait , data_noclickbait ), ignore_index = True ) \n",
        "\n",
        "df = data_Final . rename ( columns = { 0 : \"text\" })\n",
        "\n",
        "df = df . sample ( frac = 1 ). reset_index ( drop = True )\n",
        "\n",
        "print(df.shape)\n",
        "\n",
        "print(df.head(5))"
      ],
      "execution_count": 5,
      "outputs": [
        {
          "output_type": "stream",
          "text": [
            "(15000, 2)\n",
            "                                                text  class\n",
            "0  Stop What You're Doing And Watch Justin Bieber...      1\n",
            "1  Vandalism on online epilepsy forum triggers co...      0\n",
            "2  This Woman Had The Best Response When Her Tind...      1\n",
            "3  Aircraft wreckage in Atlantic confirmed to be ...      0\n",
            "4  We Know If You're A Cat Or Dog Person Based On...      1\n"
          ],
          "name": "stdout"
        }
      ]
    },
    {
      "cell_type": "code",
      "metadata": {
        "id": "mq2HOMXrZ4Lx",
        "colab_type": "code",
        "colab": {
          "base_uri": "https://localhost:8080/",
          "height": 398
        },
        "outputId": "50b52f96-6234-4fb3-bebb-de0b3c760ca2"
      },
      "source": [
        "df"
      ],
      "execution_count": 6,
      "outputs": [
        {
          "output_type": "execute_result",
          "data": {
            "text/html": [
              "<div>\n",
              "<style scoped>\n",
              "    .dataframe tbody tr th:only-of-type {\n",
              "        vertical-align: middle;\n",
              "    }\n",
              "\n",
              "    .dataframe tbody tr th {\n",
              "        vertical-align: top;\n",
              "    }\n",
              "\n",
              "    .dataframe thead th {\n",
              "        text-align: right;\n",
              "    }\n",
              "</style>\n",
              "<table border=\"1\" class=\"dataframe\">\n",
              "  <thead>\n",
              "    <tr style=\"text-align: right;\">\n",
              "      <th></th>\n",
              "      <th>text</th>\n",
              "      <th>class</th>\n",
              "    </tr>\n",
              "  </thead>\n",
              "  <tbody>\n",
              "    <tr>\n",
              "      <th>0</th>\n",
              "      <td>Stop What You're Doing And Watch Justin Bieber...</td>\n",
              "      <td>1</td>\n",
              "    </tr>\n",
              "    <tr>\n",
              "      <th>1</th>\n",
              "      <td>Vandalism on online epilepsy forum triggers co...</td>\n",
              "      <td>0</td>\n",
              "    </tr>\n",
              "    <tr>\n",
              "      <th>2</th>\n",
              "      <td>This Woman Had The Best Response When Her Tind...</td>\n",
              "      <td>1</td>\n",
              "    </tr>\n",
              "    <tr>\n",
              "      <th>3</th>\n",
              "      <td>Aircraft wreckage in Atlantic confirmed to be ...</td>\n",
              "      <td>0</td>\n",
              "    </tr>\n",
              "    <tr>\n",
              "      <th>4</th>\n",
              "      <td>We Know If You're A Cat Or Dog Person Based On...</td>\n",
              "      <td>1</td>\n",
              "    </tr>\n",
              "    <tr>\n",
              "      <th>...</th>\n",
              "      <td>...</td>\n",
              "      <td>...</td>\n",
              "    </tr>\n",
              "    <tr>\n",
              "      <th>14995</th>\n",
              "      <td>New human HIV strain discovered in France</td>\n",
              "      <td>0</td>\n",
              "    </tr>\n",
              "    <tr>\n",
              "      <th>14996</th>\n",
              "      <td>China: Heavy flooding displaces over a million...</td>\n",
              "      <td>0</td>\n",
              "    </tr>\n",
              "    <tr>\n",
              "      <th>14997</th>\n",
              "      <td>19 Ways Pink Eyeshadow Can Actually Look Total...</td>\n",
              "      <td>1</td>\n",
              "    </tr>\n",
              "    <tr>\n",
              "      <th>14998</th>\n",
              "      <td>Thoughts Everyone Has In Public Bathrooms</td>\n",
              "      <td>1</td>\n",
              "    </tr>\n",
              "    <tr>\n",
              "      <th>14999</th>\n",
              "      <td>Here Are 19 Insanely Popular Crock Pot Recipes</td>\n",
              "      <td>1</td>\n",
              "    </tr>\n",
              "  </tbody>\n",
              "</table>\n",
              "<p>15000 rows × 2 columns</p>\n",
              "</div>"
            ],
            "text/plain": [
              "                                                    text  class\n",
              "0      Stop What You're Doing And Watch Justin Bieber...      1\n",
              "1      Vandalism on online epilepsy forum triggers co...      0\n",
              "2      This Woman Had The Best Response When Her Tind...      1\n",
              "3      Aircraft wreckage in Atlantic confirmed to be ...      0\n",
              "4      We Know If You're A Cat Or Dog Person Based On...      1\n",
              "...                                                  ...    ...\n",
              "14995          New human HIV strain discovered in France      0\n",
              "14996  China: Heavy flooding displaces over a million...      0\n",
              "14997  19 Ways Pink Eyeshadow Can Actually Look Total...      1\n",
              "14998          Thoughts Everyone Has In Public Bathrooms      1\n",
              "14999     Here Are 19 Insanely Popular Crock Pot Recipes      1\n",
              "\n",
              "[15000 rows x 2 columns]"
            ]
          },
          "metadata": {
            "tags": []
          },
          "execution_count": 6
        }
      ]
    },
    {
      "cell_type": "code",
      "metadata": {
        "id": "VyA7JmVAZ50Z",
        "colab_type": "code",
        "colab": {}
      },
      "source": [
        "stop_words  =  set ( stopwords . words ( 'english' ))"
      ],
      "execution_count": 7,
      "outputs": []
    },
    {
      "cell_type": "code",
      "metadata": {
        "id": "87wv0ADBZ7tq",
        "colab_type": "code",
        "colab": {}
      },
      "source": [
        "from sklearn.model_selection import train_test_split\n",
        "\n",
        "L = []\n",
        "for  i , token  in  enumerate ( df [ 'text' ]):\n",
        "    words = [ w  for  w  in  token . split ()]\n",
        "    L . append ( len ( words ))\n",
        "    \n",
        "sequence_size = max ( L )\n",
        "\n",
        "\n",
        "X = df['text']\n",
        "\n",
        "y = df['class']\n",
        "\n",
        "X_train, X_test, y_train, y_test = train_test_split(X , y, test_size = 0.2, random_state = 42)\n",
        "\n",
        "X_train, X_val, y_train, y_val = train_test_split(X_train, y_train, test_size = 0.25, random_state = 42)"
      ],
      "execution_count": 8,
      "outputs": []
    },
    {
      "cell_type": "code",
      "metadata": {
        "id": "8J-6KN_ZZ9dp",
        "colab_type": "code",
        "colab": {}
      },
      "source": [
        "y_train = np.array(y_train)\n",
        "\n",
        "y_test = np.array(y_test)\n",
        "\n",
        "y_val = np.array(y_val)"
      ],
      "execution_count": 9,
      "outputs": []
    },
    {
      "cell_type": "code",
      "metadata": {
        "id": "OM9dY7aUZ_Pq",
        "colab_type": "code",
        "colab": {}
      },
      "source": [
        "WORD2VEC_VECTORS_BIN  = '/content/drive/My Drive/GoogleNews-vectors-negative300.bin'\n",
        "\n",
        "w2v  =  gensim.models.KeyedVectors.load_word2vec_format(WORD2VEC_VECTORS_BIN , binary = True )"
      ],
      "execution_count": 10,
      "outputs": []
    },
    {
      "cell_type": "code",
      "metadata": {
        "id": "EPH4XjAjLBhw",
        "colab_type": "code",
        "colab": {
          "base_uri": "https://localhost:8080/",
          "height": 68
        },
        "outputId": "da69a27b-ea66-41f8-d63d-8e18186ce943"
      },
      "source": [
        "train_data=np.zeros((len(X_train), sequence_size, 300))\n",
        "\n",
        "val_data=np.zeros((len(X_val), sequence_size, 300))\n",
        "\n",
        "test_data = np.zeros((len(X_test), sequence_size, 300))\n",
        "\n",
        "for i,sentence in enumerate(X_train) :\n",
        "\n",
        "  sentence = sentence.replace('-', ' ')\n",
        "\n",
        "  words = nltk.word_tokenize(sentence)\n",
        "\n",
        "  j = 0 \n",
        "\n",
        "  for  w  in  words :\n",
        "\n",
        "    try :\n",
        "        \n",
        "      train_data [ i , j ] = w2v [ w ]\n",
        "\n",
        "      j += 1\n",
        "\n",
        "    except :\n",
        "        \n",
        "      pass\n",
        "\n",
        "for i,sentence in enumerate(X_val) :\n",
        "\n",
        "  sentence = sentence.replace('-',' ')\n",
        "\n",
        "  words = nltk.word_tokenize(sentence)\n",
        "\n",
        "  j = 0\n",
        "  \n",
        "  for  w  in  words :\n",
        "\n",
        "    try :\n",
        "        \n",
        "      val_data [ i , j ] = w2v [ w ]\n",
        "\n",
        "      j += 1\n",
        "\n",
        "    except :\n",
        "        \n",
        "      pass\n",
        "        \n",
        "\n",
        "for i,sentence in enumerate(X_test) :\n",
        "\n",
        "  sentence = sentence.replace('-',' ')\n",
        "\n",
        "  words = nltk.word_tokenize(sentence)\n",
        "\n",
        "  j = 0\n",
        "  \n",
        "  for  w  in  words :\n",
        "\n",
        "    try :\n",
        "        \n",
        "      test_data [ i , j ] = w2v [ w ]\n",
        "\n",
        "      j += 1\n",
        "\n",
        "    except :\n",
        "        \n",
        "      pass\n",
        "  \n",
        "print (test_data.shape)\n",
        "print (train_data.shape)\n",
        "print (val_data.shape)"
      ],
      "execution_count": 11,
      "outputs": [
        {
          "output_type": "stream",
          "text": [
            "(3000, 26, 300)\n",
            "(9000, 26, 300)\n",
            "(3000, 26, 300)\n"
          ],
          "name": "stdout"
        }
      ]
    },
    {
      "cell_type": "code",
      "metadata": {
        "id": "jFl9wNKwaQm2",
        "colab_type": "code",
        "colab": {}
      },
      "source": [
        "class PositionalEncoding(layers.Layer):\n",
        "  \n",
        "    def __init__(self) :\n",
        "\n",
        "        super(PositionalEncoding, self).__init__()\n",
        "    \n",
        "    def get_angles(self, pos, i, d_model) :\n",
        "\n",
        "        angles = 1 / np.power(10000., (2*(i//2)) / np.float32(d_model))\n",
        "\n",
        "        return pos * angles\n",
        "\n",
        "    def call(self, inputs) :\n",
        "\n",
        "        seq_length = inputs.shape.as_list()[-2]\n",
        "\n",
        "        d_model = inputs.shape.as_list()[-1]\n",
        "\n",
        "        angles = self.get_angles(np.arange(seq_length)[:, np.newaxis],np.arange(d_model)[np.newaxis, :],d_model)\n",
        "\n",
        "        angles[:, 0::2] = np.sin(angles[:, 0::2])\n",
        "\n",
        "        angles[:, 1::2] = np.cos(angles[:, 1::2])\n",
        "        \n",
        "        pos_encoding = angles[np.newaxis, ...]\n",
        "\n",
        "        return inputs + tf.cast(pos_encoding, tf.float32)"
      ],
      "execution_count": 12,
      "outputs": []
    },
    {
      "cell_type": "code",
      "metadata": {
        "id": "1Q7LtllFaV12",
        "colab_type": "code",
        "colab": {}
      },
      "source": [
        "def scaled_dot_product_attention(queries, keys, values, mask) :\n",
        "  \n",
        "    product = tf.matmul(queries, keys, transpose_b  = True)\n",
        "    \n",
        "    keys_dim = tf.cast(tf.shape(keys)[-1], tf.float32)\n",
        "\n",
        "    scaled_product = product / tf.math.sqrt(keys_dim)\n",
        "    \n",
        "    attention = tf.matmul(tf.nn.softmax(scaled_product, axis = -1), values)\n",
        "    \n",
        "    return attention"
      ],
      "execution_count": 13,
      "outputs": []
    },
    {
      "cell_type": "code",
      "metadata": {
        "id": "2lDxXvPwaeN0",
        "colab_type": "code",
        "colab": {}
      },
      "source": [
        "class MultiHeadAttention(layers.Layer):\n",
        "    \n",
        "    def __init__(self, nb_proj) :\n",
        "\n",
        "        super(MultiHeadAttention, self).__init__()\n",
        "\n",
        "        self.nb_proj = nb_proj\n",
        "        \n",
        "    def build(self, input_shape) :\n",
        "\n",
        "        self.d_model = input_shape[-1]\n",
        "\n",
        "        assert self.d_model % self.nb_proj == 0\n",
        "        \n",
        "        self.d_proj = self.d_model // self.nb_proj\n",
        "        \n",
        "        self.query_lin = layers.Dense(units=self.d_model)\n",
        "\n",
        "        self.key_lin = layers.Dense(units=self.d_model)\n",
        "\n",
        "        self.value_lin = layers.Dense(units=self.d_model)\n",
        "        \n",
        "        self.final_lin = layers.Dense(units=self.d_model)\n",
        "        \n",
        "    def split_proj(self, inputs, batch_size): # inputs: (batch_size, seq_length, d_model)\n",
        "\n",
        "        shape = (batch_size,-1, self.nb_proj,self.d_proj)\n",
        "\n",
        "        splited_inputs = tf.reshape(inputs, shape=shape) # (batch_size, seq_length, nb_proj, d_proj)\n",
        "\n",
        "        return tf.transpose(splited_inputs, perm=[0, 2, 1, 3]) # (batch_size, nb_proj, seq_length, d_proj)\n",
        "    \n",
        "    def call(self, queries, keys, values, mask) :\n",
        "\n",
        "        batch_size = tf.shape(queries)[0]\n",
        "        \n",
        "        queries = self.query_lin(queries)\n",
        "\n",
        "        keys = self.key_lin(keys)\n",
        "\n",
        "        values = self.value_lin(values)\n",
        "        \n",
        "        queries = self.split_proj(queries, batch_size)\n",
        "\n",
        "        keys = self.split_proj(keys, batch_size)\n",
        "\n",
        "        values = self.split_proj(values, batch_size)\n",
        "        \n",
        "        attention = scaled_dot_product_attention(queries, keys, values, mask)\n",
        "        \n",
        "        attention = tf.transpose(attention, perm=[0, 2, 1, 3])\n",
        "        \n",
        "        concat_attention = tf.reshape(attention,shape=(batch_size, -1, self.d_model))\n",
        "        \n",
        "        outputs = self.final_lin(concat_attention)\n",
        "        \n",
        "        return outputs"
      ],
      "execution_count": 14,
      "outputs": []
    },
    {
      "cell_type": "code",
      "metadata": {
        "id": "4uvjMQttaeQ7",
        "colab_type": "code",
        "colab": {}
      },
      "source": [
        "class EncoderLayer(layers.Layer):\n",
        "    \n",
        "    def __init__(self, FFN_units, nb_proj, dropout_rate) :\n",
        "\n",
        "        super(EncoderLayer, self).__init__()\n",
        "\n",
        "        self.FFN_units = FFN_units\n",
        "\n",
        "        self.nb_proj = nb_proj\n",
        "\n",
        "        self.dropout_rate = dropout_rate\n",
        "    \n",
        "    def build(self, input_shape) :\n",
        "\n",
        "        self.d_model = input_shape[-1]\n",
        "        \n",
        "        self.multi_head_attention = MultiHeadAttention(self.nb_proj)\n",
        "\n",
        "        self.dropout_1 = layers.Dropout(rate=self.dropout_rate)\n",
        "\n",
        "        self.norm_1 = layers.LayerNormalization(epsilon=1e-6)\n",
        "        \n",
        "        self.dense_1 = layers.Dense(units=self.FFN_units, activation=\"relu\")\n",
        "\n",
        "        self.dense_2 = layers.Dense(units=self.d_model)\n",
        "\n",
        "        self.dropout_2 = layers.Dropout(rate=self.dropout_rate)\n",
        "\n",
        "        self.norm_2 = layers.LayerNormalization(epsilon=1e-6)\n",
        "        \n",
        "    def call(self, inputs, mask, training) :\n",
        "\n",
        "        attention = self.multi_head_attention(inputs,\n",
        "                                              inputs,\n",
        "                                              inputs,\n",
        "                                              mask)\n",
        "        \n",
        "        attention = self.dropout_1(attention, training=training)\n",
        "\n",
        "        attention = self.norm_1(attention + inputs)\n",
        "        \n",
        "        outputs = self.dense_1(attention)\n",
        "\n",
        "        outputs = self.dense_2(outputs)\n",
        "\n",
        "        outputs = self.dropout_2(outputs, training=training)\n",
        "        \n",
        "        outputs = self.norm_2(outputs + attention)\n",
        "        \n",
        "        return outputs"
      ],
      "execution_count": 15,
      "outputs": []
    },
    {
      "cell_type": "code",
      "metadata": {
        "id": "kaF-Q2K_lm16",
        "colab_type": "code",
        "colab": {}
      },
      "source": [
        "class Encoder(layers.Layer) :\n",
        "    \n",
        "    def __init__(self,\n",
        "                 nb_layers,\n",
        "                 FFN_units,\n",
        "                 nb_proj,\n",
        "                 dropout_rate,\n",
        "                 d_model,\n",
        "                 name=\"encoder\") :\n",
        "\n",
        "        super(Encoder, self).__init__(name=name)\n",
        "\n",
        "        self.nb_layers = nb_layers\n",
        "\n",
        "        self.d_model = d_model\n",
        "        \n",
        "        self.pos_encoding = PositionalEncoding()\n",
        "\n",
        "        self.dropout = layers.Dropout(rate=dropout_rate)\n",
        "\n",
        "        self.enc_layers = [EncoderLayer(FFN_units,\n",
        "                                        nb_proj,\n",
        "                                        dropout_rate) \n",
        "                           for _ in range(nb_layers)]\n",
        "    \n",
        "    def call(self, inputs, mask, training) :\n",
        "\n",
        "\n",
        "        inputs *= tf.math.sqrt(tf.cast(self.d_model, tf.float32))\n",
        "\n",
        "        outputs = self.pos_encoding(inputs)\n",
        "\n",
        "        outputs = self.dropout(outputs, training)\n",
        "        \n",
        "        for i in range(self.nb_layers) :\n",
        "          \n",
        "            outputs = self.enc_layers[i](outputs, mask, training)\n",
        "\n",
        "        return outputs"
      ],
      "execution_count": 16,
      "outputs": []
    },
    {
      "cell_type": "code",
      "metadata": {
        "id": "GJcIjNCQlseu",
        "colab_type": "code",
        "colab": {}
      },
      "source": [
        "class Transformer(tf.keras.Model):\n",
        "    \n",
        "    def __init__(self,\n",
        "                 d_model,\n",
        "                 nb_layers,\n",
        "                 FFN_units,\n",
        "                 nb_proj,\n",
        "                 dropout_rate,\n",
        "                 name=\"transformer\"):\n",
        "        super(Transformer, self).__init__(name=name)\n",
        "        \n",
        "        self.encoder = Encoder(nb_layers,\n",
        "                               FFN_units,\n",
        "                               nb_proj,\n",
        "                               dropout_rate,\n",
        "                               d_model)\n",
        "        # self.last_linear = layers.Dense(units=vocab_size_dec, name=\"lin_ouput\")\n",
        "    \n",
        "    def create_padding_mask(self, seq):\n",
        "        mask = tf.cast(tf.math.equal(seq, 0), tf.float32)\n",
        "        return mask[:, tf.newaxis, tf.newaxis, :]\n",
        "\n",
        "    def create_look_ahead_mask(self, seq):\n",
        "        seq_len = tf.shape(seq)[1]\n",
        "        look_ahead_mask = 1 - tf.linalg.band_part(tf.ones((seq_len, seq_len)), -1, 0)\n",
        "        return look_ahead_mask\n",
        "    \n",
        "    def call(self, enc_inputs, training = True):\n",
        "        enc_mask = self.create_padding_mask(enc_inputs)\n",
        "        \n",
        "        enc_outputs = self.encoder(enc_inputs, enc_mask, training)\n",
        "        \n",
        "        return enc_outputs"
      ],
      "execution_count": 17,
      "outputs": []
    },
    {
      "cell_type": "code",
      "metadata": {
        "id": "9moaXe9eaBqR",
        "colab_type": "code",
        "colab": {
          "base_uri": "https://localhost:8080/",
          "height": 429
        },
        "outputId": "d9ebeb2d-2e49-4faf-dcef-6cc8ce17869a"
      },
      "source": [
        "D_MODEL = 300\n",
        "\n",
        "NB_LAYERS = 2\n",
        "\n",
        "FFN_UNITS = 512\n",
        "\n",
        "NB_PROJ = 4\n",
        "\n",
        "DROPOUT_RATE = 0.1\n",
        "\n",
        "transformer = Transformer(d_model = D_MODEL,\n",
        "                          nb_layers = NB_LAYERS,\n",
        "                          FFN_units = FFN_UNITS,\n",
        "                          nb_proj = NB_PROJ,\n",
        "                          dropout_rate = DROPOUT_RATE)\n",
        "\n",
        "\n",
        "inputs = layers.Input(shape = (sequence_size,D_MODEL))\n",
        "\n",
        "x = transformer(inputs)\n",
        "\n",
        "x = layers.Flatten()(x)\n",
        "\n",
        "x = layers.Dense(512, activation=\"relu\")(x)\n",
        "\n",
        "x = layers.Dropout(0.1)(x)\n",
        "\n",
        "x = layers.Dense(256, activation=\"relu\")(x)\n",
        "\n",
        "x = layers.Dropout(0.1)(x)\n",
        "\n",
        "outputs = layers.Dense(1, activation=\"sigmoid\")(x)\n",
        "\n",
        "model = keras.Model(inputs = inputs, outputs = outputs)\n",
        "\n",
        "model.summary()\n",
        "\n",
        "model.compile(loss = 'binary_crossentropy' , optimizer = 'adam' , metrics = ['accuracy'])"
      ],
      "execution_count": 18,
      "outputs": [
        {
          "output_type": "stream",
          "text": [
            "Model: \"model\"\n",
            "_________________________________________________________________\n",
            "Layer (type)                 Output Shape              Param #   \n",
            "=================================================================\n",
            "input_1 (InputLayer)         [(None, 26, 300)]         0         \n",
            "_________________________________________________________________\n",
            "transformer (Transformer)    (None, 26, 300)           1340824   \n",
            "_________________________________________________________________\n",
            "flatten (Flatten)            (None, 7800)              0         \n",
            "_________________________________________________________________\n",
            "dense (Dense)                (None, 512)               3994112   \n",
            "_________________________________________________________________\n",
            "dropout_1 (Dropout)          (None, 512)               0         \n",
            "_________________________________________________________________\n",
            "dense_1 (Dense)              (None, 256)               131328    \n",
            "_________________________________________________________________\n",
            "dropout_2 (Dropout)          (None, 256)               0         \n",
            "_________________________________________________________________\n",
            "dense_2 (Dense)              (None, 1)                 257       \n",
            "=================================================================\n",
            "Total params: 5,466,521\n",
            "Trainable params: 5,466,521\n",
            "Non-trainable params: 0\n",
            "_________________________________________________________________\n"
          ],
          "name": "stdout"
        }
      ]
    },
    {
      "cell_type": "code",
      "metadata": {
        "id": "oOnxkZRdaEAi",
        "colab_type": "code",
        "colab": {
          "base_uri": "https://localhost:8080/",
          "height": 704
        },
        "outputId": "873db3bb-645b-46e8-d7cc-a2ad0b034408"
      },
      "source": [
        "history = model.fit(train_data , y_train  , batch_size = 64 , epochs = 20 , validation_data = (val_data , y_val), verbose = 1)"
      ],
      "execution_count": 19,
      "outputs": [
        {
          "output_type": "stream",
          "text": [
            "Epoch 1/20\n",
            "141/141 [==============================] - 6s 42ms/step - loss: 0.2947 - accuracy: 0.9312 - val_loss: 0.1089 - val_accuracy: 0.9750\n",
            "Epoch 2/20\n",
            "141/141 [==============================] - 5s 36ms/step - loss: 0.0736 - accuracy: 0.9768 - val_loss: 0.0725 - val_accuracy: 0.9753\n",
            "Epoch 3/20\n",
            "141/141 [==============================] - 5s 37ms/step - loss: 0.0579 - accuracy: 0.9792 - val_loss: 0.0610 - val_accuracy: 0.9807\n",
            "Epoch 4/20\n",
            "141/141 [==============================] - 5s 36ms/step - loss: 0.0390 - accuracy: 0.9887 - val_loss: 0.0662 - val_accuracy: 0.9787\n",
            "Epoch 5/20\n",
            "141/141 [==============================] - 5s 37ms/step - loss: 0.0487 - accuracy: 0.9841 - val_loss: 0.0540 - val_accuracy: 0.9833\n",
            "Epoch 6/20\n",
            "141/141 [==============================] - 5s 36ms/step - loss: 0.0416 - accuracy: 0.9863 - val_loss: 0.0763 - val_accuracy: 0.9790\n",
            "Epoch 7/20\n",
            "141/141 [==============================] - 5s 36ms/step - loss: 0.0365 - accuracy: 0.9887 - val_loss: 0.0699 - val_accuracy: 0.9777\n",
            "Epoch 8/20\n",
            "141/141 [==============================] - 5s 37ms/step - loss: 0.0317 - accuracy: 0.9897 - val_loss: 0.0858 - val_accuracy: 0.9780\n",
            "Epoch 9/20\n",
            "141/141 [==============================] - 5s 37ms/step - loss: 0.0385 - accuracy: 0.9880 - val_loss: 0.1126 - val_accuracy: 0.9787\n",
            "Epoch 10/20\n",
            "141/141 [==============================] - 5s 36ms/step - loss: 0.0269 - accuracy: 0.9912 - val_loss: 0.0738 - val_accuracy: 0.9810\n",
            "Epoch 11/20\n",
            "141/141 [==============================] - 5s 36ms/step - loss: 0.0412 - accuracy: 0.9880 - val_loss: 0.0681 - val_accuracy: 0.9790\n",
            "Epoch 12/20\n",
            "141/141 [==============================] - 5s 36ms/step - loss: 0.0367 - accuracy: 0.9873 - val_loss: 0.0684 - val_accuracy: 0.9810\n",
            "Epoch 13/20\n",
            "141/141 [==============================] - 5s 36ms/step - loss: 0.0263 - accuracy: 0.9899 - val_loss: 0.0612 - val_accuracy: 0.9800\n",
            "Epoch 14/20\n",
            "141/141 [==============================] - 5s 36ms/step - loss: 0.0378 - accuracy: 0.9888 - val_loss: 0.0788 - val_accuracy: 0.9767\n",
            "Epoch 15/20\n",
            "141/141 [==============================] - 5s 36ms/step - loss: 0.0300 - accuracy: 0.9894 - val_loss: 0.0819 - val_accuracy: 0.9807\n",
            "Epoch 16/20\n",
            "141/141 [==============================] - 5s 37ms/step - loss: 0.0293 - accuracy: 0.9890 - val_loss: 0.0986 - val_accuracy: 0.9780\n",
            "Epoch 17/20\n",
            "141/141 [==============================] - 5s 38ms/step - loss: 0.0408 - accuracy: 0.9884 - val_loss: 0.0701 - val_accuracy: 0.9780\n",
            "Epoch 18/20\n",
            "141/141 [==============================] - 5s 37ms/step - loss: 0.0481 - accuracy: 0.9844 - val_loss: 0.1041 - val_accuracy: 0.9700\n",
            "Epoch 19/20\n",
            "141/141 [==============================] - 5s 36ms/step - loss: 0.0539 - accuracy: 0.9804 - val_loss: 0.0770 - val_accuracy: 0.9750\n",
            "Epoch 20/20\n",
            "141/141 [==============================] - 5s 36ms/step - loss: 0.0547 - accuracy: 0.9817 - val_loss: 0.1246 - val_accuracy: 0.9593\n"
          ],
          "name": "stdout"
        }
      ]
    },
    {
      "cell_type": "code",
      "metadata": {
        "id": "AWJflmuvaIqM",
        "colab_type": "code",
        "colab": {
          "base_uri": "https://localhost:8080/",
          "height": 294
        },
        "outputId": "e8a9e45a-8873-4538-beb3-f2262940f280"
      },
      "source": [
        "plt.plot(history.history['accuracy'])\n",
        "plt.plot(history.history['val_accuracy'])\n",
        "plt.title('Model accuracy')\n",
        "plt.ylabel('Accuracy')\n",
        "plt.xlabel('Epoch')\n",
        "plt.legend(['Training', 'Validation'], loc='lower right')\n",
        "plt.show()"
      ],
      "execution_count": 20,
      "outputs": [
        {
          "output_type": "display_data",
          "data": {
            "image/png": "[encoded data removed]",
            "text/plain": [
              "<Figure size 432x288 with 1 Axes>"
            ]
          },
          "metadata": {
            "tags": [],
            "needs_background": "light"
          }
        }
      ]
    },
    {
      "cell_type": "code",
      "metadata": {
        "id": "lVl-R4EDaKj9",
        "colab_type": "code",
        "colab": {
          "base_uri": "https://localhost:8080/",
          "height": 294
        },
        "outputId": "d34c7785-afcb-407c-dae1-2c009719570d"
      },
      "source": [
        "plt.plot(history.history['loss'], label='Training data')\n",
        "plt.plot(history.history['val_loss'], label='Validation data')\n",
        "plt.title('Loss')\n",
        "plt.ylabel('Loss value')\n",
        "plt.xlabel('No. epoch')\n",
        "plt.legend(loc=\"upper left\")\n",
        "plt.show()"
      ],
      "execution_count": 21,
      "outputs": [
        {
          "output_type": "display_data",
          "data": {
            "image/png": "[encoded data removed]",
            "text/plain": [
              "<Figure size 432x288 with 1 Axes>"
            ]
          },
          "metadata": {
            "tags": [],
            "needs_background": "light"
          }
        }
      ]
    },
    {
      "cell_type": "code",
      "metadata": {
        "id": "aTT31txecTt6",
        "colab_type": "code",
        "colab": {}
      },
      "source": [
        "y_pred = model.predict(test_data)"
      ],
      "execution_count": 22,
      "outputs": []
    },
    {
      "cell_type": "code",
      "metadata": {
        "id": "NHOi5fpPPWDt",
        "colab_type": "code",
        "colab": {
          "base_uri": "https://localhost:8080/",
          "height": 137
        },
        "outputId": "4c3f08fa-e773-43b1-dbe8-d5a3c839818a"
      },
      "source": [
        "y_pred"
      ],
      "execution_count": 23,
      "outputs": [
        {
          "output_type": "execute_result",
          "data": {
            "text/plain": [
              "array([[9.9946147e-01],\n",
              "       [9.1123211e-01],\n",
              "       [7.1954484e-05],\n",
              "       ...,\n",
              "       [3.4865778e-04],\n",
              "       [6.3842905e-05],\n",
              "       [9.9290729e-01]], dtype=float32)"
            ]
          },
          "metadata": {
            "tags": []
          },
          "execution_count": 23
        }
      ]
    },
    {
      "cell_type": "code",
      "metadata": {
        "id": "w5vxqml_MkH6",
        "colab_type": "code",
        "colab": {
          "base_uri": "https://localhost:8080/",
          "height": 34
        },
        "outputId": "6f48021c-02b2-4976-c1f3-1560f74a2482"
      },
      "source": [
        "score , acc  =  model.evaluate(test_data , y_test , batch_size = 64)"
      ],
      "execution_count": 24,
      "outputs": [
        {
          "output_type": "stream",
          "text": [
            "47/47 [==============================] - 1s 14ms/step - loss: 0.1088 - accuracy: 0.9717\n"
          ],
          "name": "stdout"
        }
      ]
    },
    {
      "cell_type": "code",
      "metadata": {
        "id": "UP2pwTHMPYA2",
        "colab_type": "code",
        "colab": {
          "base_uri": "https://localhost:8080/",
          "height": 34
        },
        "outputId": "b42077eb-ab29-4fdf-9deb-ff19c3ed5d23"
      },
      "source": [
        "print(' Test Score : ' , score)"
      ],
      "execution_count": 25,
      "outputs": [
        {
          "output_type": "stream",
          "text": [
            " Test Score :  0.10877099633216858\n"
          ],
          "name": "stdout"
        }
      ]
    },
    {
      "cell_type": "code",
      "metadata": {
        "id": "Y68He4g3PfGY",
        "colab_type": "code",
        "colab": {
          "base_uri": "https://localhost:8080/",
          "height": 34
        },
        "outputId": "5b4c677d-a2ed-454a-c7f7-c1bdba5f689d"
      },
      "source": [
        "print('Test Accuracy : ', acc)"
      ],
      "execution_count": 26,
      "outputs": [
        {
          "output_type": "stream",
          "text": [
            "Test Accuracy :  0.971666693687439\n"
          ],
          "name": "stdout"
        }
      ]
    },
    {
      "cell_type": "code",
      "metadata": {
        "id": "vTIR0MNrcYxR",
        "colab_type": "code",
        "colab": {}
      },
      "source": [
        "def predict_function(y_pred) :\n",
        "\n",
        "  for i in range(y_pred.shape[0]) :\n",
        "\n",
        "    if y_pred[i][0] >= 0.5 :\n",
        "\n",
        "      y_pred[i][0] = 1\n",
        "\n",
        "    else :\n",
        "\n",
        "      y_pred[i][0] = 0\n",
        "\n",
        "  return y_pred.astype('int64')"
      ],
      "execution_count": 27,
      "outputs": []
    },
    {
      "cell_type": "code",
      "metadata": {
        "id": "1HcxwByxcZTY",
        "colab_type": "code",
        "colab": {}
      },
      "source": [
        "y_pred = predict_function(y_pred)"
      ],
      "execution_count": 28,
      "outputs": []
    },
    {
      "cell_type": "code",
      "metadata": {
        "id": "7g58nYSbdYr4",
        "colab_type": "code",
        "colab": {}
      },
      "source": [
        "y_test = y_test.reshape(-1,1)"
      ],
      "execution_count": 29,
      "outputs": []
    },
    {
      "cell_type": "code",
      "metadata": {
        "id": "EKB3RgAndTTh",
        "colab_type": "code",
        "colab": {
          "base_uri": "https://localhost:8080/",
          "height": 309
        },
        "outputId": "e95c47f5-c4c9-4fcb-a349-0c16470b6833"
      },
      "source": [
        "metrics  =  classification_report(y_test , y_pred , digits = 4)\n",
        "\n",
        "print('Classification Report ')\n",
        "\n",
        "print(\"\\n\")\n",
        "\n",
        "print(metrics)\n",
        "\n",
        "cm  =  confusion_matrix (y_test,y_pred)\n",
        "\n",
        "print('Confusion Matrix')\n",
        "\n",
        "print(\"\\n\")\n",
        "\n",
        "print(cm)"
      ],
      "execution_count": 30,
      "outputs": [
        {
          "output_type": "stream",
          "text": [
            "Classification Report \n",
            "\n",
            "\n",
            "              precision    recall  f1-score   support\n",
            "\n",
            "           0     0.9748    0.9676    0.9712      1481\n",
            "           1     0.9686    0.9756    0.9721      1519\n",
            "\n",
            "    accuracy                         0.9717      3000\n",
            "   macro avg     0.9717    0.9716    0.9717      3000\n",
            "weighted avg     0.9717    0.9717    0.9717      3000\n",
            "\n",
            "Confusion Matrix\n",
            "\n",
            "\n",
            "[[1433   48]\n",
            " [  37 1482]]\n"
          ],
          "name": "stdout"
        }
      ]
    },
    {
      "cell_type": "code",
      "metadata": {
        "id": "wKs712yBM4OO",
        "colab_type": "code",
        "colab": {}
      },
      "source": [
        "def TestingOwnData(sentence) :\n",
        "  \n",
        "  X = np.zeros((1,sequence_size,300))\n",
        "\n",
        "  sentence = sentence.replace('-',' ')\n",
        "\n",
        "  words = nltk.word_tokenize(sentence)\n",
        "\n",
        "  j = 0\n",
        "\n",
        "  for  w  in  words :\n",
        "\n",
        "      try :\n",
        "          \n",
        "        X[0,j] = w2v[w]\n",
        "\n",
        "        j += 1\n",
        "\n",
        "      except :\n",
        "          \n",
        "        pass\n",
        "\n",
        "  if predict_function(model.predict(X))[0] == 1 :\n",
        "                      \n",
        "      return 'Clickbait'\n",
        "\n",
        "  else :\n",
        "\n",
        "\n",
        "    return 'Non Clickbait'"
      ],
      "execution_count": 31,
      "outputs": []
    },
    {
      "cell_type": "code",
      "metadata": {
        "id": "F7A59GgSZv-r",
        "colab_type": "code",
        "colab": {
          "base_uri": "https://localhost:8080/",
          "height": 35
        },
        "outputId": "312ab1b1-b90a-45e6-a8ef-bcf769ed4c12"
      },
      "source": [
        "TestingOwnData('Amazing Inventions You Won’t Believe Exist')"
      ],
      "execution_count": 32,
      "outputs": [
        {
          "output_type": "execute_result",
          "data": {
            "application/vnd.google.colaboratory.intrinsic+json": {
              "type": "string"
            },
            "text/plain": [
              "'Clickbait'"
            ]
          },
          "metadata": {
            "tags": []
          },
          "execution_count": 32
        }
      ]
    },
    {
      "cell_type": "code",
      "metadata": {
        "id": "yTWkeysIRp5l",
        "colab_type": "code",
        "colab": {
          "base_uri": "https://localhost:8080/",
          "height": 35
        },
        "outputId": "15646a37-e9f7-4702-e66f-bea224abde3e"
      },
      "source": [
        "TestingOwnData('They Laughed When I Sat Down at the Computer, But When I Started to Type…')"
      ],
      "execution_count": 33,
      "outputs": [
        {
          "output_type": "execute_result",
          "data": {
            "application/vnd.google.colaboratory.intrinsic+json": {
              "type": "string"
            },
            "text/plain": [
              "'Non Clickbait'"
            ]
          },
          "metadata": {
            "tags": []
          },
          "execution_count": 33
        }
      ]
    },
    {
      "cell_type": "code",
      "metadata": {
        "id": "EFDKxdQCSRem",
        "colab_type": "code",
        "colab": {
          "base_uri": "https://localhost:8080/",
          "height": 35
        },
        "outputId": "e1b8b51d-e2d1-44fa-ffdc-d8083b07347f"
      },
      "source": [
        "TestingOwnData('Can Face Masks Prevent You From Getting the Coronavirus? Doctors Weight In')"
      ],
      "execution_count": 34,
      "outputs": [
        {
          "output_type": "execute_result",
          "data": {
            "application/vnd.google.colaboratory.intrinsic+json": {
              "type": "string"
            },
            "text/plain": [
              "'Clickbait'"
            ]
          },
          "metadata": {
            "tags": []
          },
          "execution_count": 34
        }
      ]
    },
    {
      "cell_type": "code",
      "metadata": {
        "id": "nNuyzJfwS0K-",
        "colab_type": "code",
        "colab": {
          "base_uri": "https://localhost:8080/",
          "height": 35
        },
        "outputId": "918ffe62-66bc-4c82-830c-5fbdebef754c"
      },
      "source": [
        "TestingOwnData('Tamil Nadu reports 4,280 fresh COVID-19 cases and 65 deaths')"
      ],
      "execution_count": 35,
      "outputs": [
        {
          "output_type": "execute_result",
          "data": {
            "application/vnd.google.colaboratory.intrinsic+json": {
              "type": "string"
            },
            "text/plain": [
              "'Non Clickbait'"
            ]
          },
          "metadata": {
            "tags": []
          },
          "execution_count": 35
        }
      ]
    },
    {
      "cell_type": "code",
      "metadata": {
        "id": "8MVbsB9fTA88",
        "colab_type": "code",
        "colab": {
          "base_uri": "https://localhost:8080/",
          "height": 35
        },
        "outputId": "c146a255-646e-432e-929d-3dafa549bf5e"
      },
      "source": [
        "TestingOwnData('PM Modi asks to prepare Digital booklets documenting the relief works')"
      ],
      "execution_count": 36,
      "outputs": [
        {
          "output_type": "execute_result",
          "data": {
            "application/vnd.google.colaboratory.intrinsic+json": {
              "type": "string"
            },
            "text/plain": [
              "'Non Clickbait'"
            ]
          },
          "metadata": {
            "tags": []
          },
          "execution_count": 36
        }
      ]
    },
    {
      "cell_type": "code",
      "metadata": {
        "id": "OGfcrnKnTF_8",
        "colab_type": "code",
        "colab": {
          "base_uri": "https://localhost:8080/",
          "height": 35
        },
        "outputId": "44b154f7-9472-4cf8-b997-d8b28e19e7ff"
      },
      "source": [
        "TestingOwnData('No passenger flights to Kolkata from Delhi, Mumbai, Chennai and 3 other cities between Jul 6-19')"
      ],
      "execution_count": 37,
      "outputs": [
        {
          "output_type": "execute_result",
          "data": {
            "application/vnd.google.colaboratory.intrinsic+json": {
              "type": "string"
            },
            "text/plain": [
              "'Non Clickbait'"
            ]
          },
          "metadata": {
            "tags": []
          },
          "execution_count": 37
        }
      ]
    }
  ]
}