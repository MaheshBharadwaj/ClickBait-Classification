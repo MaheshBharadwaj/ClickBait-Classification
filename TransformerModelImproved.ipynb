{
  "nbformat": 4,
  "nbformat_minor": 0,
  "metadata": {
    "colab": {
      "name": "TransformerModelImproved.ipynb",
      "provenance": []
    },
    "kernelspec": {
      "name": "python3",
      "display_name": "Python 3"
    },
    "accelerator": "GPU"
  },
  "cells": [
    {
      "cell_type": "code",
      "metadata": {
        "id": "lBnaYLtyZcJF",
        "colab_type": "code",
        "colab": {}
      },
      "source": [
        "import math\n",
        "\n",
        "import re\n",
        "\n",
        "import time\n",
        "\n",
        "from google.colab import drive"
      ],
      "execution_count": 1,
      "outputs": []
    },
    {
      "cell_type": "code",
      "metadata": {
        "id": "BInxdKa5ZfXj",
        "colab_type": "code",
        "colab": {}
      },
      "source": [
        "\n",
        "try:\n",
        "    %tensorflow_version 2.x\n",
        "except:\n",
        "    pass\n",
        "import tensorflow as tf\n",
        "\n",
        "from tensorflow.keras import layers\n",
        "\n",
        "import tensorflow_datasets as tfds"
      ],
      "execution_count": 2,
      "outputs": []
    },
    {
      "cell_type": "code",
      "metadata": {
        "id": "WO_Q8mg8Zg9C",
        "colab_type": "code",
        "colab": {
          "base_uri": "https://localhost:8080/",
          "height": 105
        },
        "outputId": "6722d403-d54d-460b-8467-f59cf753d40c"
      },
      "source": [
        "import pandas as pd\n",
        "\n",
        "import numpy as np\n",
        "\n",
        "import h5py\n",
        "\n",
        "from gensim.models import Word2Vec\n",
        "\n",
        "import gensim.models\n",
        "\n",
        "from tensorflow import keras\n",
        "\n",
        "from tensorflow.keras.callbacks import ModelCheckpoint\n",
        "\n",
        "from tensorflow.keras.callbacks import EarlyStopping\n",
        "\n",
        "from tensorflow.keras.models import Sequential\n",
        "\n",
        "from sklearn.metrics import roc_auc_score\n",
        "\n",
        "from sklearn.metrics import classification_report\n",
        "\n",
        "from sklearn.metrics import confusion_matrix\n",
        "\n",
        "import matplotlib.pyplot as plt\n",
        "\n",
        "from sklearn.model_selection import StratifiedKFold\n",
        "\n",
        "from tensorflow.keras.layers import Dense\n",
        "\n",
        "from tensorflow.keras.layers import Embedding\n",
        "\n",
        "from tensorflow.keras.layers import Dropout\n",
        "\n",
        "from tensorflow.keras.layers import Activation\n",
        "\n",
        "from tensorflow.keras.layers import Bidirectional\n",
        "\n",
        "from tensorflow.keras.layers import LSTM\n",
        "\n",
        "from tensorflow.keras.layers import SimpleRNN\n",
        "\n",
        "from tensorflow.keras.layers import GRU\n",
        "\n",
        "from tensorflow.keras.preprocessing.sequence import pad_sequences \n",
        "\n",
        "import re\n",
        "\n",
        "from nltk.tokenize import word_tokenize\n",
        "\n",
        "import nltk\n",
        "\n",
        "nltk.download('punkt')\n",
        "\n",
        "from nltk.corpus import stopwords \n",
        "\n",
        "nltk.download('stopwords')\n"
      ],
      "execution_count": 11,
      "outputs": [
        {
          "output_type": "stream",
          "text": [
            "[nltk_data] Downloading package punkt to /root/nltk_data...\n",
            "[nltk_data]   Unzipping tokenizers/punkt.zip.\n",
            "[nltk_data] Downloading package stopwords to /root/nltk_data...\n",
            "[nltk_data]   Package stopwords is already up-to-date!\n"
          ],
          "name": "stdout"
        },
        {
          "output_type": "execute_result",
          "data": {
            "text/plain": [
              "True"
            ]
          },
          "metadata": {
            "tags": []
          },
          "execution_count": 11
        }
      ]
    },
    {
      "cell_type": "code",
      "metadata": {
        "id": "GLUjgjw4Zizy",
        "colab_type": "code",
        "colab": {
          "base_uri": "https://localhost:8080/",
          "height": 125
        },
        "outputId": "24b6b72b-e625-492a-9506-654de7e75dd0"
      },
      "source": [
        "drive.mount(\"/content/gdrive\")"
      ],
      "execution_count": 4,
      "outputs": [
        {
          "output_type": "stream",
          "text": [
            "Go to this URL in a browser: https://accounts.google.com/o/oauth2/auth?client_id=947318989803-6bn6qk8qdgf4n4g3pfee6491hc0brc4i.apps.googleusercontent.com&redirect_uri=urn%3aietf%3awg%3aoauth%3a2.0%3aoob&response_type=code&scope=email%20https%3a%2f%2fwww.googleapis.com%2fauth%2fdocs.test%20https%3a%2f%2fwww.googleapis.com%2fauth%2fdrive%20https%3a%2f%2fwww.googleapis.com%2fauth%2fdrive.photos.readonly%20https%3a%2f%2fwww.googleapis.com%2fauth%2fpeopleapi.readonly\n",
            "\n",
            "Enter your authorization code:\n",
            "··········\n",
            "Mounted at /content/gdrive\n"
          ],
          "name": "stdout"
        }
      ]
    },
    {
      "cell_type": "code",
      "metadata": {
        "id": "rEFUAQycZl9q",
        "colab_type": "code",
        "colab": {
          "base_uri": "https://localhost:8080/",
          "height": 230
        },
        "outputId": "3f4ad2b4-81cc-4f22-e31b-5d6d723609d5"
      },
      "source": [
        "data_clickbait = pd . read_csv ('/content/gdrive/My Drive/SFResearch/Clickbait_Datasets/clickbait_data.txt' , sep = ' \\ n ' , header = None )\n",
        "\n",
        "data_noclickbait = pd . read_csv ('/content/gdrive/My Drive/SFResearch/Clickbait_Datasets/non_clickbait_data.txt' , sep = ' \\ n ' , header = None )\n",
        "\n",
        "data_clickbait = data_clickbait.sample(frac = 7.5/16)\n",
        "\n",
        "data_noclickbait = data_noclickbait.sample(frac = 7.5/16)\n",
        "\n",
        "data_clickbait['class'] = [1 for i in range(7500)]\n",
        "\n",
        "data_noclickbait['class'] = [0 for i in range(7500)] \n",
        "\n",
        "data_Final = pd . concat (( data_clickbait , data_noclickbait ), ignore_index = True ) \n",
        "\n",
        "df = data_Final . rename ( columns = { 0 : \"text\" })\n",
        "\n",
        "df = df . sample ( frac = 1 ). reset_index ( drop = True )\n",
        "\n",
        "print (df.shape)\n",
        "\n",
        "print (df.head(5))"
      ],
      "execution_count": 16,
      "outputs": [
        {
          "output_type": "stream",
          "text": [
            "/usr/local/lib/python3.6/dist-packages/ipykernel_launcher.py:1: ParserWarning: Falling back to the 'python' engine because the 'c' engine does not support regex separators (separators > 1 char and different from '\\s+' are interpreted as regex); you can avoid this warning by specifying engine='python'.\n",
            "  \"\"\"Entry point for launching an IPython kernel.\n",
            "/usr/local/lib/python3.6/dist-packages/ipykernel_launcher.py:3: ParserWarning: Falling back to the 'python' engine because the 'c' engine does not support regex separators (separators > 1 char and different from '\\s+' are interpreted as regex); you can avoid this warning by specifying engine='python'.\n",
            "  This is separate from the ipykernel package so we can avoid doing imports until\n"
          ],
          "name": "stderr"
        },
        {
          "output_type": "stream",
          "text": [
            "(15000, 2)\n",
            "                                                text  class\n",
            "0  In Buffalo, Owens and Evans Are as Different a...      0\n",
            "1  Here's Everything You Need To Know About \"Star...      1\n",
            "2     16 Exit Songs To Walkout Of Your Last Final To      1\n",
            "3  Listen To This Incredible Isolated Vocal Of Da...      1\n",
            "4            17 Reasons You Should Never Wear Makeup      1\n"
          ],
          "name": "stdout"
        }
      ]
    },
    {
      "cell_type": "code",
      "metadata": {
        "id": "mq2HOMXrZ4Lx",
        "colab_type": "code",
        "colab": {
          "base_uri": "https://localhost:8080/",
          "height": 402
        },
        "outputId": "490b6764-e84b-4e18-99a2-75fff6bc415a"
      },
      "source": [
        "df"
      ],
      "execution_count": 7,
      "outputs": [
        {
          "output_type": "execute_result",
          "data": {
            "text/html": [
              "<div>\n",
              "<style scoped>\n",
              "    .dataframe tbody tr th:only-of-type {\n",
              "        vertical-align: middle;\n",
              "    }\n",
              "\n",
              "    .dataframe tbody tr th {\n",
              "        vertical-align: top;\n",
              "    }\n",
              "\n",
              "    .dataframe thead th {\n",
              "        text-align: right;\n",
              "    }\n",
              "</style>\n",
              "<table border=\"1\" class=\"dataframe\">\n",
              "  <thead>\n",
              "    <tr style=\"text-align: right;\">\n",
              "      <th></th>\n",
              "      <th>text</th>\n",
              "      <th>class</th>\n",
              "    </tr>\n",
              "  </thead>\n",
              "  <tbody>\n",
              "    <tr>\n",
              "      <th>0</th>\n",
              "      <td>Emergency declared in US state of Washington, ...</td>\n",
              "      <td>0</td>\n",
              "    </tr>\n",
              "    <tr>\n",
              "      <th>1</th>\n",
              "      <td>7 Reasons To Listen To BuzzFeed's New Podcast ...</td>\n",
              "      <td>1</td>\n",
              "    </tr>\n",
              "    <tr>\n",
              "      <th>2</th>\n",
              "      <td>20 Times Aidy Bryant Was Literally The Cutest ...</td>\n",
              "      <td>1</td>\n",
              "    </tr>\n",
              "    <tr>\n",
              "      <th>3</th>\n",
              "      <td>We Know Which \"The Nightmare Before Christmas\"...</td>\n",
              "      <td>1</td>\n",
              "    </tr>\n",
              "    <tr>\n",
              "      <th>4</th>\n",
              "      <td>African troops invade rebel-held island of Anj...</td>\n",
              "      <td>0</td>\n",
              "    </tr>\n",
              "    <tr>\n",
              "      <th>...</th>\n",
              "      <td>...</td>\n",
              "      <td>...</td>\n",
              "    </tr>\n",
              "    <tr>\n",
              "      <th>14995</th>\n",
              "      <td>U.S. military denies reports helicopter opened...</td>\n",
              "      <td>0</td>\n",
              "    </tr>\n",
              "    <tr>\n",
              "      <th>14996</th>\n",
              "      <td>Can You Name The Stuff In Our Solar System</td>\n",
              "      <td>1</td>\n",
              "    </tr>\n",
              "    <tr>\n",
              "      <th>14997</th>\n",
              "      <td>If Presidential Candidates Were Extinct Animals</td>\n",
              "      <td>1</td>\n",
              "    </tr>\n",
              "    <tr>\n",
              "      <th>14998</th>\n",
              "      <td>'Bloody Sunday Inquiry' publishes report into ...</td>\n",
              "      <td>0</td>\n",
              "    </tr>\n",
              "    <tr>\n",
              "      <th>14999</th>\n",
              "      <td>Can You Guess What These Sexy Halloween Costum...</td>\n",
              "      <td>1</td>\n",
              "    </tr>\n",
              "  </tbody>\n",
              "</table>\n",
              "<p>15000 rows × 2 columns</p>\n",
              "</div>"
            ],
            "text/plain": [
              "                                                    text  class\n",
              "0      Emergency declared in US state of Washington, ...      0\n",
              "1      7 Reasons To Listen To BuzzFeed's New Podcast ...      1\n",
              "2      20 Times Aidy Bryant Was Literally The Cutest ...      1\n",
              "3      We Know Which \"The Nightmare Before Christmas\"...      1\n",
              "4      African troops invade rebel-held island of Anj...      0\n",
              "...                                                  ...    ...\n",
              "14995  U.S. military denies reports helicopter opened...      0\n",
              "14996         Can You Name The Stuff In Our Solar System      1\n",
              "14997    If Presidential Candidates Were Extinct Animals      1\n",
              "14998  'Bloody Sunday Inquiry' publishes report into ...      0\n",
              "14999  Can You Guess What These Sexy Halloween Costum...      1\n",
              "\n",
              "[15000 rows x 2 columns]"
            ]
          },
          "metadata": {
            "tags": []
          },
          "execution_count": 7
        }
      ]
    },
    {
      "cell_type": "code",
      "metadata": {
        "id": "VyA7JmVAZ50Z",
        "colab_type": "code",
        "colab": {}
      },
      "source": [
        "stop_words  =  set ( stopwords . words ( 'english' ))"
      ],
      "execution_count": 111,
      "outputs": []
    },
    {
      "cell_type": "code",
      "metadata": {
        "id": "87wv0ADBZ7tq",
        "colab_type": "code",
        "colab": {}
      },
      "source": [
        "from sklearn.model_selection import train_test_split\n",
        "\n",
        "L = []\n",
        "for  i , token  in  enumerate ( df [ 'text' ]):\n",
        "    token=token.replace('-', ' ')\n",
        "    words = [ w for  w  in  token . split () ]\n",
        "    L . append ( len ( words ))\n",
        "sequence_size = max ( L )\n",
        "\n",
        "\n",
        "#tokens=nltk.word_tokenize(token)\n",
        "#print (tokens)\n",
        "\n",
        "X = df['text']\n",
        "\n",
        "y = df['class']\n",
        "\n",
        "X_train, X_test, y_train, y_test = train_test_split(X , y, test_size = 0.2, random_state = 42)\n",
        "\n",
        "X_train, X_val, y_train, y_val = train_test_split(X_train, y_train, test_size = 0.25, random_state = 42)"
      ],
      "execution_count": 113,
      "outputs": []
    },
    {
      "cell_type": "code",
      "metadata": {
        "id": "8J-6KN_ZZ9dp",
        "colab_type": "code",
        "colab": {}
      },
      "source": [
        "y_train = np.array(y_train)\n",
        "\n",
        "y_test = np.array(y_test)\n",
        "\n",
        "y_val = np.array(y_val)"
      ],
      "execution_count": 114,
      "outputs": []
    },
    {
      "cell_type": "code",
      "metadata": {
        "id": "MUv4Rn7clWfN",
        "colab_type": "code",
        "colab": {
          "base_uri": "https://localhost:8080/",
          "height": 72
        },
        "outputId": "a56d3719-c418-4dda-b90c-4a15308794ed"
      },
      "source": [
        "WORD2VEC_VECTORS_BIN  =  \"/content/gdrive/My Drive/SFResearch/Clickbait_Datasets/GoogleNews-vectors-negative300.bin.gz\"\n",
        "\n",
        "w2v  =  gensim . models . KeyedVectors . load_word2vec_format ( WORD2VEC_VECTORS_BIN , binary = True )"
      ],
      "execution_count": 18,
      "outputs": [
        {
          "output_type": "stream",
          "text": [
            "/usr/local/lib/python3.6/dist-packages/smart_open/smart_open_lib.py:254: UserWarning: This function is deprecated, use smart_open.open instead. See the migration notes for details: https://github.com/RaRe-Technologies/smart_open/blob/master/README.rst#migrating-to-the-new-open-function\n",
            "  'See the migration notes for details: %s' % _MIGRATION_NOTES_URL\n"
          ],
          "name": "stderr"
        }
      ]
    },
    {
      "cell_type": "code",
      "metadata": {
        "id": "OM9dY7aUZ_Pq",
        "colab_type": "code",
        "colab": {
          "base_uri": "https://localhost:8080/",
          "height": 70
        },
        "outputId": "7de95969-8e61-4607-8cc1-5f411ca55c0d"
      },
      "source": [
        "from keras.preprocessing.text import Tokenizer \n",
        "\n",
        "'''tokenizer = Tokenizer(num_words = sequence_size)\n",
        "\n",
        "tokenizer.fit_on_texts(X_train)\n",
        "\n",
        "sequences_1 = tokenizer.texts_to_sequences(X_train)\n",
        "\n",
        "train_data = pad_sequences(sequences_1, maxlen = sequence_size , padding = 'post')\n",
        "\n",
        "tokenizer.fit_on_texts(X_test)\n",
        "\n",
        "sequences_2 = tokenizer.texts_to_sequences(X_test)\n",
        "\n",
        "test_data = pad_sequences(sequences_2, maxlen = sequence_size , padding = 'post')\n",
        "\n",
        "sequences_3 = tokenizer.texts_to_sequences(X_val)\n",
        "\n",
        "val_data = pad_sequences(sequences_3, maxlen = sequence_size , padding = 'post')'''\n",
        "\n",
        "train_data=np.zeros((len(X_train), sequence_size, 300))\n",
        "val_data=np.zeros((len(X_val), sequence_size, 300))\n",
        "test_data = np.zeros((len(X_test), sequence_size, 300))\n",
        "\n",
        "for i,sentence in enumerate(X_train):\n",
        "  sentence=sentence.replace('-', ' ')\n",
        "  words=nltk.word_tokenize(sentence)\n",
        "  try:\n",
        "    j = 0\n",
        "    for  w  in  words :\n",
        "      train_data [ i , j ] = w2v [ w ]\n",
        "      j+=1\n",
        "  except:\n",
        "    pass\n",
        "\n",
        "for i,sentence in enumerate(X_val):\n",
        "  sentence=sentence.replace('-',' ')\n",
        "  words=nltk.word_tokenize(sentence)\n",
        "  try:\n",
        "    j = 0\n",
        "    for  w  in  words :\n",
        "      val_data [ i , j ] = w2v [ w ]\n",
        "      j+=1\n",
        "  except:\n",
        "    pass\n",
        "\n",
        "for i,sentence in enumerate(X_test):\n",
        "  sentence=sentence.replace('-',' ')\n",
        "  words=nltk.word_tokenize(sentence)\n",
        "  try:\n",
        "    j = 0\n",
        "    for  w  in  words :\n",
        "      test_data [ i , j ] = w2v [ w ]\n",
        "      j+=1\n",
        "  except:\n",
        "    pass\n",
        "  \n",
        "print (test_data.shape)\n",
        "print (train_data.shape)\n",
        "print (val_data.shape)\n",
        "\n"
      ],
      "execution_count": 37,
      "outputs": [
        {
          "output_type": "stream",
          "text": [
            "(3000, 26, 300)\n",
            "(9000, 26, 300)\n",
            "(3000, 26, 300)\n"
          ],
          "name": "stdout"
        }
      ]
    },
    {
      "cell_type": "code",
      "metadata": {
        "id": "jFl9wNKwaQm2",
        "colab_type": "code",
        "colab": {}
      },
      "source": [
        "class PositionalEncoding(layers.Layer):\n",
        "  \n",
        "    def __init__(self) :\n",
        "\n",
        "        super(PositionalEncoding, self).__init__()\n",
        "    \n",
        "    def get_angles(self, pos, i, d_model) :\n",
        "\n",
        "        angles = 1 / np.power(10000., (2*(i//2)) / np.float32(d_model))\n",
        "\n",
        "        return pos * angles\n",
        "\n",
        "    def call(self, inputs) :\n",
        "\n",
        "        seq_length = inputs.shape.as_list()[-2]\n",
        "\n",
        "        d_model = inputs.shape.as_list()[-1]\n",
        "\n",
        "        angles = self.get_angles(np.arange(seq_length)[:, np.newaxis],np.arange(d_model)[np.newaxis, :],d_model)\n",
        "\n",
        "        angles[:, 0::2] = np.sin(angles[:, 0::2])\n",
        "\n",
        "        angles[:, 1::2] = np.cos(angles[:, 1::2])\n",
        "        \n",
        "        pos_encoding = angles[np.newaxis, ...]\n",
        "\n",
        "        return inputs + tf.cast(pos_encoding, tf.float32)"
      ],
      "execution_count": 45,
      "outputs": []
    },
    {
      "cell_type": "code",
      "metadata": {
        "id": "1Q7LtllFaV12",
        "colab_type": "code",
        "colab": {}
      },
      "source": [
        "def scaled_dot_product_attention(queries, keys, values, mask) :\n",
        "  \n",
        "    product = tf.matmul(queries, keys, transpose_b  = True)\n",
        "    \n",
        "    keys_dim = tf.cast(tf.shape(keys)[-1], tf.float32)\n",
        "\n",
        "    scaled_product = product / tf.math.sqrt(keys_dim)\n",
        "    \n",
        "    #if mask is not None :\n",
        "\n",
        "        #scaled_product += (mask * -1e9)\n",
        "\n",
        "    attention = tf.matmul(tf.nn.softmax(scaled_product, axis = -1), values)\n",
        "    \n",
        "    return attention"
      ],
      "execution_count": 100,
      "outputs": []
    },
    {
      "cell_type": "code",
      "metadata": {
        "id": "2lDxXvPwaeN0",
        "colab_type": "code",
        "colab": {}
      },
      "source": [
        "class MultiHeadAttention(layers.Layer):\n",
        "    \n",
        "    def __init__(self, nb_proj) :\n",
        "\n",
        "        super(MultiHeadAttention, self).__init__()\n",
        "\n",
        "        self.nb_proj = nb_proj\n",
        "        \n",
        "    def build(self, input_shape) :\n",
        "\n",
        "        self.d_model = input_shape[-1]\n",
        "\n",
        "        assert self.d_model % self.nb_proj == 0\n",
        "        \n",
        "        self.d_proj = self.d_model // self.nb_proj\n",
        "        \n",
        "        self.query_lin = layers.Dense(units=self.d_model)\n",
        "\n",
        "        self.key_lin = layers.Dense(units=self.d_model)\n",
        "\n",
        "        self.value_lin = layers.Dense(units=self.d_model)\n",
        "        \n",
        "        self.final_lin = layers.Dense(units=self.d_model)\n",
        "        \n",
        "    def split_proj(self, inputs, batch_size): # inputs: (batch_size, seq_length, d_model)\n",
        "\n",
        "        shape = (batch_size, sequence_size, self.nb_proj,self.d_proj)\n",
        "\n",
        "        splited_inputs = tf.reshape(inputs, shape=shape) # (batch_size, seq_length, nb_proj, d_proj)\n",
        "\n",
        "        return tf.transpose(splited_inputs, perm=[0, 2, 1, 3]) # (batch_size, nb_proj, seq_length, d_proj)\n",
        "    \n",
        "    def call(self, queries, keys, values, mask) :\n",
        "\n",
        "        batch_size = tf.shape(queries)[0]\n",
        "        \n",
        "        queries = self.query_lin(queries)\n",
        "\n",
        "        keys = self.key_lin(keys)\n",
        "\n",
        "        values = self.value_lin(values)\n",
        "        \n",
        "        queries = self.split_proj(queries, batch_size)\n",
        "\n",
        "        keys = self.split_proj(keys, batch_size)\n",
        "\n",
        "        values = self.split_proj(values, batch_size)\n",
        "        \n",
        "        attention = scaled_dot_product_attention(queries, keys, values, mask)\n",
        "        \n",
        "        attention = tf.transpose(attention, perm=[0, 2, 1, 3])\n",
        "        \n",
        "        concat_attention = tf.reshape(attention,shape=(batch_size, -1, self.d_model))\n",
        "        \n",
        "        outputs = self.final_lin(concat_attention)\n",
        "        \n",
        "        return outputs"
      ],
      "execution_count": 95,
      "outputs": []
    },
    {
      "cell_type": "code",
      "metadata": {
        "id": "4uvjMQttaeQ7",
        "colab_type": "code",
        "colab": {}
      },
      "source": [
        "class EncoderLayer(layers.Layer):\n",
        "    \n",
        "    def __init__(self, FFN_units, nb_proj, dropout_rate) :\n",
        "\n",
        "        super(EncoderLayer, self).__init__()\n",
        "\n",
        "        self.FFN_units = FFN_units\n",
        "\n",
        "        self.nb_proj = nb_proj\n",
        "\n",
        "        self.dropout_rate = dropout_rate\n",
        "    \n",
        "    def build(self, input_shape) :\n",
        "\n",
        "        self.d_model = input_shape[-1]\n",
        "        \n",
        "        self.multi_head_attention = MultiHeadAttention(self.nb_proj)\n",
        "\n",
        "        self.dropout_1 = layers.Dropout(rate=self.dropout_rate)\n",
        "\n",
        "        self.norm_1 = layers.LayerNormalization(epsilon=1e-6)\n",
        "        \n",
        "        self.dense_1 = layers.Dense(units=self.FFN_units, activation=\"relu\")\n",
        "\n",
        "        self.dense_2 = layers.Dense(units=self.d_model)\n",
        "\n",
        "        self.dropout_2 = layers.Dropout(rate=self.dropout_rate)\n",
        "\n",
        "        self.norm_2 = layers.LayerNormalization(epsilon=1e-6)\n",
        "        \n",
        "    def call(self, inputs, mask, training) :\n",
        "\n",
        "        attention = self.multi_head_attention(inputs,\n",
        "                                              inputs,\n",
        "                                              inputs,\n",
        "                                              mask)\n",
        "        \n",
        "        attention = self.dropout_1(attention, training=training)\n",
        "\n",
        "        attention = self.norm_1(attention + inputs)\n",
        "        \n",
        "        outputs = self.dense_1(attention)\n",
        "\n",
        "        outputs = self.dense_2(outputs)\n",
        "\n",
        "        outputs = self.dropout_2(outputs, training=training)\n",
        "        \n",
        "        outputs = self.norm_2(outputs + attention)\n",
        "        \n",
        "        return outputs"
      ],
      "execution_count": 96,
      "outputs": []
    },
    {
      "cell_type": "code",
      "metadata": {
        "id": "wHPI4KzkfTVa",
        "colab_type": "code",
        "colab": {}
      },
      "source": [
        "import os\n",
        "\n",
        "dir = '/content/drive/My Drive/Glove'\n",
        "\n",
        "embed_index = dict()\n",
        "f = open(os.path.join(dir, 'glove.6B.300d.txt'), encoding=\"utf8\")"
      ],
      "execution_count": null,
      "outputs": []
    },
    {
      "cell_type": "code",
      "metadata": {
        "id": "V5UV5iuwfaVW",
        "colab_type": "code",
        "colab": {}
      },
      "source": [
        "for line in f:\n",
        "    values = line.split()\n",
        "    word = values[0]\n",
        "    coefs = np.asarray(values[1:], dtype='float32')\n",
        "    embed_index[word] = coefs\n",
        "f.close()"
      ],
      "execution_count": null,
      "outputs": []
    },
    {
      "cell_type": "code",
      "metadata": {
        "id": "hja5d3l0xld8",
        "colab_type": "code",
        "colab": {
          "base_uri": "https://localhost:8080/",
          "height": 34
        },
        "outputId": "61622e9e-d013-4c56-89c3-80b0895faed7"
      },
      "source": [
        "len(tokenizer.word_index) + 1"
      ],
      "execution_count": null,
      "outputs": [
        {
          "output_type": "execute_result",
          "data": {
            "text/plain": [
              "15108"
            ]
          },
          "metadata": {
            "tags": []
          },
          "execution_count": 18
        }
      ]
    },
    {
      "cell_type": "code",
      "metadata": {
        "id": "pYTIij99fdZG",
        "colab_type": "code",
        "colab": {}
      },
      "source": [
        "embed_matrix = np.zeros(( len(tokenizer.word_index) + 1, 300))\n",
        "\n",
        "for word, i in tokenizer.word_index.items():\n",
        "    if i <  len(tokenizer.word_index) + 1 :\n",
        "        embed_vector = embed_index.get(word)\n",
        "        if embed_vector is not None:\n",
        "            embed_matrix[i] = embed_vector"
      ],
      "execution_count": null,
      "outputs": []
    },
    {
      "cell_type": "code",
      "metadata": {
        "id": "kaF-Q2K_lm16",
        "colab_type": "code",
        "colab": {}
      },
      "source": [
        "class Encoder(layers.Layer) :\n",
        "    \n",
        "    def __init__(self,\n",
        "                 nb_layers,\n",
        "                 FFN_units,\n",
        "                 nb_proj,\n",
        "                 dropout_rate,\n",
        "                 d_model,\n",
        "                 name=\"encoder\") :\n",
        "\n",
        "        super(Encoder, self).__init__(name=name)\n",
        "\n",
        "        self.nb_layers = nb_layers\n",
        "\n",
        "        self.d_model = d_model\n",
        "        \n",
        "        #self.embedding = layers.Embedding(vocab_size, d_model , weights = [embed_matrix])\n",
        "\n",
        "        self.pos_encoding = PositionalEncoding()\n",
        "\n",
        "        self.dropout = layers.Dropout(rate=dropout_rate)\n",
        "\n",
        "        self.enc_layers = [EncoderLayer(FFN_units,\n",
        "                                        nb_proj,\n",
        "                                        dropout_rate) \n",
        "                           for _ in range(nb_layers)]\n",
        "    \n",
        "    def call(self, inputs, mask, training) :\n",
        "\n",
        "        #outputs = self.embedding(inputs)\n",
        "\n",
        "        inputs *= tf.math.sqrt(tf.cast(self.d_model, tf.float32))\n",
        "\n",
        "        outputs = self.pos_encoding(inputs)\n",
        "\n",
        "        outputs = self.dropout(outputs, training)\n",
        "        \n",
        "        for i in range(self.nb_layers) :\n",
        "          \n",
        "            outputs = self.enc_layers[i](outputs, mask, training)\n",
        "\n",
        "        return outputs"
      ],
      "execution_count": 97,
      "outputs": []
    },
    {
      "cell_type": "code",
      "metadata": {
        "id": "GJcIjNCQlseu",
        "colab_type": "code",
        "colab": {}
      },
      "source": [
        "class Transformer(tf.keras.Model):\n",
        "    \n",
        "    def __init__(self,\n",
        "                 d_model,\n",
        "                 nb_layers,\n",
        "                 FFN_units,\n",
        "                 nb_proj,\n",
        "                 dropout_rate,\n",
        "                 name=\"transformer\"):\n",
        "        super(Transformer, self).__init__(name=name)\n",
        "        \n",
        "        self.encoder = Encoder(nb_layers,\n",
        "                               FFN_units,\n",
        "                               nb_proj,\n",
        "                               dropout_rate,\n",
        "                               d_model)\n",
        "        # self.last_linear = layers.Dense(units=vocab_size_dec, name=\"lin_ouput\")\n",
        "    \n",
        "    def create_padding_mask(self, seq):\n",
        "        mask = tf.cast(tf.math.equal(seq, 0), tf.float32)\n",
        "        mask=mask[:, tf.newaxis, :]\n",
        "        return mask\n",
        "\n",
        "    def create_look_ahead_mask(self, seq):\n",
        "        seq_len = tf.shape(seq)[1]\n",
        "        look_ahead_mask = 1 - tf.linalg.band_part(tf.ones((seq_len, seq_len)), -1, 0)\n",
        "        return look_ahead_mask\n",
        "    \n",
        "    def call(self, enc_inputs, training = True):\n",
        "        enc_mask = self.create_padding_mask(enc_inputs)\n",
        "        \n",
        "        enc_outputs = self.encoder(enc_inputs, enc_mask, training)\n",
        "        \n",
        "        return enc_outputs"
      ],
      "execution_count": 98,
      "outputs": []
    },
    {
      "cell_type": "code",
      "metadata": {
        "id": "9moaXe9eaBqR",
        "colab_type": "code",
        "colab": {
          "base_uri": "https://localhost:8080/",
          "height": 439
        },
        "outputId": "2df667d1-7744-4587-ac27-aec9563559f4"
      },
      "source": [
        "D_MODEL = 300\n",
        "\n",
        "NB_LAYERS = 2\n",
        "\n",
        "FFN_UNITS = 512\n",
        "\n",
        "NB_PROJ = 4\n",
        "\n",
        "DROPOUT_RATE = 0.1\n",
        "\n",
        "transformer = Transformer(d_model = D_MODEL,\n",
        "                          nb_layers = NB_LAYERS,\n",
        "                          FFN_units = FFN_UNITS,\n",
        "                          nb_proj = NB_PROJ,\n",
        "                          dropout_rate = DROPOUT_RATE)\n",
        "\n",
        "\n",
        "inputs = layers.Input(shape = (sequence_size,D_MODEL))\n",
        "\n",
        "x = transformer(inputs)\n",
        "\n",
        "x = layers.Flatten()(x)\n",
        "\n",
        "x = layers.Dense(512, activation=\"relu\")(x)\n",
        "\n",
        "x = layers.Dropout(0.1)(x)\n",
        "\n",
        "x = layers.Dense(256, activation=\"relu\")(x)\n",
        "\n",
        "x = layers.Dropout(0.1)(x)\n",
        "\n",
        "outputs = layers.Dense(1, activation=\"sigmoid\")(x)\n",
        "\n",
        "model = keras.Model(inputs = inputs, outputs = outputs)\n",
        "\n",
        "model.summary()\n",
        "\n",
        "model.compile(loss = 'binary_crossentropy' , optimizer = 'adam' , metrics = ['accuracy'])"
      ],
      "execution_count": 101,
      "outputs": [
        {
          "output_type": "stream",
          "text": [
            "Model: \"model_4\"\n",
            "_________________________________________________________________\n",
            "Layer (type)                 Output Shape              Param #   \n",
            "=================================================================\n",
            "input_16 (InputLayer)        [(None, 26, 300)]         0         \n",
            "_________________________________________________________________\n",
            "transformer (Transformer)    (None, 26, 300)           1340824   \n",
            "_________________________________________________________________\n",
            "flatten_4 (Flatten)          (None, 7800)              0         \n",
            "_________________________________________________________________\n",
            "dense_12 (Dense)             (None, 512)               3994112   \n",
            "_________________________________________________________________\n",
            "dropout_25 (Dropout)         (None, 512)               0         \n",
            "_________________________________________________________________\n",
            "dense_13 (Dense)             (None, 256)               131328    \n",
            "_________________________________________________________________\n",
            "dropout_26 (Dropout)         (None, 256)               0         \n",
            "_________________________________________________________________\n",
            "dense_14 (Dense)             (None, 1)                 257       \n",
            "=================================================================\n",
            "Total params: 5,466,521\n",
            "Trainable params: 5,466,521\n",
            "Non-trainable params: 0\n",
            "_________________________________________________________________\n"
          ],
          "name": "stdout"
        }
      ]
    },
    {
      "cell_type": "code",
      "metadata": {
        "id": "oOnxkZRdaEAi",
        "colab_type": "code",
        "colab": {
          "base_uri": "https://localhost:8080/",
          "height": 721
        },
        "outputId": "3f472837-0ac8-4f9e-8fbf-49475d7459a8"
      },
      "source": [
        "history = model.fit(train_data , y_train , batch_size = 64 , epochs = 20 , validation_data = (val_data , y_val), verbose = 1)"
      ],
      "execution_count": 102,
      "outputs": [
        {
          "output_type": "stream",
          "text": [
            "Epoch 1/20\n",
            "141/141 [==============================] - 3s 21ms/step - loss: 0.4928 - accuracy: 0.8903 - val_loss: 0.1833 - val_accuracy: 0.9423\n",
            "Epoch 2/20\n",
            "141/141 [==============================] - 2s 17ms/step - loss: 0.1747 - accuracy: 0.9433 - val_loss: 0.1894 - val_accuracy: 0.9393\n",
            "Epoch 3/20\n",
            "141/141 [==============================] - 2s 17ms/step - loss: 0.1589 - accuracy: 0.9497 - val_loss: 0.1960 - val_accuracy: 0.9443\n",
            "Epoch 4/20\n",
            "141/141 [==============================] - 2s 17ms/step - loss: 0.1487 - accuracy: 0.9517 - val_loss: 0.1740 - val_accuracy: 0.9447\n",
            "Epoch 5/20\n",
            "141/141 [==============================] - 2s 17ms/step - loss: 0.1403 - accuracy: 0.9548 - val_loss: 0.1944 - val_accuracy: 0.9387\n",
            "Epoch 6/20\n",
            "141/141 [==============================] - 2s 17ms/step - loss: 0.1322 - accuracy: 0.9609 - val_loss: 0.1894 - val_accuracy: 0.9447\n",
            "Epoch 7/20\n",
            "141/141 [==============================] - 2s 18ms/step - loss: 0.1290 - accuracy: 0.9591 - val_loss: 0.1800 - val_accuracy: 0.9490\n",
            "Epoch 8/20\n",
            "141/141 [==============================] - 2s 17ms/step - loss: 0.1174 - accuracy: 0.9624 - val_loss: 0.1960 - val_accuracy: 0.9487\n",
            "Epoch 9/20\n",
            "141/141 [==============================] - 2s 17ms/step - loss: 0.1206 - accuracy: 0.9623 - val_loss: 0.1600 - val_accuracy: 0.9433\n",
            "Epoch 10/20\n",
            "141/141 [==============================] - 2s 17ms/step - loss: 0.1218 - accuracy: 0.9620 - val_loss: 0.1809 - val_accuracy: 0.9513\n",
            "Epoch 11/20\n",
            "141/141 [==============================] - 2s 17ms/step - loss: 0.1229 - accuracy: 0.9617 - val_loss: 0.1632 - val_accuracy: 0.9497\n",
            "Epoch 12/20\n",
            "141/141 [==============================] - 2s 17ms/step - loss: 0.1172 - accuracy: 0.9628 - val_loss: 0.2437 - val_accuracy: 0.9453\n",
            "Epoch 13/20\n",
            "141/141 [==============================] - 2s 17ms/step - loss: 0.1123 - accuracy: 0.9649 - val_loss: 0.1580 - val_accuracy: 0.9527\n",
            "Epoch 14/20\n",
            "141/141 [==============================] - 2s 17ms/step - loss: 0.1117 - accuracy: 0.9633 - val_loss: 0.1744 - val_accuracy: 0.9450\n",
            "Epoch 15/20\n",
            "141/141 [==============================] - 2s 17ms/step - loss: 0.1159 - accuracy: 0.9644 - val_loss: 0.1700 - val_accuracy: 0.9493\n",
            "Epoch 16/20\n",
            "141/141 [==============================] - 2s 17ms/step - loss: 0.1166 - accuracy: 0.9633 - val_loss: 0.1829 - val_accuracy: 0.9477\n",
            "Epoch 17/20\n",
            "141/141 [==============================] - 2s 17ms/step - loss: 0.1073 - accuracy: 0.9657 - val_loss: 0.1805 - val_accuracy: 0.9473\n",
            "Epoch 18/20\n",
            "141/141 [==============================] - 2s 17ms/step - loss: 0.1143 - accuracy: 0.9648 - val_loss: 0.1677 - val_accuracy: 0.9523\n",
            "Epoch 19/20\n",
            "141/141 [==============================] - 2s 17ms/step - loss: 0.1065 - accuracy: 0.9672 - val_loss: 0.1601 - val_accuracy: 0.9500\n",
            "Epoch 20/20\n",
            "141/141 [==============================] - 2s 18ms/step - loss: 0.1098 - accuracy: 0.9653 - val_loss: 0.1670 - val_accuracy: 0.9497\n"
          ],
          "name": "stdout"
        }
      ]
    },
    {
      "cell_type": "code",
      "metadata": {
        "id": "AWJflmuvaIqM",
        "colab_type": "code",
        "colab": {
          "base_uri": "https://localhost:8080/",
          "height": 295
        },
        "outputId": "053b050c-914c-4900-82be-48edddd5a486"
      },
      "source": [
        "plt.plot(history.history['accuracy'])\n",
        "plt.plot(history.history['val_accuracy'])\n",
        "plt.title('Model accuracy')\n",
        "plt.ylabel('Accuracy')\n",
        "plt.xlabel('Epoch')\n",
        "plt.legend(['Training', 'Validation'], loc='lower right')\n",
        "plt.show()"
      ],
      "execution_count": 103,
      "outputs": [
        {
          "output_type": "display_data",
          "data": {
            "image/png": "[encoded data removed]",
            "text/plain": [
              "<Figure size 432x288 with 1 Axes>"
            ]
          },
          "metadata": {
            "tags": [],
            "needs_background": "light"
          }
        }
      ]
    },
    {
      "cell_type": "code",
      "metadata": {
        "id": "lVl-R4EDaKj9",
        "colab_type": "code",
        "colab": {
          "base_uri": "https://localhost:8080/",
          "height": 295
        },
        "outputId": "d966ab1d-abd2-4d0b-961c-5472b3803b33"
      },
      "source": [
        "plt.plot(history.history['loss'], label='Training data')\n",
        "plt.plot(history.history['val_loss'], label='Validation data')\n",
        "plt.title('Loss')\n",
        "plt.ylabel('Loss value')\n",
        "plt.xlabel('No. epoch')\n",
        "plt.legend(loc=\"upper left\")\n",
        "plt.show()"
      ],
      "execution_count": 104,
      "outputs": [
        {
          "output_type": "display_data",
          "data": {
            "image/png": "[encoded data removed]",
            "text/plain": [
              "<Figure size 432x288 with 1 Axes>"
            ]
          },
          "metadata": {
            "tags": [],
            "needs_background": "light"
          }
        }
      ]
    },
    {
      "cell_type": "code",
      "metadata": {
        "id": "aTT31txecTt6",
        "colab_type": "code",
        "colab": {}
      },
      "source": [
        "y_pred = model.predict(test_data)"
      ],
      "execution_count": 105,
      "outputs": []
    },
    {
      "cell_type": "code",
      "metadata": {
        "id": "vTIR0MNrcYxR",
        "colab_type": "code",
        "colab": {
          "base_uri": "https://localhost:8080/",
          "height": 140
        },
        "outputId": "33fa92a0-f8db-4398-d8c4-c388bbf5c7f5"
      },
      "source": [
        "y_pred"
      ],
      "execution_count": 106,
      "outputs": [
        {
          "output_type": "execute_result",
          "data": {
            "text/plain": [
              "array([[0.9992131 ],\n",
              "       [0.9996785 ],\n",
              "       [0.9955011 ],\n",
              "       ...,\n",
              "       [0.00249756],\n",
              "       [0.9982728 ],\n",
              "       [0.9621674 ]], dtype=float32)"
            ]
          },
          "metadata": {
            "tags": []
          },
          "execution_count": 106
        }
      ]
    },
    {
      "cell_type": "code",
      "metadata": {
        "id": "1HcxwByxcZTY",
        "colab_type": "code",
        "colab": {
          "base_uri": "https://localhost:8080/",
          "height": 34
        },
        "outputId": "92be07d7-93ea-4271-d627-ca4ee5237264"
      },
      "source": [
        "y_pred.shape"
      ],
      "execution_count": 107,
      "outputs": [
        {
          "output_type": "execute_result",
          "data": {
            "text/plain": [
              "(3000, 1)"
            ]
          },
          "metadata": {
            "tags": []
          },
          "execution_count": 107
        }
      ]
    },
    {
      "cell_type": "code",
      "metadata": {
        "id": "LNxZoXiPcbFZ",
        "colab_type": "code",
        "colab": {}
      },
      "source": [
        "for i in range(y_pred.shape[0]) :\n",
        "\n",
        "  if y_pred[i][0] >= 0.5 :\n",
        "\n",
        "    y_pred[i][0] = 1\n",
        "\n",
        "  else :\n",
        "\n",
        "    y_pred[i][0] = 0"
      ],
      "execution_count": 108,
      "outputs": []
    },
    {
      "cell_type": "code",
      "metadata": {
        "id": "Tey4XIDjcdIO",
        "colab_type": "code",
        "colab": {}
      },
      "source": [
        "y_pred = y_pred.astype('int64')"
      ],
      "execution_count": null,
      "outputs": []
    },
    {
      "cell_type": "code",
      "metadata": {
        "id": "fv3NsEzEdTQd",
        "colab_type": "code",
        "colab": {
          "base_uri": "https://localhost:8080/",
          "height": 140
        },
        "outputId": "d2cf45a0-e7d0-480e-cccc-6b4e96a70973"
      },
      "source": [
        "y_pred"
      ],
      "execution_count": 109,
      "outputs": [
        {
          "output_type": "execute_result",
          "data": {
            "text/plain": [
              "array([[1.],\n",
              "       [1.],\n",
              "       [1.],\n",
              "       ...,\n",
              "       [0.],\n",
              "       [1.],\n",
              "       [1.]], dtype=float32)"
            ]
          },
          "metadata": {
            "tags": []
          },
          "execution_count": 109
        }
      ]
    },
    {
      "cell_type": "code",
      "metadata": {
        "id": "7g58nYSbdYr4",
        "colab_type": "code",
        "colab": {
          "base_uri": "https://localhost:8080/",
          "height": 290
        },
        "outputId": "72883493-97ba-48de-9d2e-0aca5414e43c"
      },
      "source": [
        "y_test = y_test.reshape(-1,1)"
      ],
      "execution_count": 84,
      "outputs": [
        {
          "output_type": "error",
          "ename": "AttributeError",
          "evalue": "ignored",
          "traceback": [
            "\u001b[0;31m---------------------------------------------------------------------------\u001b[0m",
            "\u001b[0;31mAttributeError\u001b[0m                            Traceback (most recent call last)",
            "\u001b[0;32m<ipython-input-84-66556dbdd408>\u001b[0m in \u001b[0;36m<module>\u001b[0;34m()\u001b[0m\n\u001b[0;32m----> 1\u001b[0;31m \u001b[0my_test\u001b[0m \u001b[0;34m=\u001b[0m \u001b[0my_test\u001b[0m\u001b[0;34m.\u001b[0m\u001b[0mreshape\u001b[0m\u001b[0;34m(\u001b[0m\u001b[0;34m-\u001b[0m\u001b[0;36m1\u001b[0m\u001b[0;34m,\u001b[0m\u001b[0;36m1\u001b[0m\u001b[0;34m)\u001b[0m\u001b[0;34m\u001b[0m\u001b[0;34m\u001b[0m\u001b[0m\n\u001b[0m",
            "\u001b[0;32m/usr/local/lib/python3.6/dist-packages/pandas/core/generic.py\u001b[0m in \u001b[0;36m__getattr__\u001b[0;34m(self, name)\u001b[0m\n\u001b[1;32m   5272\u001b[0m             \u001b[0;32mif\u001b[0m \u001b[0mself\u001b[0m\u001b[0;34m.\u001b[0m\u001b[0m_info_axis\u001b[0m\u001b[0;34m.\u001b[0m\u001b[0m_can_hold_identifiers_and_holds_name\u001b[0m\u001b[0;34m(\u001b[0m\u001b[0mname\u001b[0m\u001b[0;34m)\u001b[0m\u001b[0;34m:\u001b[0m\u001b[0;34m\u001b[0m\u001b[0;34m\u001b[0m\u001b[0m\n\u001b[1;32m   5273\u001b[0m                 \u001b[0;32mreturn\u001b[0m \u001b[0mself\u001b[0m\u001b[0;34m[\u001b[0m\u001b[0mname\u001b[0m\u001b[0;34m]\u001b[0m\u001b[0;34m\u001b[0m\u001b[0;34m\u001b[0m\u001b[0m\n\u001b[0;32m-> 5274\u001b[0;31m             \u001b[0;32mreturn\u001b[0m \u001b[0mobject\u001b[0m\u001b[0;34m.\u001b[0m\u001b[0m__getattribute__\u001b[0m\u001b[0;34m(\u001b[0m\u001b[0mself\u001b[0m\u001b[0;34m,\u001b[0m \u001b[0mname\u001b[0m\u001b[0;34m)\u001b[0m\u001b[0;34m\u001b[0m\u001b[0;34m\u001b[0m\u001b[0m\n\u001b[0m\u001b[1;32m   5275\u001b[0m \u001b[0;34m\u001b[0m\u001b[0m\n\u001b[1;32m   5276\u001b[0m     \u001b[0;32mdef\u001b[0m \u001b[0m__setattr__\u001b[0m\u001b[0;34m(\u001b[0m\u001b[0mself\u001b[0m\u001b[0;34m,\u001b[0m \u001b[0mname\u001b[0m\u001b[0;34m:\u001b[0m \u001b[0mstr\u001b[0m\u001b[0;34m,\u001b[0m \u001b[0mvalue\u001b[0m\u001b[0;34m)\u001b[0m \u001b[0;34m->\u001b[0m \u001b[0;32mNone\u001b[0m\u001b[0;34m:\u001b[0m\u001b[0;34m\u001b[0m\u001b[0;34m\u001b[0m\u001b[0m\n",
            "\u001b[0;31mAttributeError\u001b[0m: 'Series' object has no attribute 'reshape'"
          ]
        }
      ]
    },
    {
      "cell_type": "code",
      "metadata": {
        "id": "EKB3RgAndTTh",
        "colab_type": "code",
        "colab": {
          "base_uri": "https://localhost:8080/",
          "height": 316
        },
        "outputId": "d92910a3-80a5-4353-de18-afa6156bf4cc"
      },
      "source": [
        "metrics  =  classification_report (y_test , y_pred)\n",
        "\n",
        "print ('Classification Report ')\n",
        "\n",
        "print(\"\\n\")\n",
        "\n",
        "print (metrics)\n",
        "\n",
        "cm  =  confusion_matrix (y_test,y_pred)\n",
        "\n",
        "print ('Confusion Matrix')\n",
        "\n",
        "print(\"\\n\")\n",
        "\n",
        "print (cm)"
      ],
      "execution_count": 110,
      "outputs": [
        {
          "output_type": "stream",
          "text": [
            "Classification Report \n",
            "\n",
            "\n",
            "              precision    recall  f1-score   support\n",
            "\n",
            "           0       0.97      0.93      0.95      1501\n",
            "           1       0.93      0.97      0.95      1499\n",
            "\n",
            "    accuracy                           0.95      3000\n",
            "   macro avg       0.95      0.95      0.95      3000\n",
            "weighted avg       0.95      0.95      0.95      3000\n",
            "\n",
            "Confusion Matrix\n",
            "\n",
            "\n",
            "[[1393  108]\n",
            " [  46 1453]]\n"
          ],
          "name": "stdout"
        }
      ]
    }
  ]
}