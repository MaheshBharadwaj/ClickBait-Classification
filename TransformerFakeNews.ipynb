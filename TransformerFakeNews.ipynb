{
  "nbformat": 4,
  "nbformat_minor": 0,
  "metadata": {
    "colab": {
      "name": "TransformerFakeNews",
      "provenance": [],
      "collapsed_sections": []
    },
    "kernelspec": {
      "name": "python3",
      "display_name": "Python 3"
    },
    "accelerator": "GPU"
  },
  "cells": [
    {
      "cell_type": "code",
      "metadata": {
        "id": "lBnaYLtyZcJF",
        "colab_type": "code",
        "colab": {}
      },
      "source": [
        "import math\n",
        "\n",
        "import re\n",
        "\n",
        "import time\n",
        "\n",
        "from google.colab import drive\n",
        "\n",
        "import warnings\n",
        "\n",
        "warnings.filterwarnings('ignore')"
      ],
      "execution_count": 1,
      "outputs": []
    },
    {
      "cell_type": "code",
      "metadata": {
        "id": "BInxdKa5ZfXj",
        "colab_type": "code",
        "colab": {}
      },
      "source": [
        "try :\n",
        "\n",
        "    %tensorflow_version 2.x\n",
        "\n",
        "except :\n",
        "\n",
        "    pass\n",
        "    \n",
        "import tensorflow as tf\n",
        "\n",
        "from tensorflow.keras import layers\n",
        "\n",
        "import tensorflow_datasets as tfds"
      ],
      "execution_count": 2,
      "outputs": []
    },
    {
      "cell_type": "code",
      "metadata": {
        "id": "WO_Q8mg8Zg9C",
        "colab_type": "code",
        "colab": {
          "base_uri": "https://localhost:8080/",
          "height": 103
        },
        "outputId": "6f223b16-3d69-4c92-eeea-4acac4781a55"
      },
      "source": [
        "import pandas as pd\n",
        "\n",
        "import numpy as np\n",
        "\n",
        "import h5py\n",
        "\n",
        "from gensim.models import Word2Vec\n",
        "\n",
        "import gensim.models\n",
        "\n",
        "from tensorflow import keras\n",
        "\n",
        "from tensorflow.keras.callbacks import ModelCheckpoint\n",
        "\n",
        "from tensorflow.keras.callbacks import EarlyStopping\n",
        "\n",
        "from tensorflow.keras.models import Sequential\n",
        "\n",
        "from sklearn.metrics import roc_auc_score\n",
        "\n",
        "from sklearn.metrics import classification_report\n",
        "\n",
        "from sklearn.metrics import confusion_matrix\n",
        "\n",
        "import matplotlib.pyplot as plt\n",
        "\n",
        "from sklearn.model_selection import StratifiedKFold\n",
        "\n",
        "from tensorflow.keras.layers import Dense\n",
        "\n",
        "from tensorflow.keras.layers import Embedding\n",
        "\n",
        "from tensorflow.keras.layers import Dropout\n",
        "\n",
        "from tensorflow.keras.layers import Activation\n",
        "\n",
        "from tensorflow.keras.layers import Bidirectional\n",
        "\n",
        "from tensorflow.keras.layers import LSTM\n",
        "\n",
        "from tensorflow.keras.layers import SimpleRNN\n",
        "\n",
        "from tensorflow.keras.layers import GRU\n",
        "\n",
        "from tensorflow.keras.preprocessing.sequence import pad_sequences \n",
        "\n",
        "import re\n",
        "\n",
        "from nltk.tokenize import word_tokenize\n",
        "\n",
        "import nltk\n",
        "\n",
        "nltk.download('punkt')\n",
        "\n",
        "from nltk.corpus import stopwords \n",
        "\n",
        "nltk.download('stopwords')"
      ],
      "execution_count": 3,
      "outputs": [
        {
          "output_type": "stream",
          "text": [
            "[nltk_data] Downloading package punkt to /root/nltk_data...\n",
            "[nltk_data]   Package punkt is already up-to-date!\n",
            "[nltk_data] Downloading package stopwords to /root/nltk_data...\n",
            "[nltk_data]   Package stopwords is already up-to-date!\n"
          ],
          "name": "stdout"
        },
        {
          "output_type": "execute_result",
          "data": {
            "text/plain": [
              "True"
            ]
          },
          "metadata": {
            "tags": []
          },
          "execution_count": 3
        }
      ]
    },
    {
      "cell_type": "code",
      "metadata": {
        "id": "GLUjgjw4Zizy",
        "colab_type": "code",
        "colab": {
          "base_uri": "https://localhost:8080/",
          "height": 34
        },
        "outputId": "c575b314-46ad-4048-8efa-066d9365e31f"
      },
      "source": [
        "drive.mount(\"/content/drive\")"
      ],
      "execution_count": 4,
      "outputs": [
        {
          "output_type": "stream",
          "text": [
            "Drive already mounted at /content/drive; to attempt to forcibly remount, call drive.mount(\"/content/drive\", force_remount=True).\n"
          ],
          "name": "stdout"
        }
      ]
    },
    {
      "cell_type": "code",
      "metadata": {
        "id": "AYT9wvO6GLph",
        "colab_type": "code",
        "colab": {}
      },
      "source": [
        "gossipcop_fake = pd.read_csv('https://raw.githubusercontent.com/KaiDMML/FakeNewsNet/master/dataset/gossipcop_fake.csv')\n",
        "\n",
        "politicop_fake = pd.read_csv('https://raw.githubusercontent.com/KaiDMML/FakeNewsNet/master/dataset/politifact_fake.csv')\n",
        "\n",
        "gossipcop_real = pd.read_csv('https://raw.githubusercontent.com/KaiDMML/FakeNewsNet/master/dataset/gossipcop_real.csv')\n",
        "\n",
        "politicop_real = pd.read_csv('https://raw.githubusercontent.com/KaiDMML/FakeNewsNet/master/dataset/politifact_real.csv')"
      ],
      "execution_count": 5,
      "outputs": []
    },
    {
      "cell_type": "code",
      "metadata": {
        "id": "IFIkJSGQHAQR",
        "colab_type": "code",
        "colab": {}
      },
      "source": [
        "gossipcop_real['class'] = [0 for i in range(gossipcop_real.shape[0])]\n",
        "\n",
        "gossipcop_fake['class'] = [1 for i in range(gossipcop_fake.shape[0])]\n",
        "\n",
        "politicop_fake['class'] = [1 for i in range(politicop_fake.shape[0])]\n",
        "\n",
        "politicop_real['class'] = [0 for i in range(politicop_real.shape[0])]"
      ],
      "execution_count": 6,
      "outputs": []
    },
    {
      "cell_type": "code",
      "metadata": {
        "id": "rEFUAQycZl9q",
        "colab_type": "code",
        "colab": {
          "base_uri": "https://localhost:8080/",
          "height": 326
        },
        "outputId": "2acd3f49-28f3-4ed9-c199-840151669560"
      },
      "source": [
        "data_train = pd.concat((gossipcop_real , gossipcop_fake), ignore_index = True )\n",
        "\n",
        "data_test = pd.concat((politicop_real, politicop_fake), ignore_index = True )\n",
        "\n",
        "print(data_train.shape)\n",
        "\n",
        "print(data_train.head(5))\n",
        "\n",
        "print(data_test.shape)\n",
        "\n",
        "print(data_test.head(5))"
      ],
      "execution_count": 7,
      "outputs": [
        {
          "output_type": "stream",
          "text": [
            "(22140, 5)\n",
            "                 id  ... class\n",
            "0  gossipcop-882573  ...     0\n",
            "1  gossipcop-875924  ...     0\n",
            "2  gossipcop-894416  ...     0\n",
            "3  gossipcop-857248  ...     0\n",
            "4  gossipcop-884684  ...     0\n",
            "\n",
            "[5 rows x 5 columns]\n",
            "(1056, 5)\n",
            "                id  ... class\n",
            "0  politifact14984  ...     0\n",
            "1  politifact12944  ...     0\n",
            "2    politifact333  ...     0\n",
            "3   politifact4358  ...     0\n",
            "4    politifact779  ...     0\n",
            "\n",
            "[5 rows x 5 columns]\n"
          ],
          "name": "stdout"
        }
      ]
    },
    {
      "cell_type": "code",
      "metadata": {
        "id": "VyA7JmVAZ50Z",
        "colab_type": "code",
        "colab": {}
      },
      "source": [
        "stop_words  = set(stopwords.words('english'))"
      ],
      "execution_count": 8,
      "outputs": []
    },
    {
      "cell_type": "code",
      "metadata": {
        "id": "87wv0ADBZ7tq",
        "colab_type": "code",
        "colab": {}
      },
      "source": [
        "from sklearn.model_selection import train_test_split\n",
        "\n",
        "L = []\n",
        "\n",
        "for  i , token  in  enumerate(data_train['title']) :\n",
        "\n",
        "    words = [w  for  w  in  token.split()]\n",
        "\n",
        "    L.append(len(words))\n",
        "    \n",
        "sequence_size = max(L)\n",
        "\n",
        "X_train = data_train['title']\n",
        "\n",
        "y_train = data_train['class']\n",
        "\n",
        "X_test = data_test['title']\n",
        "\n",
        "y_test = data_test['class']\n",
        "\n",
        "X_train, X_val, y_train, y_val = train_test_split(X_train, y_train , test_size = 0.1, random_state = 42)"
      ],
      "execution_count": 9,
      "outputs": []
    },
    {
      "cell_type": "code",
      "metadata": {
        "id": "8J-6KN_ZZ9dp",
        "colab_type": "code",
        "colab": {}
      },
      "source": [
        "y_train = np.array(y_train)\n",
        "\n",
        "y_test = np.array(y_test)\n",
        "\n",
        "y_val = np.array(y_val)"
      ],
      "execution_count": 10,
      "outputs": []
    },
    {
      "cell_type": "code",
      "metadata": {
        "id": "OM9dY7aUZ_Pq",
        "colab_type": "code",
        "colab": {}
      },
      "source": [
        "WORD2VEC_VECTORS_BIN  = '/content/drive/My Drive/GoogleNews-vectors-negative300.bin'\n",
        "\n",
        "w2v  =  gensim.models.KeyedVectors.load_word2vec_format(WORD2VEC_VECTORS_BIN , binary = True )"
      ],
      "execution_count": 11,
      "outputs": []
    },
    {
      "cell_type": "code",
      "metadata": {
        "id": "EPH4XjAjLBhw",
        "colab_type": "code",
        "colab": {
          "base_uri": "https://localhost:8080/",
          "height": 68
        },
        "outputId": "043ce481-f016-4d8e-ed57-a59d034f69d5"
      },
      "source": [
        "train_data=np.zeros((len(X_train), sequence_size, 300))\n",
        "\n",
        "val_data=np.zeros((len(X_val), sequence_size, 300))\n",
        "\n",
        "test_data = np.zeros((len(X_test), sequence_size, 300))\n",
        "\n",
        "for i,sentence in enumerate(X_train) :\n",
        "\n",
        "  sentence = sentence.replace('-', ' ')\n",
        "\n",
        "  words = nltk.word_tokenize(sentence)\n",
        "\n",
        "  j = 0 \n",
        "\n",
        "  for  w  in  words :\n",
        "\n",
        "    try :\n",
        "        \n",
        "      train_data[i , j] = w2v [w]\n",
        "\n",
        "      j += 1\n",
        "\n",
        "    except :\n",
        "        \n",
        "      pass\n",
        "\n",
        "for i,sentence in enumerate(X_val) :\n",
        "\n",
        "  sentence = sentence.replace('-',' ')\n",
        "\n",
        "  words = nltk.word_tokenize(sentence)\n",
        "\n",
        "  j = 0\n",
        "  \n",
        "  for  w  in  words :\n",
        "\n",
        "    try :\n",
        "        \n",
        "      val_data[i , j] = w2v[w]\n",
        "\n",
        "      j += 1\n",
        "\n",
        "    except :\n",
        "        \n",
        "      pass\n",
        "        \n",
        "for i,sentence in enumerate(X_test) :\n",
        "\n",
        "  sentence = sentence.replace('-',' ')\n",
        "\n",
        "  words = nltk.word_tokenize(sentence)\n",
        "\n",
        "  j = 0\n",
        "  \n",
        "  for  w  in  words :\n",
        "\n",
        "    try :\n",
        "        \n",
        "      test_data[i , j] = w2v[w]\n",
        "\n",
        "      j += 1\n",
        "\n",
        "    except :\n",
        "        \n",
        "      pass\n",
        "  \n",
        "print (test_data.shape)\n",
        "print (train_data.shape)\n",
        "print (val_data.shape)"
      ],
      "execution_count": 12,
      "outputs": [
        {
          "output_type": "stream",
          "text": [
            "(1056, 39, 300)\n",
            "(19926, 39, 300)\n",
            "(2214, 39, 300)\n"
          ],
          "name": "stdout"
        }
      ]
    },
    {
      "cell_type": "code",
      "metadata": {
        "id": "jFl9wNKwaQm2",
        "colab_type": "code",
        "colab": {}
      },
      "source": [
        "class PositionalEncoding(layers.Layer):\n",
        "  \n",
        "    def __init__(self) :\n",
        "\n",
        "        super(PositionalEncoding, self).__init__()\n",
        "    \n",
        "    def get_angles(self, pos, i, d_model) :\n",
        "\n",
        "        angles = 1 / np.power(10000., (2*(i//2)) / np.float32(d_model))\n",
        "\n",
        "        return pos * angles\n",
        "\n",
        "    def call(self, inputs) :\n",
        "\n",
        "        seq_length = inputs.shape.as_list()[-2]\n",
        "\n",
        "        d_model = inputs.shape.as_list()[-1]\n",
        "\n",
        "        angles = self.get_angles(np.arange(seq_length)[:, np.newaxis],np.arange(d_model)[np.newaxis, :],d_model)\n",
        "\n",
        "        angles[:, 0::2] = np.sin(angles[:, 0::2])\n",
        "\n",
        "        angles[:, 1::2] = np.cos(angles[:, 1::2])\n",
        "        \n",
        "        pos_encoding = angles[np.newaxis, ...]\n",
        "\n",
        "        return inputs + tf.cast(pos_encoding, tf.float32)"
      ],
      "execution_count": 13,
      "outputs": []
    },
    {
      "cell_type": "code",
      "metadata": {
        "id": "1Q7LtllFaV12",
        "colab_type": "code",
        "colab": {}
      },
      "source": [
        "def scaled_dot_product_attention(queries, keys, values, mask) :\n",
        "  \n",
        "    product = tf.matmul(queries, keys, transpose_b  = True)\n",
        "    \n",
        "    keys_dim = tf.cast(tf.shape(keys)[-1], tf.float32)\n",
        "\n",
        "    scaled_product = product / tf.math.sqrt(keys_dim)\n",
        "    \n",
        "    attention = tf.matmul(tf.nn.softmax(scaled_product, axis = -1), values)\n",
        "    \n",
        "    return attention"
      ],
      "execution_count": 14,
      "outputs": []
    },
    {
      "cell_type": "code",
      "metadata": {
        "id": "2lDxXvPwaeN0",
        "colab_type": "code",
        "colab": {}
      },
      "source": [
        "class MultiHeadAttention(layers.Layer):\n",
        "    \n",
        "    def __init__(self, nb_proj) :\n",
        "\n",
        "        super(MultiHeadAttention, self).__init__()\n",
        "\n",
        "        self.nb_proj = nb_proj\n",
        "        \n",
        "    def build(self, input_shape) :\n",
        "\n",
        "        self.d_model = input_shape[-1]\n",
        "\n",
        "        assert self.d_model % self.nb_proj == 0\n",
        "        \n",
        "        self.d_proj = self.d_model // self.nb_proj\n",
        "        \n",
        "        self.query_lin = layers.Dense(units=self.d_model)\n",
        "\n",
        "        self.key_lin = layers.Dense(units=self.d_model)\n",
        "\n",
        "        self.value_lin = layers.Dense(units=self.d_model)\n",
        "        \n",
        "        self.final_lin = layers.Dense(units=self.d_model)\n",
        "        \n",
        "    def split_proj(self, inputs, batch_size): # inputs: (batch_size, seq_length, d_model)\n",
        "\n",
        "        shape = (batch_size,-1, self.nb_proj,self.d_proj)\n",
        "\n",
        "        splited_inputs = tf.reshape(inputs, shape=shape) # (batch_size, seq_length, nb_proj, d_proj)\n",
        "\n",
        "        return tf.transpose(splited_inputs, perm=[0, 2, 1, 3]) # (batch_size, nb_proj, seq_length, d_proj)\n",
        "    \n",
        "    def call(self, queries, keys, values, mask) :\n",
        "\n",
        "        batch_size = tf.shape(queries)[0]\n",
        "        \n",
        "        queries = self.query_lin(queries)\n",
        "\n",
        "        keys = self.key_lin(keys)\n",
        "\n",
        "        values = self.value_lin(values)\n",
        "        \n",
        "        queries = self.split_proj(queries, batch_size)\n",
        "\n",
        "        keys = self.split_proj(keys, batch_size)\n",
        "\n",
        "        values = self.split_proj(values, batch_size)\n",
        "        \n",
        "        attention = scaled_dot_product_attention(queries, keys, values, mask)\n",
        "        \n",
        "        attention = tf.transpose(attention, perm=[0, 2, 1, 3])\n",
        "        \n",
        "        concat_attention = tf.reshape(attention,shape=(batch_size, -1, self.d_model))\n",
        "        \n",
        "        outputs = self.final_lin(concat_attention)\n",
        "        \n",
        "        return outputs"
      ],
      "execution_count": 15,
      "outputs": []
    },
    {
      "cell_type": "code",
      "metadata": {
        "id": "4uvjMQttaeQ7",
        "colab_type": "code",
        "colab": {}
      },
      "source": [
        "class EncoderLayer(layers.Layer):\n",
        "    \n",
        "    def __init__(self, FFN_units, nb_proj, dropout_rate) :\n",
        "\n",
        "        super(EncoderLayer, self).__init__()\n",
        "\n",
        "        self.FFN_units = FFN_units\n",
        "\n",
        "        self.nb_proj = nb_proj\n",
        "\n",
        "        self.dropout_rate = dropout_rate\n",
        "    \n",
        "    def build(self, input_shape) :\n",
        "\n",
        "        self.d_model = input_shape[-1]\n",
        "        \n",
        "        self.multi_head_attention = MultiHeadAttention(self.nb_proj)\n",
        "\n",
        "        self.dropout_1 = layers.Dropout(rate=self.dropout_rate)\n",
        "\n",
        "        self.norm_1 = layers.LayerNormalization(epsilon=1e-6)\n",
        "        \n",
        "        self.dense_1 = layers.Dense(units=self.FFN_units, activation=\"relu\")\n",
        "\n",
        "        self.dense_2 = layers.Dense(units=self.d_model)\n",
        "\n",
        "        self.dropout_2 = layers.Dropout(rate=self.dropout_rate)\n",
        "\n",
        "        self.norm_2 = layers.LayerNormalization(epsilon=1e-6)\n",
        "        \n",
        "    def call(self, inputs, mask, training) :\n",
        "\n",
        "        attention = self.multi_head_attention(inputs,\n",
        "                                              inputs,\n",
        "                                              inputs,\n",
        "                                              mask)\n",
        "        \n",
        "        attention = self.dropout_1(attention, training=training)\n",
        "\n",
        "        attention = self.norm_1(attention + inputs)\n",
        "        \n",
        "        outputs = self.dense_1(attention)\n",
        "\n",
        "        outputs = self.dense_2(outputs)\n",
        "\n",
        "        outputs = self.dropout_2(outputs, training=training)\n",
        "        \n",
        "        outputs = self.norm_2(outputs + attention)\n",
        "        \n",
        "        return outputs"
      ],
      "execution_count": 16,
      "outputs": []
    },
    {
      "cell_type": "code",
      "metadata": {
        "id": "kaF-Q2K_lm16",
        "colab_type": "code",
        "colab": {}
      },
      "source": [
        "class Encoder(layers.Layer) :\n",
        "    \n",
        "    def __init__(self,\n",
        "                 nb_layers,\n",
        "                 FFN_units,\n",
        "                 nb_proj,\n",
        "                 dropout_rate,\n",
        "                 d_model,\n",
        "                 name=\"encoder\") :\n",
        "\n",
        "        super(Encoder, self).__init__(name=name)\n",
        "\n",
        "        self.nb_layers = nb_layers\n",
        "\n",
        "        self.d_model = d_model\n",
        "        \n",
        "        self.pos_encoding = PositionalEncoding()\n",
        "\n",
        "        self.dropout = layers.Dropout(rate=dropout_rate)\n",
        "\n",
        "        self.enc_layers = [EncoderLayer(FFN_units,\n",
        "                                        nb_proj,\n",
        "                                        dropout_rate) \n",
        "                           for _ in range(nb_layers)]\n",
        "    \n",
        "    def call(self, inputs, mask, training) :\n",
        "\n",
        "\n",
        "        inputs *= tf.math.sqrt(tf.cast(self.d_model, tf.float32))\n",
        "\n",
        "        outputs = self.pos_encoding(inputs)\n",
        "\n",
        "        outputs = self.dropout(outputs, training)\n",
        "        \n",
        "        for i in range(self.nb_layers) :\n",
        "          \n",
        "            outputs = self.enc_layers[i](outputs, mask, training)\n",
        "\n",
        "        return outputs"
      ],
      "execution_count": 17,
      "outputs": []
    },
    {
      "cell_type": "code",
      "metadata": {
        "id": "GJcIjNCQlseu",
        "colab_type": "code",
        "colab": {}
      },
      "source": [
        "class Transformer(tf.keras.Model):\n",
        "    \n",
        "    def __init__(self,\n",
        "                 d_model,\n",
        "                 nb_layers,\n",
        "                 FFN_units,\n",
        "                 nb_proj,\n",
        "                 dropout_rate,\n",
        "                 name=\"transformer\"):\n",
        "        super(Transformer, self).__init__(name=name)\n",
        "        \n",
        "        self.encoder = Encoder(nb_layers,\n",
        "                               FFN_units,\n",
        "                               nb_proj,\n",
        "                               dropout_rate,\n",
        "                               d_model)\n",
        "        # self.last_linear = layers.Dense(units=vocab_size_dec, name=\"lin_ouput\")\n",
        "    \n",
        "    def create_padding_mask(self, seq):\n",
        "        mask = tf.cast(tf.math.equal(seq, 0), tf.float32)\n",
        "        return mask[:, tf.newaxis, tf.newaxis, :]\n",
        "\n",
        "    def create_look_ahead_mask(self, seq):\n",
        "        seq_len = tf.shape(seq)[1]\n",
        "        look_ahead_mask = 1 - tf.linalg.band_part(tf.ones((seq_len, seq_len)), -1, 0)\n",
        "        return look_ahead_mask\n",
        "    \n",
        "    def call(self, enc_inputs, training = True):\n",
        "        enc_mask = self.create_padding_mask(enc_inputs)\n",
        "        \n",
        "        enc_outputs = self.encoder(enc_inputs, enc_mask, training)\n",
        "        \n",
        "        return enc_outputs"
      ],
      "execution_count": 18,
      "outputs": []
    },
    {
      "cell_type": "code",
      "metadata": {
        "id": "9moaXe9eaBqR",
        "colab_type": "code",
        "colab": {
          "base_uri": "https://localhost:8080/",
          "height": 429
        },
        "outputId": "64b3b1bc-10bd-4768-d22c-4e995498bea4"
      },
      "source": [
        "D_MODEL = 300\n",
        "\n",
        "NB_LAYERS = 2\n",
        "\n",
        "FFN_UNITS = 512\n",
        "\n",
        "NB_PROJ = 4\n",
        "\n",
        "DROPOUT_RATE = 0.1\n",
        "\n",
        "transformer = Transformer(d_model = D_MODEL,\n",
        "                          nb_layers = NB_LAYERS,\n",
        "                          FFN_units = FFN_UNITS,\n",
        "                          nb_proj = NB_PROJ,\n",
        "                          dropout_rate = DROPOUT_RATE)\n",
        "\n",
        "\n",
        "inputs = layers.Input(shape = (sequence_size,D_MODEL))\n",
        "\n",
        "x = transformer(inputs)\n",
        "\n",
        "x = layers.Flatten()(x)\n",
        "\n",
        "x = layers.Dense(512, activation=\"relu\")(x)\n",
        "\n",
        "x = layers.Dropout(0.1)(x)\n",
        "\n",
        "x = layers.Dense(256, activation=\"relu\")(x)\n",
        "\n",
        "x = layers.Dropout(0.1)(x)\n",
        "\n",
        "outputs = layers.Dense(1, activation=\"sigmoid\")(x)\n",
        "\n",
        "model = keras.Model(inputs = inputs, outputs = outputs)\n",
        "\n",
        "model.summary()\n",
        "\n",
        "model.compile(loss = 'binary_crossentropy' , optimizer = 'adam' , metrics = ['accuracy'])"
      ],
      "execution_count": 19,
      "outputs": [
        {
          "output_type": "stream",
          "text": [
            "Model: \"functional_1\"\n",
            "_________________________________________________________________\n",
            "Layer (type)                 Output Shape              Param #   \n",
            "=================================================================\n",
            "input_1 (InputLayer)         [(None, 39, 300)]         0         \n",
            "_________________________________________________________________\n",
            "transformer (Transformer)    (None, 39, 300)           1340824   \n",
            "_________________________________________________________________\n",
            "flatten (Flatten)            (None, 11700)             0         \n",
            "_________________________________________________________________\n",
            "dense (Dense)                (None, 512)               5990912   \n",
            "_________________________________________________________________\n",
            "dropout_1 (Dropout)          (None, 512)               0         \n",
            "_________________________________________________________________\n",
            "dense_1 (Dense)              (None, 256)               131328    \n",
            "_________________________________________________________________\n",
            "dropout_2 (Dropout)          (None, 256)               0         \n",
            "_________________________________________________________________\n",
            "dense_2 (Dense)              (None, 1)                 257       \n",
            "=================================================================\n",
            "Total params: 7,463,321\n",
            "Trainable params: 7,463,321\n",
            "Non-trainable params: 0\n",
            "_________________________________________________________________\n"
          ],
          "name": "stdout"
        }
      ]
    },
    {
      "cell_type": "code",
      "metadata": {
        "id": "oOnxkZRdaEAi",
        "colab_type": "code",
        "colab": {
          "base_uri": "https://localhost:8080/",
          "height": 704
        },
        "outputId": "cb93163c-1291-44a4-977d-4c257d11447c"
      },
      "source": [
        "history = model.fit(train_data , y_train  , batch_size = 64 , epochs = 20 , validation_data = (val_data , y_val), verbose = 1)"
      ],
      "execution_count": 20,
      "outputs": [
        {
          "output_type": "stream",
          "text": [
            "Epoch 1/20\n",
            "312/312 [==============================] - 14s 46ms/step - loss: 0.5971 - accuracy: 0.7717 - val_loss: 0.3986 - val_accuracy: 0.8383\n",
            "Epoch 2/20\n",
            "312/312 [==============================] - 14s 43ms/step - loss: 0.4319 - accuracy: 0.8073 - val_loss: 0.3821 - val_accuracy: 0.8505\n",
            "Epoch 3/20\n",
            "312/312 [==============================] - 14s 45ms/step - loss: 0.4179 - accuracy: 0.8171 - val_loss: 0.3643 - val_accuracy: 0.8473\n",
            "Epoch 4/20\n",
            "312/312 [==============================] - 13s 43ms/step - loss: 0.4126 - accuracy: 0.8195 - val_loss: 0.3745 - val_accuracy: 0.8451\n",
            "Epoch 5/20\n",
            "312/312 [==============================] - 13s 43ms/step - loss: 0.4074 - accuracy: 0.8227 - val_loss: 0.4090 - val_accuracy: 0.8089\n",
            "Epoch 6/20\n",
            "312/312 [==============================] - 13s 43ms/step - loss: 0.4103 - accuracy: 0.8208 - val_loss: 0.3942 - val_accuracy: 0.8320\n",
            "Epoch 7/20\n",
            "312/312 [==============================] - 13s 43ms/step - loss: 0.4040 - accuracy: 0.8246 - val_loss: 0.3679 - val_accuracy: 0.8446\n",
            "Epoch 8/20\n",
            "312/312 [==============================] - 14s 43ms/step - loss: 0.4011 - accuracy: 0.8254 - val_loss: 0.3753 - val_accuracy: 0.8514\n",
            "Epoch 9/20\n",
            "312/312 [==============================] - 14s 44ms/step - loss: 0.3942 - accuracy: 0.8276 - val_loss: 0.3679 - val_accuracy: 0.8455\n",
            "Epoch 10/20\n",
            "312/312 [==============================] - 14s 43ms/step - loss: 0.3991 - accuracy: 0.8255 - val_loss: 0.4246 - val_accuracy: 0.8446\n",
            "Epoch 11/20\n",
            "312/312 [==============================] - 13s 43ms/step - loss: 0.4047 - accuracy: 0.8202 - val_loss: 0.3812 - val_accuracy: 0.8433\n",
            "Epoch 12/20\n",
            "312/312 [==============================] - 13s 43ms/step - loss: 0.4036 - accuracy: 0.8227 - val_loss: 0.3644 - val_accuracy: 0.8519\n",
            "Epoch 13/20\n",
            "312/312 [==============================] - 13s 43ms/step - loss: 0.3937 - accuracy: 0.8299 - val_loss: 0.3650 - val_accuracy: 0.8509\n",
            "Epoch 14/20\n",
            "312/312 [==============================] - 13s 43ms/step - loss: 0.3924 - accuracy: 0.8287 - val_loss: 0.3763 - val_accuracy: 0.8306\n",
            "Epoch 15/20\n",
            "312/312 [==============================] - 14s 44ms/step - loss: 0.3937 - accuracy: 0.8248 - val_loss: 0.3847 - val_accuracy: 0.8455\n",
            "Epoch 16/20\n",
            "312/312 [==============================] - 14s 44ms/step - loss: 0.3959 - accuracy: 0.8267 - val_loss: 0.3752 - val_accuracy: 0.8342\n",
            "Epoch 17/20\n",
            "312/312 [==============================] - 14s 44ms/step - loss: 0.3913 - accuracy: 0.8313 - val_loss: 0.3826 - val_accuracy: 0.8464\n",
            "Epoch 18/20\n",
            "312/312 [==============================] - 14s 44ms/step - loss: 0.3984 - accuracy: 0.8258 - val_loss: 0.3704 - val_accuracy: 0.8297\n",
            "Epoch 19/20\n",
            "312/312 [==============================] - 13s 43ms/step - loss: 0.3964 - accuracy: 0.8251 - val_loss: 0.3768 - val_accuracy: 0.8446\n",
            "Epoch 20/20\n",
            "312/312 [==============================] - 13s 43ms/step - loss: 0.3950 - accuracy: 0.8302 - val_loss: 0.3703 - val_accuracy: 0.8482\n"
          ],
          "name": "stdout"
        }
      ]
    },
    {
      "cell_type": "code",
      "metadata": {
        "id": "AWJflmuvaIqM",
        "colab_type": "code",
        "colab": {
          "base_uri": "https://localhost:8080/",
          "height": 294
        },
        "outputId": "ccf9410b-1fa6-4de5-a172-74373cae1dfe"
      },
      "source": [
        "plt.plot(history.history['accuracy'])\n",
        "plt.plot(history.history['val_accuracy'])\n",
        "plt.title('Model accuracy')\n",
        "plt.ylabel('Accuracy')\n",
        "plt.xlabel('Epoch')\n",
        "plt.legend(['Training', 'Validation'], loc='lower right')\n",
        "plt.show()"
      ],
      "execution_count": 21,
      "outputs": [
        {
          "output_type": "display_data",
          "data": {
            "image/png": "[encoded data removed]",
            "text/plain": [
              "<Figure size 432x288 with 1 Axes>"
            ]
          },
          "metadata": {
            "tags": [],
            "needs_background": "light"
          }
        }
      ]
    },
    {
      "cell_type": "code",
      "metadata": {
        "id": "lVl-R4EDaKj9",
        "colab_type": "code",
        "colab": {
          "base_uri": "https://localhost:8080/",
          "height": 294
        },
        "outputId": "94da6fca-9f09-4ec4-8a64-fb546dab8679"
      },
      "source": [
        "plt.plot(history.history['loss'], label='Training data')\n",
        "plt.plot(history.history['val_loss'], label='Validation data')\n",
        "plt.title('Loss')\n",
        "plt.ylabel('Loss value')\n",
        "plt.xlabel('No. epoch')\n",
        "plt.legend(loc=\"upper left\")\n",
        "plt.show()"
      ],
      "execution_count": 22,
      "outputs": [
        {
          "output_type": "display_data",
          "data": {
            "image/png": "[encoded data removed]",
            "text/plain": [
              "<Figure size 432x288 with 1 Axes>"
            ]
          },
          "metadata": {
            "tags": [],
            "needs_background": "light"
          }
        }
      ]
    },
    {
      "cell_type": "code",
      "metadata": {
        "id": "aTT31txecTt6",
        "colab_type": "code",
        "colab": {}
      },
      "source": [
        "y_pred = model.predict(test_data)"
      ],
      "execution_count": 23,
      "outputs": []
    },
    {
      "cell_type": "code",
      "metadata": {
        "id": "NHOi5fpPPWDt",
        "colab_type": "code",
        "colab": {
          "base_uri": "https://localhost:8080/",
          "height": 137
        },
        "outputId": "2fa0e5a2-ee67-4949-9630-fff87560a570"
      },
      "source": [
        "y_pred"
      ],
      "execution_count": 24,
      "outputs": [
        {
          "output_type": "execute_result",
          "data": {
            "text/plain": [
              "array([[0.38580135],\n",
              "       [0.05879628],\n",
              "       [0.05669882],\n",
              "       ...,\n",
              "       [0.7476421 ],\n",
              "       [0.29875147],\n",
              "       [0.17422907]], dtype=float32)"
            ]
          },
          "metadata": {
            "tags": []
          },
          "execution_count": 24
        }
      ]
    },
    {
      "cell_type": "code",
      "metadata": {
        "id": "w5vxqml_MkH6",
        "colab_type": "code",
        "colab": {
          "base_uri": "https://localhost:8080/",
          "height": 34
        },
        "outputId": "97ea9289-b095-44a5-ac78-817bf547d386"
      },
      "source": [
        "score , acc  =  model.evaluate(test_data , y_test , batch_size = 64)"
      ],
      "execution_count": 25,
      "outputs": [
        {
          "output_type": "stream",
          "text": [
            "17/17 [==============================] - 0s 16ms/step - loss: 0.9494 - accuracy: 0.5900\n"
          ],
          "name": "stdout"
        }
      ]
    },
    {
      "cell_type": "code",
      "metadata": {
        "id": "UP2pwTHMPYA2",
        "colab_type": "code",
        "colab": {
          "base_uri": "https://localhost:8080/",
          "height": 34
        },
        "outputId": "3de223c5-5d18-4ac2-fdb1-cffac1b88f11"
      },
      "source": [
        "print(' Test Score : ' , score)"
      ],
      "execution_count": 26,
      "outputs": [
        {
          "output_type": "stream",
          "text": [
            " Test Score :  0.9493597745895386\n"
          ],
          "name": "stdout"
        }
      ]
    },
    {
      "cell_type": "code",
      "metadata": {
        "id": "Y68He4g3PfGY",
        "colab_type": "code",
        "colab": {
          "base_uri": "https://localhost:8080/",
          "height": 34
        },
        "outputId": "aab18a80-5d32-418b-f77a-0145dc43b5b2"
      },
      "source": [
        "print('Test Accuracy : ', acc)"
      ],
      "execution_count": 27,
      "outputs": [
        {
          "output_type": "stream",
          "text": [
            "Test Accuracy :  0.5899621248245239\n"
          ],
          "name": "stdout"
        }
      ]
    },
    {
      "cell_type": "code",
      "metadata": {
        "id": "vTIR0MNrcYxR",
        "colab_type": "code",
        "colab": {}
      },
      "source": [
        "def predict_function(y_pred) :\n",
        "\n",
        "  for i in range(y_pred.shape[0]) :\n",
        "\n",
        "    if y_pred[i][0] >= 0.5 :\n",
        "\n",
        "      y_pred[i][0] = 1\n",
        "\n",
        "    else :\n",
        "\n",
        "      y_pred[i][0] = 0\n",
        "\n",
        "  return y_pred.astype('int64')"
      ],
      "execution_count": 28,
      "outputs": []
    },
    {
      "cell_type": "code",
      "metadata": {
        "id": "1HcxwByxcZTY",
        "colab_type": "code",
        "colab": {}
      },
      "source": [
        "y_pred = predict_function(y_pred)"
      ],
      "execution_count": 29,
      "outputs": []
    },
    {
      "cell_type": "code",
      "metadata": {
        "id": "7g58nYSbdYr4",
        "colab_type": "code",
        "colab": {}
      },
      "source": [
        "y_test = y_test.reshape(-1,1)"
      ],
      "execution_count": 30,
      "outputs": []
    },
    {
      "cell_type": "code",
      "metadata": {
        "id": "EKB3RgAndTTh",
        "colab_type": "code",
        "colab": {
          "base_uri": "https://localhost:8080/",
          "height": 309
        },
        "outputId": "a85c0e38-af83-49a2-9bcc-fd088d262ddb"
      },
      "source": [
        "metrics  =  classification_report(y_test , y_pred , digits = 4)\n",
        "\n",
        "print('Classification Report ')\n",
        "\n",
        "print(\"\\n\")\n",
        "\n",
        "print(metrics)\n",
        "\n",
        "cm  =  confusion_matrix (y_test,y_pred)\n",
        "\n",
        "print('Confusion Matrix')\n",
        "\n",
        "print(\"\\n\")\n",
        "\n",
        "print(cm)"
      ],
      "execution_count": 31,
      "outputs": [
        {
          "output_type": "stream",
          "text": [
            "Classification Report \n",
            "\n",
            "\n",
            "              precision    recall  f1-score   support\n",
            "\n",
            "           0     0.6000    0.9183    0.7258       624\n",
            "           1     0.4950    0.1157    0.1876       432\n",
            "\n",
            "    accuracy                         0.5900      1056\n",
            "   macro avg     0.5475    0.5170    0.4567      1056\n",
            "weighted avg     0.5571    0.5900    0.5056      1056\n",
            "\n",
            "Confusion Matrix\n",
            "\n",
            "\n",
            "[[573  51]\n",
            " [382  50]]\n"
          ],
          "name": "stdout"
        }
      ]
    },
    {
      "cell_type": "code",
      "metadata": {
        "id": "wKs712yBM4OO",
        "colab_type": "code",
        "colab": {}
      },
      "source": [
        "def TestingOwnData(sentence) :\n",
        "  \n",
        "  X = np.zeros((1,sequence_size,300))\n",
        "\n",
        "  sentence = sentence.replace('-',' ')\n",
        "\n",
        "  words = nltk.word_tokenize(sentence)\n",
        "\n",
        "  j = 0\n",
        "\n",
        "  for  w  in  words :\n",
        "\n",
        "      try :\n",
        "          \n",
        "        X[0,j] = w2v[w]\n",
        "\n",
        "        j += 1\n",
        "\n",
        "      except :\n",
        "          \n",
        "        pass\n",
        "\n",
        "  if predict_function(model.predict(X))[0][0] == 1 :\n",
        "                      \n",
        "      return 'Fake News'\n",
        "\n",
        "  return 'Non Fake News'"
      ],
      "execution_count": 41,
      "outputs": []
    },
    {
      "cell_type": "code",
      "metadata": {
        "id": "F7A59GgSZv-r",
        "colab_type": "code",
        "colab": {
          "base_uri": "https://localhost:8080/",
          "height": 35
        },
        "outputId": "88f66162-fa4f-4800-c065-608ebc713f18"
      },
      "source": [
        "TestingOwnData('Amazing Inventions You Won’t Believe Exist')"
      ],
      "execution_count": 42,
      "outputs": [
        {
          "output_type": "execute_result",
          "data": {
            "application/vnd.google.colaboratory.intrinsic+json": {
              "type": "string"
            },
            "text/plain": [
              "'Non Fake News'"
            ]
          },
          "metadata": {
            "tags": []
          },
          "execution_count": 42
        }
      ]
    },
    {
      "cell_type": "code",
      "metadata": {
        "id": "yTWkeysIRp5l",
        "colab_type": "code",
        "colab": {
          "base_uri": "https://localhost:8080/",
          "height": 35
        },
        "outputId": "79619e09-5972-448a-c157-3c5f2a4aa0ff"
      },
      "source": [
        "TestingOwnData('Tamil Nadu reports 4,280 fresh COVID-19 cases and 65 deaths')"
      ],
      "execution_count": 43,
      "outputs": [
        {
          "output_type": "execute_result",
          "data": {
            "application/vnd.google.colaboratory.intrinsic+json": {
              "type": "string"
            },
            "text/plain": [
              "'Non Fake News'"
            ]
          },
          "metadata": {
            "tags": []
          },
          "execution_count": 43
        }
      ]
    },
    {
      "cell_type": "code",
      "metadata": {
        "id": "EFDKxdQCSRem",
        "colab_type": "code",
        "colab": {
          "base_uri": "https://localhost:8080/",
          "height": 35
        },
        "outputId": "dcecf253-7026-4a83-a88d-06373fc4a838"
      },
      "source": [
        "TestingOwnData('Can Face Masks Prevent You From Getting the Coronavirus? Doctors Weight In')"
      ],
      "execution_count": 44,
      "outputs": [
        {
          "output_type": "execute_result",
          "data": {
            "application/vnd.google.colaboratory.intrinsic+json": {
              "type": "string"
            },
            "text/plain": [
              "'Non Fake News'"
            ]
          },
          "metadata": {
            "tags": []
          },
          "execution_count": 44
        }
      ]
    },
    {
      "cell_type": "code",
      "metadata": {
        "id": "8MVbsB9fTA88",
        "colab_type": "code",
        "colab": {
          "base_uri": "https://localhost:8080/",
          "height": 35
        },
        "outputId": "1b989fec-32c3-42b1-f272-d312783b6e90"
      },
      "source": [
        "TestingOwnData('PM Modi asks to prepare Digital booklets documenting the relief works')"
      ],
      "execution_count": 45,
      "outputs": [
        {
          "output_type": "execute_result",
          "data": {
            "application/vnd.google.colaboratory.intrinsic+json": {
              "type": "string"
            },
            "text/plain": [
              "'Non Fake News'"
            ]
          },
          "metadata": {
            "tags": []
          },
          "execution_count": 45
        }
      ]
    },
    {
      "cell_type": "code",
      "metadata": {
        "id": "OGfcrnKnTF_8",
        "colab_type": "code",
        "colab": {
          "base_uri": "https://localhost:8080/",
          "height": 35
        },
        "outputId": "9a8cd6fa-6d43-4dbc-8b81-60663a3ae48f"
      },
      "source": [
        "TestingOwnData('No passenger flights to Kolkata from Delhi, Mumbai, Chennai and 3 other cities between Jul 6-19')"
      ],
      "execution_count": 46,
      "outputs": [
        {
          "output_type": "execute_result",
          "data": {
            "application/vnd.google.colaboratory.intrinsic+json": {
              "type": "string"
            },
            "text/plain": [
              "'Non Fake News'"
            ]
          },
          "metadata": {
            "tags": []
          },
          "execution_count": 46
        }
      ]
    }
  ]
}